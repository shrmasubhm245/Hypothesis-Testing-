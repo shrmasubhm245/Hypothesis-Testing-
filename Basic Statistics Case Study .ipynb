{
 "cells": [
  {
   "cell_type": "markdown",
   "id": "ca60459d",
   "metadata": {},
   "source": [
    "### Import packages:"
   ]
  },
  {
   "cell_type": "code",
   "execution_count": 1,
   "id": "63b59e5b",
   "metadata": {},
   "outputs": [],
   "source": [
    "# Data manipulations\n",
    "import numpy as np\n",
    "import pandas as pd\n",
    "\n",
    "# Data visualization\n",
    "import matplotlib.pyplot as plt\n",
    "import seaborn as sns\n",
    "\n",
    "# Statistical tests:\n",
    "import scipy.stats as stats"
   ]
  },
  {
   "cell_type": "markdown",
   "id": "c7cea160",
   "metadata": {},
   "source": [
    "##                                            BUSINESS PROBLEM-1"
   ]
  },
  {
   "cell_type": "markdown",
   "id": "6e175e7f",
   "metadata": {},
   "source": [
    "### Import dataset:"
   ]
  },
  {
   "cell_type": "code",
   "execution_count": 20,
   "id": "edd9c606",
   "metadata": {},
   "outputs": [
    {
     "data": {
      "text/html": [
       "<div>\n",
       "<style scoped>\n",
       "    .dataframe tbody tr th:only-of-type {\n",
       "        vertical-align: middle;\n",
       "    }\n",
       "\n",
       "    .dataframe tbody tr th {\n",
       "        vertical-align: top;\n",
       "    }\n",
       "\n",
       "    .dataframe thead th {\n",
       "        text-align: right;\n",
       "    }\n",
       "</style>\n",
       "<table border=\"1\" class=\"dataframe\">\n",
       "  <thead>\n",
       "    <tr style=\"text-align: right;\">\n",
       "      <th></th>\n",
       "      <th>Amount.Requested</th>\n",
       "      <th>Amount.Funded.By.Investors</th>\n",
       "      <th>Interest.Rate</th>\n",
       "      <th>Loan.Length</th>\n",
       "      <th>Loan.Purpose</th>\n",
       "      <th>Debt.To.Income.Ratio</th>\n",
       "      <th>State</th>\n",
       "      <th>Home.Ownership</th>\n",
       "      <th>Monthly.Income</th>\n",
       "      <th>FICO.Range</th>\n",
       "      <th>Open.CREDIT.Lines</th>\n",
       "      <th>Revolving.CREDIT.Balance</th>\n",
       "      <th>Inquiries.in.the.Last.6.Months</th>\n",
       "      <th>Employment.Length</th>\n",
       "    </tr>\n",
       "  </thead>\n",
       "  <tbody>\n",
       "    <tr>\n",
       "      <th>0</th>\n",
       "      <td>20000.0</td>\n",
       "      <td>20000.00</td>\n",
       "      <td>8.90%</td>\n",
       "      <td>36 months</td>\n",
       "      <td>debt_consolidation</td>\n",
       "      <td>14.90%</td>\n",
       "      <td>SC</td>\n",
       "      <td>MORTGAGE</td>\n",
       "      <td>6541.67</td>\n",
       "      <td>735-739</td>\n",
       "      <td>14.0</td>\n",
       "      <td>14272.0</td>\n",
       "      <td>2.0</td>\n",
       "      <td>&lt; 1 year</td>\n",
       "    </tr>\n",
       "    <tr>\n",
       "      <th>1</th>\n",
       "      <td>19200.0</td>\n",
       "      <td>19200.00</td>\n",
       "      <td>12.12%</td>\n",
       "      <td>36 months</td>\n",
       "      <td>debt_consolidation</td>\n",
       "      <td>28.36%</td>\n",
       "      <td>TX</td>\n",
       "      <td>MORTGAGE</td>\n",
       "      <td>4583.33</td>\n",
       "      <td>715-719</td>\n",
       "      <td>12.0</td>\n",
       "      <td>11140.0</td>\n",
       "      <td>1.0</td>\n",
       "      <td>2 years</td>\n",
       "    </tr>\n",
       "    <tr>\n",
       "      <th>2</th>\n",
       "      <td>35000.0</td>\n",
       "      <td>35000.00</td>\n",
       "      <td>21.98%</td>\n",
       "      <td>60 months</td>\n",
       "      <td>debt_consolidation</td>\n",
       "      <td>23.81%</td>\n",
       "      <td>CA</td>\n",
       "      <td>MORTGAGE</td>\n",
       "      <td>11500.00</td>\n",
       "      <td>690-694</td>\n",
       "      <td>14.0</td>\n",
       "      <td>21977.0</td>\n",
       "      <td>1.0</td>\n",
       "      <td>2 years</td>\n",
       "    </tr>\n",
       "    <tr>\n",
       "      <th>3</th>\n",
       "      <td>10000.0</td>\n",
       "      <td>9975.00</td>\n",
       "      <td>9.99%</td>\n",
       "      <td>36 months</td>\n",
       "      <td>debt_consolidation</td>\n",
       "      <td>14.30%</td>\n",
       "      <td>KS</td>\n",
       "      <td>MORTGAGE</td>\n",
       "      <td>3833.33</td>\n",
       "      <td>695-699</td>\n",
       "      <td>10.0</td>\n",
       "      <td>9346.0</td>\n",
       "      <td>0.0</td>\n",
       "      <td>5 years</td>\n",
       "    </tr>\n",
       "    <tr>\n",
       "      <th>4</th>\n",
       "      <td>12000.0</td>\n",
       "      <td>12000.00</td>\n",
       "      <td>11.71%</td>\n",
       "      <td>36 months</td>\n",
       "      <td>credit_card</td>\n",
       "      <td>18.78%</td>\n",
       "      <td>NJ</td>\n",
       "      <td>RENT</td>\n",
       "      <td>3195.00</td>\n",
       "      <td>695-699</td>\n",
       "      <td>11.0</td>\n",
       "      <td>14469.0</td>\n",
       "      <td>0.0</td>\n",
       "      <td>9 years</td>\n",
       "    </tr>\n",
       "    <tr>\n",
       "      <th>...</th>\n",
       "      <td>...</td>\n",
       "      <td>...</td>\n",
       "      <td>...</td>\n",
       "      <td>...</td>\n",
       "      <td>...</td>\n",
       "      <td>...</td>\n",
       "      <td>...</td>\n",
       "      <td>...</td>\n",
       "      <td>...</td>\n",
       "      <td>...</td>\n",
       "      <td>...</td>\n",
       "      <td>...</td>\n",
       "      <td>...</td>\n",
       "      <td>...</td>\n",
       "    </tr>\n",
       "    <tr>\n",
       "      <th>2495</th>\n",
       "      <td>30000.0</td>\n",
       "      <td>29950.00</td>\n",
       "      <td>16.77%</td>\n",
       "      <td>60 months</td>\n",
       "      <td>debt_consolidation</td>\n",
       "      <td>19.23%</td>\n",
       "      <td>NY</td>\n",
       "      <td>MORTGAGE</td>\n",
       "      <td>9250.00</td>\n",
       "      <td>705-709</td>\n",
       "      <td>15.0</td>\n",
       "      <td>45880.0</td>\n",
       "      <td>1.0</td>\n",
       "      <td>8 years</td>\n",
       "    </tr>\n",
       "    <tr>\n",
       "      <th>2496</th>\n",
       "      <td>16000.0</td>\n",
       "      <td>16000.00</td>\n",
       "      <td>14.09%</td>\n",
       "      <td>60 months</td>\n",
       "      <td>home_improvement</td>\n",
       "      <td>21.54%</td>\n",
       "      <td>MD</td>\n",
       "      <td>OWN</td>\n",
       "      <td>8903.25</td>\n",
       "      <td>740-744</td>\n",
       "      <td>18.0</td>\n",
       "      <td>18898.0</td>\n",
       "      <td>1.0</td>\n",
       "      <td>10+ years</td>\n",
       "    </tr>\n",
       "    <tr>\n",
       "      <th>2497</th>\n",
       "      <td>10000.0</td>\n",
       "      <td>10000.00</td>\n",
       "      <td>13.99%</td>\n",
       "      <td>36 months</td>\n",
       "      <td>debt_consolidation</td>\n",
       "      <td>4.89%</td>\n",
       "      <td>PA</td>\n",
       "      <td>MORTGAGE</td>\n",
       "      <td>2166.67</td>\n",
       "      <td>680-684</td>\n",
       "      <td>4.0</td>\n",
       "      <td>4544.0</td>\n",
       "      <td>0.0</td>\n",
       "      <td>10+ years</td>\n",
       "    </tr>\n",
       "    <tr>\n",
       "      <th>2498</th>\n",
       "      <td>6000.0</td>\n",
       "      <td>6000.00</td>\n",
       "      <td>12.42%</td>\n",
       "      <td>36 months</td>\n",
       "      <td>major_purchase</td>\n",
       "      <td>16.66%</td>\n",
       "      <td>NJ</td>\n",
       "      <td>RENT</td>\n",
       "      <td>3500.00</td>\n",
       "      <td>675-679</td>\n",
       "      <td>8.0</td>\n",
       "      <td>7753.0</td>\n",
       "      <td>0.0</td>\n",
       "      <td>5 years</td>\n",
       "    </tr>\n",
       "    <tr>\n",
       "      <th>2499</th>\n",
       "      <td>9000.0</td>\n",
       "      <td>5242.75</td>\n",
       "      <td>13.79%</td>\n",
       "      <td>36 months</td>\n",
       "      <td>debt_consolidation</td>\n",
       "      <td>6.76%</td>\n",
       "      <td>NY</td>\n",
       "      <td>RENT</td>\n",
       "      <td>3875.00</td>\n",
       "      <td>670-674</td>\n",
       "      <td>7.0</td>\n",
       "      <td>7589.0</td>\n",
       "      <td>0.0</td>\n",
       "      <td>10+ years</td>\n",
       "    </tr>\n",
       "  </tbody>\n",
       "</table>\n",
       "<p>2500 rows × 14 columns</p>\n",
       "</div>"
      ],
      "text/plain": [
       "      Amount.Requested  Amount.Funded.By.Investors Interest.Rate Loan.Length  \\\n",
       "0              20000.0                    20000.00         8.90%   36 months   \n",
       "1              19200.0                    19200.00        12.12%   36 months   \n",
       "2              35000.0                    35000.00        21.98%   60 months   \n",
       "3              10000.0                     9975.00         9.99%   36 months   \n",
       "4              12000.0                    12000.00        11.71%   36 months   \n",
       "...                ...                         ...           ...         ...   \n",
       "2495           30000.0                    29950.00        16.77%   60 months   \n",
       "2496           16000.0                    16000.00        14.09%   60 months   \n",
       "2497           10000.0                    10000.00        13.99%   36 months   \n",
       "2498            6000.0                     6000.00        12.42%   36 months   \n",
       "2499            9000.0                     5242.75        13.79%   36 months   \n",
       "\n",
       "            Loan.Purpose Debt.To.Income.Ratio State Home.Ownership  \\\n",
       "0     debt_consolidation               14.90%    SC       MORTGAGE   \n",
       "1     debt_consolidation               28.36%    TX       MORTGAGE   \n",
       "2     debt_consolidation               23.81%    CA       MORTGAGE   \n",
       "3     debt_consolidation               14.30%    KS       MORTGAGE   \n",
       "4            credit_card               18.78%    NJ           RENT   \n",
       "...                  ...                  ...   ...            ...   \n",
       "2495  debt_consolidation               19.23%    NY       MORTGAGE   \n",
       "2496    home_improvement               21.54%    MD            OWN   \n",
       "2497  debt_consolidation                4.89%    PA       MORTGAGE   \n",
       "2498      major_purchase               16.66%    NJ           RENT   \n",
       "2499  debt_consolidation                6.76%    NY           RENT   \n",
       "\n",
       "      Monthly.Income FICO.Range  Open.CREDIT.Lines  Revolving.CREDIT.Balance  \\\n",
       "0            6541.67    735-739               14.0                   14272.0   \n",
       "1            4583.33    715-719               12.0                   11140.0   \n",
       "2           11500.00    690-694               14.0                   21977.0   \n",
       "3            3833.33    695-699               10.0                    9346.0   \n",
       "4            3195.00    695-699               11.0                   14469.0   \n",
       "...              ...        ...                ...                       ...   \n",
       "2495         9250.00    705-709               15.0                   45880.0   \n",
       "2496         8903.25    740-744               18.0                   18898.0   \n",
       "2497         2166.67    680-684                4.0                    4544.0   \n",
       "2498         3500.00    675-679                8.0                    7753.0   \n",
       "2499         3875.00    670-674                7.0                    7589.0   \n",
       "\n",
       "      Inquiries.in.the.Last.6.Months Employment.Length  \n",
       "0                                2.0          < 1 year  \n",
       "1                                1.0           2 years  \n",
       "2                                1.0           2 years  \n",
       "3                                0.0           5 years  \n",
       "4                                0.0           9 years  \n",
       "...                              ...               ...  \n",
       "2495                             1.0           8 years  \n",
       "2496                             1.0         10+ years  \n",
       "2497                             0.0         10+ years  \n",
       "2498                             0.0           5 years  \n",
       "2499                             0.0         10+ years  \n",
       "\n",
       "[2500 rows x 14 columns]"
      ]
     },
     "execution_count": 20,
     "metadata": {},
     "output_type": "execute_result"
    }
   ],
   "source": [
    "LoansData = pd.read_csv(\"E:\\PYTHON_ANALYTICSLAB\\Basic Statistics - Hypothesis Testing\\LoansData.csv\")\n",
    "LoansData"
   ]
  },
  {
   "cell_type": "markdown",
   "id": "50e88cb6",
   "metadata": {},
   "source": [
    "### EDA:"
   ]
  },
  {
   "cell_type": "code",
   "execution_count": 21,
   "id": "c4e98194",
   "metadata": {},
   "outputs": [
    {
     "name": "stdout",
     "output_type": "stream",
     "text": [
      "<class 'pandas.core.frame.DataFrame'>\n",
      "RangeIndex: 2500 entries, 0 to 2499\n",
      "Data columns (total 14 columns):\n",
      " #   Column                          Non-Null Count  Dtype  \n",
      "---  ------                          --------------  -----  \n",
      " 0   Amount.Requested                2499 non-null   float64\n",
      " 1   Amount.Funded.By.Investors      2499 non-null   float64\n",
      " 2   Interest.Rate                   2498 non-null   object \n",
      " 3   Loan.Length                     2500 non-null   object \n",
      " 4   Loan.Purpose                    2500 non-null   object \n",
      " 5   Debt.To.Income.Ratio            2499 non-null   object \n",
      " 6   State                           2500 non-null   object \n",
      " 7   Home.Ownership                  2499 non-null   object \n",
      " 8   Monthly.Income                  2499 non-null   float64\n",
      " 9   FICO.Range                      2498 non-null   object \n",
      " 10  Open.CREDIT.Lines               2497 non-null   float64\n",
      " 11  Revolving.CREDIT.Balance        2497 non-null   float64\n",
      " 12  Inquiries.in.the.Last.6.Months  2497 non-null   float64\n",
      " 13  Employment.Length               2423 non-null   object \n",
      "dtypes: float64(6), object(8)\n",
      "memory usage: 273.6+ KB\n"
     ]
    }
   ],
   "source": [
    "LoansData.info()"
   ]
  },
  {
   "cell_type": "code",
   "execution_count": 22,
   "id": "91d875bf",
   "metadata": {},
   "outputs": [
    {
     "data": {
      "text/plain": [
       "Amount.Requested                   1\n",
       "Amount.Funded.By.Investors         1\n",
       "Interest.Rate                      2\n",
       "Loan.Length                        0\n",
       "Loan.Purpose                       0\n",
       "Debt.To.Income.Ratio               1\n",
       "State                              0\n",
       "Home.Ownership                     1\n",
       "Monthly.Income                     1\n",
       "FICO.Range                         2\n",
       "Open.CREDIT.Lines                  3\n",
       "Revolving.CREDIT.Balance           3\n",
       "Inquiries.in.the.Last.6.Months     3\n",
       "Employment.Length                 77\n",
       "dtype: int64"
      ]
     },
     "execution_count": 22,
     "metadata": {},
     "output_type": "execute_result"
    }
   ],
   "source": [
    "# checking for missing values:\n",
    "\n",
    "LoansData.isnull().sum()"
   ]
  },
  {
   "cell_type": "markdown",
   "id": "4c037f70",
   "metadata": {},
   "source": [
    "### Data prep:"
   ]
  },
  {
   "cell_type": "code",
   "execution_count": 23,
   "id": "77d64d21",
   "metadata": {},
   "outputs": [
    {
     "name": "stderr",
     "output_type": "stream",
     "text": [
      "C:\\Users\\SHUBHAM SHARMA\\AppData\\Local\\Temp\\ipykernel_11912\\2823608611.py:3: FutureWarning: The default value of regex will change from True to False in a future version. In addition, single character regular expressions will *not* be treated as literal strings when regex=True.\n",
      "  LoansData.columns = LoansData.columns.str.replace('.', '_')\n"
     ]
    }
   ],
   "source": [
    "# Renaming columns:\n",
    "\n",
    "LoansData.columns = LoansData.columns.str.replace('.', '_')"
   ]
  },
  {
   "cell_type": "code",
   "execution_count": 24,
   "id": "98c90764",
   "metadata": {},
   "outputs": [
    {
     "data": {
      "text/plain": [
       "Index(['Amount_Requested', 'Amount_Funded_By_Investors', 'Interest_Rate',\n",
       "       'Loan_Length', 'Loan_Purpose', 'Debt_To_Income_Ratio', 'State',\n",
       "       'Home_Ownership', 'Monthly_Income', 'FICO_Range', 'Open_CREDIT_Lines',\n",
       "       'Revolving_CREDIT_Balance', 'Inquiries_in_the_Last_6_Months',\n",
       "       'Employment_Length'],\n",
       "      dtype='object')"
      ]
     },
     "execution_count": 24,
     "metadata": {},
     "output_type": "execute_result"
    }
   ],
   "source": [
    "LoansData.columns"
   ]
  },
  {
   "cell_type": "code",
   "execution_count": 25,
   "id": "c267f672",
   "metadata": {},
   "outputs": [],
   "source": [
    "# Data type conversion:\n",
    "\n",
    "LoansData['Interest_Rate'] = LoansData.Interest_Rate.str.replace('%','').astype(float)\n",
    "LoansData['Debt_To_Income_Ratio'] = LoansData.Debt_To_Income_Ratio.str.replace('%','').astype(float)"
   ]
  },
  {
   "cell_type": "code",
   "execution_count": null,
   "id": "cdc2be99",
   "metadata": {},
   "outputs": [],
   "source": [
    "# Impute missing values with mean for continuous variables:\n",
    "\n",
    "continuous_vars = ['Amount_Requested','Amount_Funded_By_Investors', 'Interest_Rate','Debt_To_Income_Ratio','Monthly_Income', \n",
    "                   'Open_CREDIT_Lines','Revolving_CREDIT_Balance','Inquiries_in_the_Last_6_Months']\n",
    "for var in continuous_vars:\n",
    "    mean_value = LoansData[var].mean()\n",
    "    LoansData[var].fillna(mean_value, inplace=True)\n",
    "    \n",
    "# Impute missing values with mode for categorical variables\n",
    "categorical_vars = ['Home_Ownership','FICO_Range','Employment_Length']\n",
    "for var in categorical_vars:\n",
    "    mode_value = LoansData[var].mode()[0]\n",
    "    LoansData[var].fillna(mode_value, inplace=True)"
   ]
  },
  {
   "cell_type": "code",
   "execution_count": 28,
   "id": "15a7a086",
   "metadata": {},
   "outputs": [
    {
     "name": "stdout",
     "output_type": "stream",
     "text": [
      "<class 'pandas.core.frame.DataFrame'>\n",
      "RangeIndex: 2500 entries, 0 to 2499\n",
      "Data columns (total 14 columns):\n",
      " #   Column                          Non-Null Count  Dtype  \n",
      "---  ------                          --------------  -----  \n",
      " 0   Amount_Requested                2500 non-null   float64\n",
      " 1   Amount_Funded_By_Investors      2500 non-null   float64\n",
      " 2   Interest_Rate                   2500 non-null   float64\n",
      " 3   Loan_Length                     2500 non-null   object \n",
      " 4   Loan_Purpose                    2500 non-null   object \n",
      " 5   Debt_To_Income_Ratio            2500 non-null   float64\n",
      " 6   State                           2500 non-null   object \n",
      " 7   Home_Ownership                  2500 non-null   object \n",
      " 8   Monthly_Income                  2500 non-null   float64\n",
      " 9   FICO_Range                      2500 non-null   object \n",
      " 10  Open_CREDIT_Lines               2500 non-null   float64\n",
      " 11  Revolving_CREDIT_Balance        2500 non-null   float64\n",
      " 12  Inquiries_in_the_Last_6_Months  2500 non-null   float64\n",
      " 13  Employment_Length               2500 non-null   object \n",
      "dtypes: float64(8), object(6)\n",
      "memory usage: 273.6+ KB\n"
     ]
    }
   ],
   "source": [
    "LoansData.info()\n",
    "\n",
    "# final dataset to perform hypothesis testing"
   ]
  },
  {
   "cell_type": "markdown",
   "id": "4c1f5ab0",
   "metadata": {},
   "source": [
    "### a. Intrest rate is varied for different loan amounts (Less intrest charged for high loan amounts)"
   ]
  },
  {
   "cell_type": "markdown",
   "id": "2c6adf97",
   "metadata": {},
   "source": [
    "##### 1. Define Null Hypothesis, H0:\n",
    "            \n",
    "            There is no correlation between loan amount and interest rate.\n",
    "\n",
    "##### 2. Define Alternate Hypothesis, Ha:\n",
    "            \n",
    "            Interest rate is varied for different loan amounts\n",
    "\n",
    "##### 3. Define CI & p value:\n",
    "            \n",
    "    CI = 95%\n",
    "    p values = 0.05\n",
    "    \n",
    "##### 4. Perform the test:\n",
    "            \n",
    "            pearsonr"
   ]
  },
  {
   "cell_type": "code",
   "execution_count": 33,
   "id": "2e7db24c",
   "metadata": {},
   "outputs": [
    {
     "data": {
      "text/plain": [
       "PearsonRResult(statistic=0.3374266034415711, pvalue=1.2764840056932822e-67)"
      ]
     },
     "execution_count": 33,
     "metadata": {},
     "output_type": "execute_result"
    }
   ],
   "source": [
    "stats.pearsonr(LoansData.Amount_Funded_By_Investors, LoansData.Interest_Rate)"
   ]
  },
  {
   "cell_type": "markdown",
   "id": "248e6272",
   "metadata": {},
   "source": [
    "##### 5. Rejection Rule:\n",
    "            \n",
    "            From the above output, the pearson co-efficeint value = 0.3374266034415711, which shows near to intermediate                   direct relation \n",
    "            Hence, REJECT H0!!!!\n",
    "            \n",
    "                            OR\n",
    "                            \n",
    "             The new p value (1.2764840056932822e-67) from the output < assumed p value( 0.05)\n",
    "             Hence, REJECT H0!!!!"
   ]
  },
  {
   "cell_type": "markdown",
   "id": "dcfd4597",
   "metadata": {},
   "source": [
    "##### 6. Business Conclusion:\n",
    "                \n",
    "             There is a near to intermediate direct relation between the interest rate and loan amounts.\n",
    "        "
   ]
  },
  {
   "cell_type": "markdown",
   "id": "a8716805",
   "metadata": {},
   "source": [
    "### b. Loan length is directly effecting intrest rate."
   ]
  },
  {
   "cell_type": "code",
   "execution_count": 35,
   "id": "aeda3ed3",
   "metadata": {},
   "outputs": [
    {
     "data": {
      "text/plain": [
       "36 months    1952\n",
       "60 months     548\n",
       "Name: Loan_Length, dtype: int64"
      ]
     },
     "execution_count": 35,
     "metadata": {},
     "output_type": "execute_result"
    }
   ],
   "source": [
    "LoansData.Loan_Length.value_counts()\n",
    "\n",
    "# so we have two different loan lenghts : i) 36 months i.e. 3 years  ii ) 60 months i.e. 5 years "
   ]
  },
  {
   "cell_type": "markdown",
   "id": "334766d3",
   "metadata": {},
   "source": [
    "##### 1. Define Null Hypothesis, H0:\n",
    "            \n",
    "            u1 = u2  \n",
    "                 OR\n",
    "            different loan length have same mean of interest rate  \n",
    "\n",
    "##### 2. Define Alternate Hypothesis, Ha:\n",
    "            \n",
    "              u1 != u2 \n",
    "                 OR\n",
    "            different loan length have different mean of interest rate \n",
    "\n",
    "##### 3. Define CI & p value:\n",
    "            \n",
    "    CI = 95%\n",
    "    p values = 0.05\n",
    "    \n",
    "##### 4. Perform the test:\n",
    "            \n",
    "            T-test-individual"
   ]
  },
  {
   "cell_type": "code",
   "execution_count": 36,
   "id": "e3017a84",
   "metadata": {},
   "outputs": [],
   "source": [
    "s1 = LoansData.loc[LoansData.Loan_Length == '36 months', 'Interest_Rate']\n",
    "s2 = LoansData.loc[LoansData.Loan_Length == '60 months', 'Interest_Rate']"
   ]
  },
  {
   "cell_type": "code",
   "execution_count": 37,
   "id": "0e132732",
   "metadata": {},
   "outputs": [
    {
     "name": "stdout",
     "output_type": "stream",
     "text": [
      "Mean interest rate for loan length of 36 months =  12.127141791301895\n",
      "Mean interest rate for loan length of 60 months =  16.407463503649634\n"
     ]
    }
   ],
   "source": [
    "print('Mean interest rate for loan length of 36 months = ', s1.mean())\n",
    "print('Mean interest rate for loan length of 60 months = ', s2.mean())"
   ]
  },
  {
   "cell_type": "code",
   "execution_count": 40,
   "id": "32f32c6d",
   "metadata": {},
   "outputs": [
    {
     "data": {
      "text/plain": [
       "Ttest_indResult(statistic=-23.41049023613487, pvalue=9.54959606433256e-110)"
      ]
     },
     "execution_count": 40,
     "metadata": {},
     "output_type": "execute_result"
    }
   ],
   "source": [
    "# perform the test:\n",
    "\n",
    "stats.ttest_ind(s1,s2)"
   ]
  },
  {
   "cell_type": "markdown",
   "id": "7305590e",
   "metadata": {},
   "source": [
    "#### 5.Rejection Rule:\n",
    "\n",
    "             From above output p value (9.54959606433256e-110) < 0.05\n",
    "             Hence, Reject H0!!"
   ]
  },
  {
   "cell_type": "markdown",
   "id": "6c10e6ac",
   "metadata": {},
   "source": [
    "#### 6.Business Conclusion:\n",
    "                  \n",
    "                  Different loan lengths have different interest rate."
   ]
  },
  {
   "cell_type": "markdown",
   "id": "113bd331",
   "metadata": {},
   "source": [
    "### c. Inrest rate varies for different purpose of loans"
   ]
  },
  {
   "cell_type": "code",
   "execution_count": 39,
   "id": "f3bdba31",
   "metadata": {},
   "outputs": [
    {
     "data": {
      "text/plain": [
       "debt_consolidation    1307\n",
       "credit_card            444\n",
       "other                  201\n",
       "home_improvement       152\n",
       "major_purchase         101\n",
       "small_business          87\n",
       "car                     50\n",
       "wedding                 39\n",
       "medical                 30\n",
       "moving                  29\n",
       "vacation                21\n",
       "house                   20\n",
       "educational             15\n",
       "renewable_energy         4\n",
       "Name: Loan_Purpose, dtype: int64"
      ]
     },
     "execution_count": 39,
     "metadata": {},
     "output_type": "execute_result"
    }
   ],
   "source": [
    "LoansData.Loan_Purpose.value_counts()\n",
    "\n",
    "# we have 14 different loan purposes"
   ]
  },
  {
   "cell_type": "markdown",
   "id": "a6b77b7d",
   "metadata": {},
   "source": [
    "##### 1. Define Null Hypothesis, H0:\n",
    "            \n",
    "            \n",
    "            different loan purposes have same mean of interest rate  \n",
    "\n",
    "##### 2. Define Alternate Hypothesis, Ha:\n",
    "            \n",
    "              \n",
    "            different loan purposes have different mean of interest rate \n",
    "\n",
    "##### 3. Define CI & p value:\n",
    "            \n",
    "    CI = 95%\n",
    "    p values = 0.05\n",
    "    \n",
    "##### 4. Perform the test:\n",
    "            \n",
    "            F-Test or ANOVA "
   ]
  },
  {
   "cell_type": "code",
   "execution_count": 52,
   "id": "7fd485d8",
   "metadata": {},
   "outputs": [],
   "source": [
    "p1 = LoansData.loc[LoansData.Loan_Purpose == 'debt_consolidation', 'Interest_Rate']\n",
    "p2 = LoansData.loc[LoansData.Loan_Purpose == 'credit_card', 'Interest_Rate']\n",
    "p3 = LoansData.loc[LoansData.Loan_Purpose == 'other', 'Interest_Rate']\n",
    "p4 = LoansData.loc[LoansData.Loan_Purpose == 'home_improvement', 'Interest_Rate']\n",
    "p5 = LoansData.loc[LoansData.Loan_Purpose == 'major_purchase', 'Interest_Rate']\n",
    "p6 = LoansData.loc[LoansData.Loan_Purpose == 'small_business', 'Interest_Rate']\n",
    "p7 = LoansData.loc[LoansData.Loan_Purpose == 'car', 'Interest_Rate']\n",
    "p8 = LoansData.loc[LoansData.Loan_Purpose == 'wedding', 'Interest_Rate']\n",
    "p9 = LoansData.loc[LoansData.Loan_Purpose == 'medical', 'Interest_Rate']\n",
    "p10 = LoansData.loc[LoansData.Loan_Purpose == 'moving', 'Interest_Rate']\n",
    "p11 = LoansData.loc[LoansData.Loan_Purpose == 'vacation', 'Interest_Rate']\n",
    "p12 = LoansData.loc[LoansData.Loan_Purpose == 'house', 'Interest_Rate']\n",
    "p13 = LoansData.loc[LoansData.Loan_Purpose == 'educational', 'Interest_Rate']\n",
    "p14 = LoansData.loc[LoansData.Loan_Purpose == 'renewable_energy', 'Interest_Rate']"
   ]
  },
  {
   "cell_type": "code",
   "execution_count": 53,
   "id": "9852a360",
   "metadata": {},
   "outputs": [
    {
     "name": "stdout",
     "output_type": "stream",
     "text": [
      "Mean of interest rate for debt_consolidation purpose =  13.58691660290742\n",
      "Mean of interest rate for credit_card purpose =  13.05068781151047\n",
      "Mean of interest rate for other purpose =  13.15955223880597\n",
      "Mean of interest rate for home_improvement purpose =  11.594276315789473\n",
      "Mean of interest rate for major_purchase purpose =  10.797821782178216\n",
      "Mean of interest rate for small_business purpose =  12.83919540229885\n",
      "Mean of interest rate for car purpose =  11.113000000000001\n",
      "Mean of interest rate for wedding purpose =  12.073215084888425\n",
      "Mean of interest rate for medical purpose =  11.649666666666667\n",
      "Mean of interest rate for moving purpose =  13.621034482758622\n",
      "Mean of interest rate for vacation purpose =  11.966190476190476\n",
      "Mean of interest rate for house purpose =  13.447999999999999\n",
      "Mean of interest rate for educational purpose =  11.007333333333332\n",
      "Mean of interest rate for renewable_energy purpose =  9.8775\n"
     ]
    }
   ],
   "source": [
    "print('Mean of interest rate for debt_consolidation purpose = ', p1.mean())\n",
    "print('Mean of interest rate for credit_card purpose = ', p2.mean())\n",
    "print('Mean of interest rate for other purpose = ', p3.mean())\n",
    "print('Mean of interest rate for home_improvement purpose = ', p4.mean())\n",
    "print('Mean of interest rate for major_purchase purpose = ', p5.mean())\n",
    "print('Mean of interest rate for small_business purpose = ', p6.mean())\n",
    "print('Mean of interest rate for car purpose = ', p7.mean())\n",
    "print('Mean of interest rate for wedding purpose = ', p8.mean())\n",
    "print('Mean of interest rate for medical purpose = ', p9.mean())\n",
    "print('Mean of interest rate for moving purpose = ', p10.mean())\n",
    "print('Mean of interest rate for vacation purpose = ', p11.mean())\n",
    "print('Mean of interest rate for house purpose = ', p12.mean())\n",
    "print('Mean of interest rate for educational purpose = ', p13.mean())\n",
    "print('Mean of interest rate for renewable_energy purpose = ', p14.mean())\n"
   ]
  },
  {
   "cell_type": "code",
   "execution_count": 65,
   "id": "4aced9fd",
   "metadata": {},
   "outputs": [
    {
     "name": "stdout",
     "output_type": "stream",
     "text": [
      "Loan Purpose: debt_consolidation | Mean Interest Rate: 13.58691660290742\n",
      "Loan Purpose: credit_card | Mean Interest Rate: 13.05068781151047\n",
      "Loan Purpose: other | Mean Interest Rate: 13.15955223880597\n",
      "Loan Purpose: moving | Mean Interest Rate: 13.621034482758622\n",
      "Loan Purpose: car | Mean Interest Rate: 11.113000000000001\n",
      "Loan Purpose: vacation | Mean Interest Rate: 11.966190476190476\n",
      "Loan Purpose: home_improvement | Mean Interest Rate: 11.594276315789473\n",
      "Loan Purpose: house | Mean Interest Rate: 13.447999999999999\n",
      "Loan Purpose: major_purchase | Mean Interest Rate: 10.797821782178216\n",
      "Loan Purpose: educational | Mean Interest Rate: 11.007333333333332\n",
      "Loan Purpose: medical | Mean Interest Rate: 11.649666666666667\n",
      "Loan Purpose: wedding | Mean Interest Rate: 12.073215084888425\n",
      "Loan Purpose: small_business | Mean Interest Rate: 12.83919540229885\n",
      "Loan Purpose: renewable_energy | Mean Interest Rate: 9.8775\n"
     ]
    }
   ],
   "source": [
    "## Method 2 : Using UDF\n",
    "## UDF to return mean for each loan purpose \n",
    "\n",
    "def calculate_mean_interest_rate_by_purpose(dataframe):\n",
    "    purpose_mean_dict = {}\n",
    "    \n",
    "    # Iterate over each loan purpose\n",
    "    for purpose in dataframe['Loan_Purpose'].unique():\n",
    "        # Subset the data for the current purpose\n",
    "        subset = dataframe[dataframe['Loan_Purpose'] == purpose]\n",
    "        \n",
    "        # Calculate the mean interest rate for the current purpose\n",
    "        purpose_mean = subset['Interest_Rate'].mean()\n",
    "        \n",
    "        # Store the mean interest rate in the dictionary\n",
    "        purpose_mean_dict[purpose] = purpose_mean\n",
    "    \n",
    "    return purpose_mean_dict\n",
    "\n",
    "# Call the UDF to calculate the mean interest rate for each loan purpose\n",
    "mean_interest_rates = calculate_mean_interest_rate_by_purpose(LoansData)\n",
    "\n",
    "# Print the mean interest rates for each loan purpose\n",
    "for purpose, mean_rate in mean_interest_rates.items():\n",
    "    print(f\"Loan Purpose: {purpose} | Mean Interest Rate: {mean_rate}\")\n"
   ]
  },
  {
   "cell_type": "code",
   "execution_count": 54,
   "id": "a90ce160",
   "metadata": {},
   "outputs": [
    {
     "data": {
      "text/plain": [
       "F_onewayResult(statistic=7.482638784097436, pvalue=1.1599665535989115e-14)"
      ]
     },
     "execution_count": 54,
     "metadata": {},
     "output_type": "execute_result"
    }
   ],
   "source": [
    "stats.f_oneway(p1,p2,p3,p4,p5,p6,p7,p8,p9,p10,p11,p12,p13,p14)"
   ]
  },
  {
   "cell_type": "code",
   "execution_count": 66,
   "id": "9dd574bf",
   "metadata": {},
   "outputs": [
    {
     "data": {
      "text/plain": [
       "F_onewayResult(statistic=7.4826387840974355, pvalue=1.1599665535989115e-14)"
      ]
     },
     "execution_count": 66,
     "metadata": {},
     "output_type": "execute_result"
    }
   ],
   "source": [
    "# Method 2 : USING for loop:\n",
    "# Create an empty dictionary to store interest rates for each loan purpose\n",
    "purpose_rates = {}\n",
    "\n",
    "# Iterate over each loan purpose\n",
    "for purpose in LoansData['Loan_Purpose'].unique():\n",
    "    # Extract the interest rates for the current purpose\n",
    "    rates = LoansData[LoansData['Loan_Purpose'] == purpose]['Interest_Rate']\n",
    "    \n",
    "    # Add the interest rates to the dictionary\n",
    "    purpose_rates[purpose] = rates\n",
    "\n",
    "# Perform the F-test using the interest rate values from the dictionary\n",
    "stats.f_oneway(*purpose_rates.values())"
   ]
  },
  {
   "cell_type": "markdown",
   "id": "80340f3a",
   "metadata": {},
   "source": [
    "#### 5.Rejection Rule:\n",
    "\n",
    "             From above output p value (pvalue=1.1599665535989115e-14) < 0.05\n",
    "             Hence, Reject H0!!"
   ]
  },
  {
   "cell_type": "markdown",
   "id": "f7a2adc5",
   "metadata": {},
   "source": [
    "#### 6.Business Conclusion:\n",
    "                  \n",
    "                   Inrest rate varies for different purpose of loans \n",
    "                                             OR\n",
    "                   Different purposes of loans have different interest rate\n",
    "                   "
   ]
  },
  {
   "cell_type": "markdown",
   "id": "63e3f8e2",
   "metadata": {},
   "source": [
    "### d. There is relationship between FICO scores and Home Ownership. It means that, People with owning home will have high FICO scores."
   ]
  },
  {
   "cell_type": "code",
   "execution_count": 61,
   "id": "4de18cce",
   "metadata": {},
   "outputs": [
    {
     "name": "stdout",
     "output_type": "stream",
     "text": [
      "Unique FICO SCORES : 38\n",
      "unique Home Ownership : 5\n"
     ]
    }
   ],
   "source": [
    "print('Unique FICO SCORES :' , LoansData.FICO_Range.nunique() )\n",
    "print('unique Home Ownership :', LoansData.Home_Ownership.nunique())"
   ]
  },
  {
   "cell_type": "markdown",
   "id": "ab61d33e",
   "metadata": {},
   "source": [
    "##### 1. Define Null Hypothesis, H0:\n",
    "            \n",
    "            FICO scores and Home Ownership are independent on each other \n",
    "\n",
    "##### 2. Define Alternate Hypothesis, Ha:\n",
    "            \n",
    "            FICO scores and Home Ownership are dependent on each other \n",
    "\n",
    "##### 3. Define CI & p value:\n",
    "            \n",
    "    CI = 95%\n",
    "    p values = 0.05\n",
    "    \n",
    "##### 4. Perform the test:\n",
    "            \n",
    "            Chi-Square"
   ]
  },
  {
   "cell_type": "code",
   "execution_count": 62,
   "id": "7e83c449",
   "metadata": {},
   "outputs": [
    {
     "data": {
      "text/html": [
       "<div>\n",
       "<style scoped>\n",
       "    .dataframe tbody tr th:only-of-type {\n",
       "        vertical-align: middle;\n",
       "    }\n",
       "\n",
       "    .dataframe tbody tr th {\n",
       "        vertical-align: top;\n",
       "    }\n",
       "\n",
       "    .dataframe thead th {\n",
       "        text-align: right;\n",
       "    }\n",
       "</style>\n",
       "<table border=\"1\" class=\"dataframe\">\n",
       "  <thead>\n",
       "    <tr style=\"text-align: right;\">\n",
       "      <th>Home_Ownership</th>\n",
       "      <th>MORTGAGE</th>\n",
       "      <th>NONE</th>\n",
       "      <th>OTHER</th>\n",
       "      <th>OWN</th>\n",
       "      <th>RENT</th>\n",
       "    </tr>\n",
       "    <tr>\n",
       "      <th>FICO_Range</th>\n",
       "      <th></th>\n",
       "      <th></th>\n",
       "      <th></th>\n",
       "      <th></th>\n",
       "      <th></th>\n",
       "    </tr>\n",
       "  </thead>\n",
       "  <tbody>\n",
       "    <tr>\n",
       "      <th>640-644</th>\n",
       "      <td>0</td>\n",
       "      <td>0</td>\n",
       "      <td>0</td>\n",
       "      <td>1</td>\n",
       "      <td>4</td>\n",
       "    </tr>\n",
       "    <tr>\n",
       "      <th>645-649</th>\n",
       "      <td>1</td>\n",
       "      <td>0</td>\n",
       "      <td>0</td>\n",
       "      <td>0</td>\n",
       "      <td>2</td>\n",
       "    </tr>\n",
       "    <tr>\n",
       "      <th>650-654</th>\n",
       "      <td>1</td>\n",
       "      <td>0</td>\n",
       "      <td>0</td>\n",
       "      <td>0</td>\n",
       "      <td>0</td>\n",
       "    </tr>\n",
       "    <tr>\n",
       "      <th>655-659</th>\n",
       "      <td>0</td>\n",
       "      <td>0</td>\n",
       "      <td>1</td>\n",
       "      <td>0</td>\n",
       "      <td>3</td>\n",
       "    </tr>\n",
       "    <tr>\n",
       "      <th>660-664</th>\n",
       "      <td>41</td>\n",
       "      <td>0</td>\n",
       "      <td>0</td>\n",
       "      <td>17</td>\n",
       "      <td>67</td>\n",
       "    </tr>\n",
       "    <tr>\n",
       "      <th>665-669</th>\n",
       "      <td>52</td>\n",
       "      <td>0</td>\n",
       "      <td>0</td>\n",
       "      <td>18</td>\n",
       "      <td>75</td>\n",
       "    </tr>\n",
       "    <tr>\n",
       "      <th>670-674</th>\n",
       "      <td>68</td>\n",
       "      <td>0</td>\n",
       "      <td>1</td>\n",
       "      <td>13</td>\n",
       "      <td>91</td>\n",
       "    </tr>\n",
       "    <tr>\n",
       "      <th>675-679</th>\n",
       "      <td>79</td>\n",
       "      <td>0</td>\n",
       "      <td>1</td>\n",
       "      <td>11</td>\n",
       "      <td>75</td>\n",
       "    </tr>\n",
       "    <tr>\n",
       "      <th>680-684</th>\n",
       "      <td>55</td>\n",
       "      <td>0</td>\n",
       "      <td>2</td>\n",
       "      <td>9</td>\n",
       "      <td>91</td>\n",
       "    </tr>\n",
       "    <tr>\n",
       "      <th>685-689</th>\n",
       "      <td>61</td>\n",
       "      <td>0</td>\n",
       "      <td>0</td>\n",
       "      <td>10</td>\n",
       "      <td>65</td>\n",
       "    </tr>\n",
       "    <tr>\n",
       "      <th>690-694</th>\n",
       "      <td>55</td>\n",
       "      <td>0</td>\n",
       "      <td>0</td>\n",
       "      <td>10</td>\n",
       "      <td>75</td>\n",
       "    </tr>\n",
       "    <tr>\n",
       "      <th>695-699</th>\n",
       "      <td>68</td>\n",
       "      <td>0</td>\n",
       "      <td>0</td>\n",
       "      <td>10</td>\n",
       "      <td>75</td>\n",
       "    </tr>\n",
       "    <tr>\n",
       "      <th>700-704</th>\n",
       "      <td>60</td>\n",
       "      <td>0</td>\n",
       "      <td>0</td>\n",
       "      <td>12</td>\n",
       "      <td>59</td>\n",
       "    </tr>\n",
       "    <tr>\n",
       "      <th>705-709</th>\n",
       "      <td>66</td>\n",
       "      <td>0</td>\n",
       "      <td>0</td>\n",
       "      <td>12</td>\n",
       "      <td>56</td>\n",
       "    </tr>\n",
       "    <tr>\n",
       "      <th>710-714</th>\n",
       "      <td>55</td>\n",
       "      <td>0</td>\n",
       "      <td>0</td>\n",
       "      <td>10</td>\n",
       "      <td>47</td>\n",
       "    </tr>\n",
       "    <tr>\n",
       "      <th>715-719</th>\n",
       "      <td>46</td>\n",
       "      <td>0</td>\n",
       "      <td>0</td>\n",
       "      <td>2</td>\n",
       "      <td>45</td>\n",
       "    </tr>\n",
       "    <tr>\n",
       "      <th>720-724</th>\n",
       "      <td>49</td>\n",
       "      <td>0</td>\n",
       "      <td>0</td>\n",
       "      <td>1</td>\n",
       "      <td>64</td>\n",
       "    </tr>\n",
       "    <tr>\n",
       "      <th>725-729</th>\n",
       "      <td>48</td>\n",
       "      <td>0</td>\n",
       "      <td>0</td>\n",
       "      <td>5</td>\n",
       "      <td>41</td>\n",
       "    </tr>\n",
       "    <tr>\n",
       "      <th>730-734</th>\n",
       "      <td>46</td>\n",
       "      <td>0</td>\n",
       "      <td>0</td>\n",
       "      <td>7</td>\n",
       "      <td>41</td>\n",
       "    </tr>\n",
       "    <tr>\n",
       "      <th>735-739</th>\n",
       "      <td>30</td>\n",
       "      <td>0</td>\n",
       "      <td>0</td>\n",
       "      <td>6</td>\n",
       "      <td>29</td>\n",
       "    </tr>\n",
       "    <tr>\n",
       "      <th>740-744</th>\n",
       "      <td>26</td>\n",
       "      <td>0</td>\n",
       "      <td>0</td>\n",
       "      <td>4</td>\n",
       "      <td>23</td>\n",
       "    </tr>\n",
       "    <tr>\n",
       "      <th>745-749</th>\n",
       "      <td>26</td>\n",
       "      <td>0</td>\n",
       "      <td>0</td>\n",
       "      <td>7</td>\n",
       "      <td>21</td>\n",
       "    </tr>\n",
       "    <tr>\n",
       "      <th>750-754</th>\n",
       "      <td>32</td>\n",
       "      <td>0</td>\n",
       "      <td>0</td>\n",
       "      <td>4</td>\n",
       "      <td>25</td>\n",
       "    </tr>\n",
       "    <tr>\n",
       "      <th>755-759</th>\n",
       "      <td>28</td>\n",
       "      <td>0</td>\n",
       "      <td>0</td>\n",
       "      <td>6</td>\n",
       "      <td>12</td>\n",
       "    </tr>\n",
       "    <tr>\n",
       "      <th>760-764</th>\n",
       "      <td>28</td>\n",
       "      <td>0</td>\n",
       "      <td>0</td>\n",
       "      <td>4</td>\n",
       "      <td>14</td>\n",
       "    </tr>\n",
       "    <tr>\n",
       "      <th>765-769</th>\n",
       "      <td>22</td>\n",
       "      <td>0</td>\n",
       "      <td>0</td>\n",
       "      <td>3</td>\n",
       "      <td>11</td>\n",
       "    </tr>\n",
       "    <tr>\n",
       "      <th>770-774</th>\n",
       "      <td>12</td>\n",
       "      <td>0</td>\n",
       "      <td>0</td>\n",
       "      <td>1</td>\n",
       "      <td>4</td>\n",
       "    </tr>\n",
       "    <tr>\n",
       "      <th>775-779</th>\n",
       "      <td>13</td>\n",
       "      <td>0</td>\n",
       "      <td>0</td>\n",
       "      <td>3</td>\n",
       "      <td>6</td>\n",
       "    </tr>\n",
       "    <tr>\n",
       "      <th>780-784</th>\n",
       "      <td>21</td>\n",
       "      <td>0</td>\n",
       "      <td>0</td>\n",
       "      <td>3</td>\n",
       "      <td>4</td>\n",
       "    </tr>\n",
       "    <tr>\n",
       "      <th>785-789</th>\n",
       "      <td>12</td>\n",
       "      <td>0</td>\n",
       "      <td>0</td>\n",
       "      <td>2</td>\n",
       "      <td>5</td>\n",
       "    </tr>\n",
       "    <tr>\n",
       "      <th>790-794</th>\n",
       "      <td>15</td>\n",
       "      <td>0</td>\n",
       "      <td>0</td>\n",
       "      <td>1</td>\n",
       "      <td>4</td>\n",
       "    </tr>\n",
       "    <tr>\n",
       "      <th>795-799</th>\n",
       "      <td>7</td>\n",
       "      <td>0</td>\n",
       "      <td>0</td>\n",
       "      <td>1</td>\n",
       "      <td>5</td>\n",
       "    </tr>\n",
       "    <tr>\n",
       "      <th>800-804</th>\n",
       "      <td>7</td>\n",
       "      <td>1</td>\n",
       "      <td>0</td>\n",
       "      <td>3</td>\n",
       "      <td>2</td>\n",
       "    </tr>\n",
       "    <tr>\n",
       "      <th>805-809</th>\n",
       "      <td>6</td>\n",
       "      <td>0</td>\n",
       "      <td>0</td>\n",
       "      <td>2</td>\n",
       "      <td>3</td>\n",
       "    </tr>\n",
       "    <tr>\n",
       "      <th>810-814</th>\n",
       "      <td>5</td>\n",
       "      <td>0</td>\n",
       "      <td>0</td>\n",
       "      <td>1</td>\n",
       "      <td>2</td>\n",
       "    </tr>\n",
       "    <tr>\n",
       "      <th>815-819</th>\n",
       "      <td>6</td>\n",
       "      <td>0</td>\n",
       "      <td>0</td>\n",
       "      <td>0</td>\n",
       "      <td>0</td>\n",
       "    </tr>\n",
       "    <tr>\n",
       "      <th>820-824</th>\n",
       "      <td>0</td>\n",
       "      <td>0</td>\n",
       "      <td>0</td>\n",
       "      <td>1</td>\n",
       "      <td>0</td>\n",
       "    </tr>\n",
       "    <tr>\n",
       "      <th>830-834</th>\n",
       "      <td>1</td>\n",
       "      <td>0</td>\n",
       "      <td>0</td>\n",
       "      <td>0</td>\n",
       "      <td>0</td>\n",
       "    </tr>\n",
       "  </tbody>\n",
       "</table>\n",
       "</div>"
      ],
      "text/plain": [
       "Home_Ownership  MORTGAGE  NONE  OTHER  OWN  RENT\n",
       "FICO_Range                                      \n",
       "640-644                0     0      0    1     4\n",
       "645-649                1     0      0    0     2\n",
       "650-654                1     0      0    0     0\n",
       "655-659                0     0      1    0     3\n",
       "660-664               41     0      0   17    67\n",
       "665-669               52     0      0   18    75\n",
       "670-674               68     0      1   13    91\n",
       "675-679               79     0      1   11    75\n",
       "680-684               55     0      2    9    91\n",
       "685-689               61     0      0   10    65\n",
       "690-694               55     0      0   10    75\n",
       "695-699               68     0      0   10    75\n",
       "700-704               60     0      0   12    59\n",
       "705-709               66     0      0   12    56\n",
       "710-714               55     0      0   10    47\n",
       "715-719               46     0      0    2    45\n",
       "720-724               49     0      0    1    64\n",
       "725-729               48     0      0    5    41\n",
       "730-734               46     0      0    7    41\n",
       "735-739               30     0      0    6    29\n",
       "740-744               26     0      0    4    23\n",
       "745-749               26     0      0    7    21\n",
       "750-754               32     0      0    4    25\n",
       "755-759               28     0      0    6    12\n",
       "760-764               28     0      0    4    14\n",
       "765-769               22     0      0    3    11\n",
       "770-774               12     0      0    1     4\n",
       "775-779               13     0      0    3     6\n",
       "780-784               21     0      0    3     4\n",
       "785-789               12     0      0    2     5\n",
       "790-794               15     0      0    1     4\n",
       "795-799                7     0      0    1     5\n",
       "800-804                7     1      0    3     2\n",
       "805-809                6     0      0    2     3\n",
       "810-814                5     0      0    1     2\n",
       "815-819                6     0      0    0     0\n",
       "820-824                0     0      0    1     0\n",
       "830-834                1     0      0    0     0"
      ]
     },
     "execution_count": 62,
     "metadata": {},
     "output_type": "execute_result"
    }
   ],
   "source": [
    "### creating cross_tab\n",
    "\n",
    "obs = pd.crosstab(index= LoansData.FICO_Range , columns= LoansData.Home_Ownership)\n",
    "obs"
   ]
  },
  {
   "cell_type": "code",
   "execution_count": 63,
   "id": "d68b46a3",
   "metadata": {},
   "outputs": [
    {
     "data": {
      "text/plain": [
       "(473.564802816852,\n",
       " 1.0065160858472195e-35,\n",
       " 148,\n",
       " array([[2.29600e+00, 2.00000e-03, 1.00000e-02, 4.00000e-01, 2.29200e+00],\n",
       "        [1.37760e+00, 1.20000e-03, 6.00000e-03, 2.40000e-01, 1.37520e+00],\n",
       "        [4.59200e-01, 4.00000e-04, 2.00000e-03, 8.00000e-02, 4.58400e-01],\n",
       "        [1.83680e+00, 1.60000e-03, 8.00000e-03, 3.20000e-01, 1.83360e+00],\n",
       "        [5.74000e+01, 5.00000e-02, 2.50000e-01, 1.00000e+01, 5.73000e+01],\n",
       "        [6.65840e+01, 5.80000e-02, 2.90000e-01, 1.16000e+01, 6.64680e+01],\n",
       "        [7.94416e+01, 6.92000e-02, 3.46000e-01, 1.38400e+01, 7.93032e+01],\n",
       "        [7.62272e+01, 6.64000e-02, 3.32000e-01, 1.32800e+01, 7.60944e+01],\n",
       "        [7.20944e+01, 6.28000e-02, 3.14000e-01, 1.25600e+01, 7.19688e+01],\n",
       "        [6.24512e+01, 5.44000e-02, 2.72000e-01, 1.08800e+01, 6.23424e+01],\n",
       "        [6.42880e+01, 5.60000e-02, 2.80000e-01, 1.12000e+01, 6.41760e+01],\n",
       "        [7.02576e+01, 6.12000e-02, 3.06000e-01, 1.22400e+01, 7.01352e+01],\n",
       "        [6.01552e+01, 5.24000e-02, 2.62000e-01, 1.04800e+01, 6.00504e+01],\n",
       "        [6.15328e+01, 5.36000e-02, 2.68000e-01, 1.07200e+01, 6.14256e+01],\n",
       "        [5.14304e+01, 4.48000e-02, 2.24000e-01, 8.96000e+00, 5.13408e+01],\n",
       "        [4.27056e+01, 3.72000e-02, 1.86000e-01, 7.44000e+00, 4.26312e+01],\n",
       "        [5.23488e+01, 4.56000e-02, 2.28000e-01, 9.12000e+00, 5.22576e+01],\n",
       "        [4.31648e+01, 3.76000e-02, 1.88000e-01, 7.52000e+00, 4.30896e+01],\n",
       "        [4.31648e+01, 3.76000e-02, 1.88000e-01, 7.52000e+00, 4.30896e+01],\n",
       "        [2.98480e+01, 2.60000e-02, 1.30000e-01, 5.20000e+00, 2.97960e+01],\n",
       "        [2.43376e+01, 2.12000e-02, 1.06000e-01, 4.24000e+00, 2.42952e+01],\n",
       "        [2.47968e+01, 2.16000e-02, 1.08000e-01, 4.32000e+00, 2.47536e+01],\n",
       "        [2.80112e+01, 2.44000e-02, 1.22000e-01, 4.88000e+00, 2.79624e+01],\n",
       "        [2.11232e+01, 1.84000e-02, 9.20000e-02, 3.68000e+00, 2.10864e+01],\n",
       "        [2.11232e+01, 1.84000e-02, 9.20000e-02, 3.68000e+00, 2.10864e+01],\n",
       "        [1.65312e+01, 1.44000e-02, 7.20000e-02, 2.88000e+00, 1.65024e+01],\n",
       "        [7.80640e+00, 6.80000e-03, 3.40000e-02, 1.36000e+00, 7.79280e+00],\n",
       "        [1.01024e+01, 8.80000e-03, 4.40000e-02, 1.76000e+00, 1.00848e+01],\n",
       "        [1.28576e+01, 1.12000e-02, 5.60000e-02, 2.24000e+00, 1.28352e+01],\n",
       "        [8.72480e+00, 7.60000e-03, 3.80000e-02, 1.52000e+00, 8.70960e+00],\n",
       "        [9.18400e+00, 8.00000e-03, 4.00000e-02, 1.60000e+00, 9.16800e+00],\n",
       "        [5.96960e+00, 5.20000e-03, 2.60000e-02, 1.04000e+00, 5.95920e+00],\n",
       "        [5.96960e+00, 5.20000e-03, 2.60000e-02, 1.04000e+00, 5.95920e+00],\n",
       "        [5.05120e+00, 4.40000e-03, 2.20000e-02, 8.80000e-01, 5.04240e+00],\n",
       "        [3.67360e+00, 3.20000e-03, 1.60000e-02, 6.40000e-01, 3.66720e+00],\n",
       "        [2.75520e+00, 2.40000e-03, 1.20000e-02, 4.80000e-01, 2.75040e+00],\n",
       "        [4.59200e-01, 4.00000e-04, 2.00000e-03, 8.00000e-02, 4.58400e-01],\n",
       "        [4.59200e-01, 4.00000e-04, 2.00000e-03, 8.00000e-02, 4.58400e-01]]))"
      ]
     },
     "execution_count": 63,
     "metadata": {},
     "output_type": "execute_result"
    }
   ],
   "source": [
    "stats.chi2_contingency(obs)"
   ]
  },
  {
   "cell_type": "markdown",
   "id": "fb1a5a06",
   "metadata": {},
   "source": [
    "#### 5. Rejection rule:\n",
    "     \n",
    "           As it is clear from above output, observed and expected frequency table values are not same, so FICO scores and Home            Ownership are dependent on each other. Hence reject H0!!\n",
    "            \n",
    "                                                   OR\n",
    "                                                   \n",
    "           New p value (1.0065160858472195e-35) < 0.05, so reject H0!!\n",
    "                                       "
   ]
  },
  {
   "cell_type": "markdown",
   "id": "48b11bed",
   "metadata": {},
   "source": [
    "#### 6. Business conclusion:\n",
    "\n",
    "                FICO scores and Home Ownership are dependent on each other \n",
    "                But is is not clear that people who own home have high FICO scores"
   ]
  },
  {
   "cell_type": "markdown",
   "id": "712de375",
   "metadata": {},
   "source": [
    "##                                            BUSINESS PROBLEM-2"
   ]
  },
  {
   "cell_type": "code",
   "execution_count": 68,
   "id": "9f9ba536",
   "metadata": {},
   "outputs": [],
   "source": [
    "### Import datasets:"
   ]
  },
  {
   "cell_type": "code",
   "execution_count": 67,
   "id": "a4531620",
   "metadata": {},
   "outputs": [
    {
     "data": {
      "text/html": [
       "<div>\n",
       "<style scoped>\n",
       "    .dataframe tbody tr th:only-of-type {\n",
       "        vertical-align: middle;\n",
       "    }\n",
       "\n",
       "    .dataframe tbody tr th {\n",
       "        vertical-align: top;\n",
       "    }\n",
       "\n",
       "    .dataframe thead th {\n",
       "        text-align: right;\n",
       "    }\n",
       "</style>\n",
       "<table border=\"1\" class=\"dataframe\">\n",
       "  <thead>\n",
       "    <tr style=\"text-align: right;\">\n",
       "      <th></th>\n",
       "      <th>Order_Number</th>\n",
       "      <th>Barry_Price</th>\n",
       "      <th>Mary_Price</th>\n",
       "    </tr>\n",
       "  </thead>\n",
       "  <tbody>\n",
       "    <tr>\n",
       "      <th>0</th>\n",
       "      <td>1</td>\n",
       "      <td>126</td>\n",
       "      <td>114</td>\n",
       "    </tr>\n",
       "    <tr>\n",
       "      <th>1</th>\n",
       "      <td>2</td>\n",
       "      <td>110</td>\n",
       "      <td>118</td>\n",
       "    </tr>\n",
       "    <tr>\n",
       "      <th>2</th>\n",
       "      <td>3</td>\n",
       "      <td>138</td>\n",
       "      <td>114</td>\n",
       "    </tr>\n",
       "    <tr>\n",
       "      <th>3</th>\n",
       "      <td>4</td>\n",
       "      <td>142</td>\n",
       "      <td>111</td>\n",
       "    </tr>\n",
       "    <tr>\n",
       "      <th>4</th>\n",
       "      <td>5</td>\n",
       "      <td>146</td>\n",
       "      <td>129</td>\n",
       "    </tr>\n",
       "    <tr>\n",
       "      <th>5</th>\n",
       "      <td>6</td>\n",
       "      <td>136</td>\n",
       "      <td>119</td>\n",
       "    </tr>\n",
       "    <tr>\n",
       "      <th>6</th>\n",
       "      <td>7</td>\n",
       "      <td>94</td>\n",
       "      <td>97</td>\n",
       "    </tr>\n",
       "    <tr>\n",
       "      <th>7</th>\n",
       "      <td>8</td>\n",
       "      <td>103</td>\n",
       "      <td>104</td>\n",
       "    </tr>\n",
       "    <tr>\n",
       "      <th>8</th>\n",
       "      <td>9</td>\n",
       "      <td>140</td>\n",
       "      <td>127</td>\n",
       "    </tr>\n",
       "    <tr>\n",
       "      <th>9</th>\n",
       "      <td>10</td>\n",
       "      <td>152</td>\n",
       "      <td>133</td>\n",
       "    </tr>\n",
       "    <tr>\n",
       "      <th>10</th>\n",
       "      <td>11</td>\n",
       "      <td>108</td>\n",
       "      <td>103</td>\n",
       "    </tr>\n",
       "    <tr>\n",
       "      <th>11</th>\n",
       "      <td>12</td>\n",
       "      <td>97</td>\n",
       "      <td>108</td>\n",
       "    </tr>\n",
       "  </tbody>\n",
       "</table>\n",
       "</div>"
      ],
      "text/plain": [
       "    Order_Number  Barry_Price  Mary_Price\n",
       "0              1          126         114\n",
       "1              2          110         118\n",
       "2              3          138         114\n",
       "3              4          142         111\n",
       "4              5          146         129\n",
       "5              6          136         119\n",
       "6              7           94          97\n",
       "7              8          103         104\n",
       "8              9          140         127\n",
       "9             10          152         133\n",
       "10            11          108         103\n",
       "11            12           97         108"
      ]
     },
     "execution_count": 67,
     "metadata": {},
     "output_type": "execute_result"
    }
   ],
   "source": [
    "price_quotes = pd.read_csv(\"E:\\PYTHON_ANALYTICSLAB\\Basic Statistics - Hypothesis Testing\\Price_Quotes.csv\")\n",
    "price_quotes"
   ]
  },
  {
   "cell_type": "markdown",
   "id": "a495ccd7",
   "metadata": {},
   "source": [
    "##### 1. Define Null Hypothesis, H0:\n",
    "            \n",
    "            mean of price quote by Barry = mean of price quote by Mary\n",
    "            u1 = u2 \n",
    "\n",
    "##### 2. Define Alternate Hypothesis, Ha:\n",
    "            \n",
    "            mean of price quote by Barry =! mean of price quote by Mary\n",
    "            u1 =! u2\n",
    "\n",
    "##### 3. Define CI & p value:\n",
    "            \n",
    "    CI = 95%\n",
    "    p values = 0.05\n",
    "    \n",
    "##### 4. Perform the test:\n",
    "            \n",
    "            t-test"
   ]
  },
  {
   "cell_type": "code",
   "execution_count": 69,
   "id": "54de291f",
   "metadata": {},
   "outputs": [
    {
     "name": "stdout",
     "output_type": "stream",
     "text": [
      "Mean of price quote by Barry = 124.33333333333333\n",
      "Mean of price quote by Mary = 114.75\n"
     ]
    }
   ],
   "source": [
    "print('Mean of price quote by Barry =', price_quotes.Barry_Price.mean())\n",
    "print('Mean of price quote by Mary =', price_quotes.Mary_Price.mean())"
   ]
  },
  {
   "cell_type": "code",
   "execution_count": 70,
   "id": "7f038329",
   "metadata": {},
   "outputs": [
    {
     "data": {
      "text/plain": [
       "Ttest_relResult(statistic=2.5213765108923494, pvalue=0.02840588045242053)"
      ]
     },
     "execution_count": 70,
     "metadata": {},
     "output_type": "execute_result"
    }
   ],
   "source": [
    "stats.ttest_rel(price_quotes.Barry_Price, price_quotes.Mary_Price)"
   ]
  },
  {
   "cell_type": "markdown",
   "id": "b6fb9257",
   "metadata": {},
   "source": [
    "#### 5.Rejection rule:\n",
    "       As the new p value in above output(0.02840588045242053) < 0.05,\n",
    "       we reject H0!!"
   ]
  },
  {
   "cell_type": "markdown",
   "id": "ce164bc2",
   "metadata": {},
   "source": [
    "#### 6.Business Conclusion:\n",
    "\n",
    "         The average price quotes provided by Mary and Barry are different."
   ]
  },
  {
   "cell_type": "markdown",
   "id": "d556667c",
   "metadata": {},
   "source": [
    "##                                            BUSINESS PROBLEM-3"
   ]
  },
  {
   "cell_type": "markdown",
   "id": "a72bbd1c",
   "metadata": {},
   "source": [
    "### Import dataset:"
   ]
  },
  {
   "cell_type": "code",
   "execution_count": 71,
   "id": "d976dc51",
   "metadata": {},
   "outputs": [
    {
     "data": {
      "text/html": [
       "<div>\n",
       "<style scoped>\n",
       "    .dataframe tbody tr th:only-of-type {\n",
       "        vertical-align: middle;\n",
       "    }\n",
       "\n",
       "    .dataframe tbody tr th {\n",
       "        vertical-align: top;\n",
       "    }\n",
       "\n",
       "    .dataframe thead th {\n",
       "        text-align: right;\n",
       "    }\n",
       "</style>\n",
       "<table border=\"1\" class=\"dataframe\">\n",
       "  <thead>\n",
       "    <tr style=\"text-align: right;\">\n",
       "      <th></th>\n",
       "      <th>Month</th>\n",
       "      <th>Reengineer</th>\n",
       "      <th>Employee_Turnover</th>\n",
       "      <th>VAR4</th>\n",
       "      <th>VAR5</th>\n",
       "    </tr>\n",
       "  </thead>\n",
       "  <tbody>\n",
       "    <tr>\n",
       "      <th>0</th>\n",
       "      <td>1</td>\n",
       "      <td>Prior</td>\n",
       "      <td>0.0000</td>\n",
       "      <td>24.390244</td>\n",
       "      <td>42.682927</td>\n",
       "    </tr>\n",
       "    <tr>\n",
       "      <th>1</th>\n",
       "      <td>2</td>\n",
       "      <td>Prior</td>\n",
       "      <td>6.0606</td>\n",
       "      <td>19.354839</td>\n",
       "      <td>25.806452</td>\n",
       "    </tr>\n",
       "    <tr>\n",
       "      <th>2</th>\n",
       "      <td>3</td>\n",
       "      <td>Prior</td>\n",
       "      <td>12.1212</td>\n",
       "      <td>35.087719</td>\n",
       "      <td>146.198830</td>\n",
       "    </tr>\n",
       "    <tr>\n",
       "      <th>3</th>\n",
       "      <td>4</td>\n",
       "      <td>Prior</td>\n",
       "      <td>3.3333</td>\n",
       "      <td>18.404908</td>\n",
       "      <td>110.429448</td>\n",
       "    </tr>\n",
       "    <tr>\n",
       "      <th>4</th>\n",
       "      <td>5</td>\n",
       "      <td>Prior</td>\n",
       "      <td>12.9032</td>\n",
       "      <td>17.964072</td>\n",
       "      <td>23.952096</td>\n",
       "    </tr>\n",
       "    <tr>\n",
       "      <th>5</th>\n",
       "      <td>6</td>\n",
       "      <td>Prior</td>\n",
       "      <td>9.6774</td>\n",
       "      <td>41.176471</td>\n",
       "      <td>47.058824</td>\n",
       "    </tr>\n",
       "    <tr>\n",
       "      <th>6</th>\n",
       "      <td>7</td>\n",
       "      <td>Prior</td>\n",
       "      <td>11.7647</td>\n",
       "      <td>13.422819</td>\n",
       "      <td>0.000000</td>\n",
       "    </tr>\n",
       "    <tr>\n",
       "      <th>7</th>\n",
       "      <td>8</td>\n",
       "      <td>Prior</td>\n",
       "      <td>11.4286</td>\n",
       "      <td>31.250000</td>\n",
       "      <td>25.000000</td>\n",
       "    </tr>\n",
       "    <tr>\n",
       "      <th>8</th>\n",
       "      <td>9</td>\n",
       "      <td>Prior</td>\n",
       "      <td>23.0769</td>\n",
       "      <td>17.241379</td>\n",
       "      <td>132.183908</td>\n",
       "    </tr>\n",
       "    <tr>\n",
       "      <th>9</th>\n",
       "      <td>10</td>\n",
       "      <td>Prior</td>\n",
       "      <td>15.0000</td>\n",
       "      <td>16.574586</td>\n",
       "      <td>16.574586</td>\n",
       "    </tr>\n",
       "    <tr>\n",
       "      <th>10</th>\n",
       "      <td>11</td>\n",
       "      <td>Prior</td>\n",
       "      <td>10.0000</td>\n",
       "      <td>5.917160</td>\n",
       "      <td>88.757396</td>\n",
       "    </tr>\n",
       "    <tr>\n",
       "      <th>11</th>\n",
       "      <td>12</td>\n",
       "      <td>Prior</td>\n",
       "      <td>26.0870</td>\n",
       "      <td>21.164021</td>\n",
       "      <td>31.746032</td>\n",
       "    </tr>\n",
       "    <tr>\n",
       "      <th>12</th>\n",
       "      <td>13</td>\n",
       "      <td>Prior</td>\n",
       "      <td>11.1111</td>\n",
       "      <td>5.076142</td>\n",
       "      <td>10.152284</td>\n",
       "    </tr>\n",
       "    <tr>\n",
       "      <th>13</th>\n",
       "      <td>14</td>\n",
       "      <td>Post</td>\n",
       "      <td>26.6667</td>\n",
       "      <td>9.708738</td>\n",
       "      <td>29.126214</td>\n",
       "    </tr>\n",
       "    <tr>\n",
       "      <th>14</th>\n",
       "      <td>15</td>\n",
       "      <td>Post</td>\n",
       "      <td>17.9487</td>\n",
       "      <td>4.201681</td>\n",
       "      <td>21.008403</td>\n",
       "    </tr>\n",
       "    <tr>\n",
       "      <th>15</th>\n",
       "      <td>16</td>\n",
       "      <td>Post</td>\n",
       "      <td>12.8205</td>\n",
       "      <td>13.043478</td>\n",
       "      <td>34.782609</td>\n",
       "    </tr>\n",
       "    <tr>\n",
       "      <th>16</th>\n",
       "      <td>17</td>\n",
       "      <td>Post</td>\n",
       "      <td>15.7895</td>\n",
       "      <td>9.950249</td>\n",
       "      <td>19.900498</td>\n",
       "    </tr>\n",
       "    <tr>\n",
       "      <th>17</th>\n",
       "      <td>18</td>\n",
       "      <td>Post</td>\n",
       "      <td>0.0000</td>\n",
       "      <td>9.950249</td>\n",
       "      <td>9.950249</td>\n",
       "    </tr>\n",
       "    <tr>\n",
       "      <th>18</th>\n",
       "      <td>19</td>\n",
       "      <td>Post</td>\n",
       "      <td>30.7692</td>\n",
       "      <td>8.510638</td>\n",
       "      <td>25.531915</td>\n",
       "    </tr>\n",
       "    <tr>\n",
       "      <th>19</th>\n",
       "      <td>20</td>\n",
       "      <td>Post</td>\n",
       "      <td>26.8293</td>\n",
       "      <td>9.259259</td>\n",
       "      <td>23.148148</td>\n",
       "    </tr>\n",
       "  </tbody>\n",
       "</table>\n",
       "</div>"
      ],
      "text/plain": [
       "    Month Reengineer  Employee_Turnover       VAR4        VAR5\n",
       "0       1      Prior             0.0000  24.390244   42.682927\n",
       "1       2      Prior             6.0606  19.354839   25.806452\n",
       "2       3      Prior            12.1212  35.087719  146.198830\n",
       "3       4      Prior             3.3333  18.404908  110.429448\n",
       "4       5      Prior            12.9032  17.964072   23.952096\n",
       "5       6      Prior             9.6774  41.176471   47.058824\n",
       "6       7      Prior            11.7647  13.422819    0.000000\n",
       "7       8      Prior            11.4286  31.250000   25.000000\n",
       "8       9      Prior            23.0769  17.241379  132.183908\n",
       "9      10      Prior            15.0000  16.574586   16.574586\n",
       "10     11      Prior            10.0000   5.917160   88.757396\n",
       "11     12      Prior            26.0870  21.164021   31.746032\n",
       "12     13      Prior            11.1111   5.076142   10.152284\n",
       "13     14       Post            26.6667   9.708738   29.126214\n",
       "14     15       Post            17.9487   4.201681   21.008403\n",
       "15     16       Post            12.8205  13.043478   34.782609\n",
       "16     17       Post            15.7895   9.950249   19.900498\n",
       "17     18       Post             0.0000   9.950249    9.950249\n",
       "18     19       Post            30.7692   8.510638   25.531915\n",
       "19     20       Post            26.8293   9.259259   23.148148"
      ]
     },
     "execution_count": 71,
     "metadata": {},
     "output_type": "execute_result"
    }
   ],
   "source": [
    "Treatment_Facility = pd.read_csv(\"E:\\PYTHON_ANALYTICSLAB\\Basic Statistics - Hypothesis Testing\\Treatment_Facility.csv\")\n",
    "Treatment_Facility"
   ]
  },
  {
   "cell_type": "markdown",
   "id": "9bb022d1",
   "metadata": {},
   "source": [
    "### Is there any effect of the reengineering effort had on the incidence behavioral problems and staff turnover"
   ]
  },
  {
   "cell_type": "markdown",
   "id": "9c15149f",
   "metadata": {},
   "source": [
    "##### 1. Define Null Hypothesis, H0:\n",
    "            mean employee turnover prior to reengineering = mean employee turnover post to reengineering\n",
    "            u1 = u2\n",
    "             \n",
    "##### 2. Define Alternate Hypothesis, Ha:\n",
    "            \n",
    "            mean employee turnover prior to reengineering != mean employee turnover post to reengineering\n",
    "            u1 != u2\n",
    "            \n",
    "##### 3. Define CI & p value:\n",
    "            \n",
    "    CI = 95%\n",
    "    p values = 0.05\n",
    "    \n",
    "##### 4. Perform the test:\n",
    "            \n",
    "            t-test"
   ]
  },
  {
   "cell_type": "code",
   "execution_count": 73,
   "id": "54df4b60",
   "metadata": {},
   "outputs": [],
   "source": [
    "prior_reengineering = Treatment_Facility.loc[Treatment_Facility.Reengineer == 'Prior', 'Employee_Turnover']\n",
    "post_reengineering = Treatment_Facility.loc[Treatment_Facility.Reengineer == 'Post', 'Employee_Turnover']"
   ]
  },
  {
   "cell_type": "code",
   "execution_count": 74,
   "id": "b790d08c",
   "metadata": {},
   "outputs": [
    {
     "name": "stdout",
     "output_type": "stream",
     "text": [
      "Mean of employee turnover prior to reengineering =  11.735692307692307\n",
      "Mean of employee turnover post to reengineering =  18.68912857142857\n"
     ]
    }
   ],
   "source": [
    "print('Mean of employee turnover prior to reengineering = ', prior_reengineering.mean())\n",
    "print('Mean of employee turnover post to reengineering = ', post_reengineering.mean())"
   ]
  },
  {
   "cell_type": "code",
   "execution_count": 75,
   "id": "c8c859b2",
   "metadata": {},
   "outputs": [
    {
     "data": {
      "text/plain": [
       "Ttest_indResult(statistic=-1.770306704753604, pvalue=0.09361109345535304)"
      ]
     },
     "execution_count": 75,
     "metadata": {},
     "output_type": "execute_result"
    }
   ],
   "source": [
    "stats.ttest_ind(prior_reengineering, post_reengineering)"
   ]
  },
  {
   "cell_type": "markdown",
   "id": "267ee095",
   "metadata": {},
   "source": [
    "#### 5. Rejection reule:\n",
    "\n",
    "       p value obtaind in above output(0.09361109345535304) > 0.05\n",
    "       we  didn't reject H0!!"
   ]
  },
  {
   "cell_type": "markdown",
   "id": "f443a035",
   "metadata": {},
   "source": [
    "#### 6.Business Conclusion:\n",
    "                  \n",
    "                Employee turnover prior to reengineering may not be different from  employee turnover post to reengineering.\n",
    "                                                                 OR\n",
    "                   Reengineering efforts has no impact on employee turnover"
   ]
  },
  {
   "cell_type": "markdown",
   "id": "cf72781f",
   "metadata": {},
   "source": [
    "### Determine if the reengineering effort changed the critical incidence rate"
   ]
  },
  {
   "cell_type": "markdown",
   "id": "1842e178",
   "metadata": {},
   "source": [
    "#### As per the data the last column (VAR5) represent critical incidence rate (CI %)"
   ]
  },
  {
   "cell_type": "markdown",
   "id": "b614b0e6",
   "metadata": {},
   "source": [
    "##### 1. Define Null Hypothesis, H0:\n",
    "            mean critical incidence rate prior to reengineering = mean critical incidence rate turnover post to reengineering\n",
    "            u1 = u2\n",
    "             \n",
    "##### 2. Define Alternate Hypothesis, Ha:\n",
    "            \n",
    "            mean critical incidence rate prior to reengineering != mean critical incidence rate turnover post to reengineering\n",
    "            u1 != u2\n",
    "            \n",
    "##### 3. Define CI & p value:\n",
    "            \n",
    "    CI = 95%\n",
    "    p values = 0.05\n",
    "    \n",
    "##### 4. Perform the test:\n",
    "            \n",
    "            t-test"
   ]
  },
  {
   "cell_type": "code",
   "execution_count": 76,
   "id": "d6b53407",
   "metadata": {},
   "outputs": [],
   "source": [
    "prior_reengineering_CIR = Treatment_Facility.loc[Treatment_Facility.Reengineer == 'Prior', 'VAR5']\n",
    "post_reengineering_CIR = Treatment_Facility.loc[Treatment_Facility.Reengineer == 'Post', 'VAR5']"
   ]
  },
  {
   "cell_type": "code",
   "execution_count": 77,
   "id": "e0d5143e",
   "metadata": {},
   "outputs": [
    {
     "name": "stdout",
     "output_type": "stream",
     "text": [
      "Mean of critical incidence prior to reengineering =  53.887906321846145\n",
      "Mean of critical incidence post to reengineering =  23.34971927988571\n"
     ]
    }
   ],
   "source": [
    "print('Mean of critical incidence prior to reengineering = ', prior_reengineering_CIR.mean())\n",
    "print('Mean of critical incidence post to reengineering = ', post_reengineering_CIR.mean())"
   ]
  },
  {
   "cell_type": "code",
   "execution_count": 78,
   "id": "af534eb2",
   "metadata": {},
   "outputs": [
    {
     "data": {
      "text/plain": [
       "Ttest_indResult(statistic=1.627914425352865, pvalue=0.12091989189884148)"
      ]
     },
     "execution_count": 78,
     "metadata": {},
     "output_type": "execute_result"
    }
   ],
   "source": [
    "stats.ttest_ind(prior_reengineering_CIR, post_reengineering_CIR)"
   ]
  },
  {
   "cell_type": "markdown",
   "id": "4297aac4",
   "metadata": {},
   "source": [
    "#### 5. Rejection reule:\n",
    "\n",
    "       p value obtaind in above output(0.12091989189884148) > 0.05\n",
    "       we didn't reject H0!!"
   ]
  },
  {
   "cell_type": "markdown",
   "id": "d7303ea9",
   "metadata": {},
   "source": [
    "#### 6.Business Conclusion:\n",
    "                  \n",
    "                   Critical incidence rate prior to reengineering may or may not same for critical incidence rate  post to                        reengineering.\n",
    "                                                                 OR\n",
    "                  Based on given dataset reengineering efforts has no  impact on critical incidence rate\n",
    "                  \n",
    "           Based on given data there were no evidence that critical rate improved prior or post to reengineering"
   ]
  },
  {
   "cell_type": "markdown",
   "id": "2003cf3b",
   "metadata": {},
   "source": [
    "##                                            BUSINESS PROBLEM-4"
   ]
  },
  {
   "cell_type": "code",
   "execution_count": 80,
   "id": "5ad0d368",
   "metadata": {},
   "outputs": [
    {
     "data": {
      "text/html": [
       "<div>\n",
       "<style scoped>\n",
       "    .dataframe tbody tr th:only-of-type {\n",
       "        vertical-align: middle;\n",
       "    }\n",
       "\n",
       "    .dataframe tbody tr th {\n",
       "        vertical-align: top;\n",
       "    }\n",
       "\n",
       "    .dataframe thead th {\n",
       "        text-align: right;\n",
       "    }\n",
       "</style>\n",
       "<table border=\"1\" class=\"dataframe\">\n",
       "  <thead>\n",
       "    <tr style=\"text-align: right;\">\n",
       "      <th></th>\n",
       "      <th>Days</th>\n",
       "      <th>Priority</th>\n",
       "    </tr>\n",
       "  </thead>\n",
       "  <tbody>\n",
       "    <tr>\n",
       "      <th>0</th>\n",
       "      <td>3.3</td>\n",
       "      <td>High</td>\n",
       "    </tr>\n",
       "    <tr>\n",
       "      <th>1</th>\n",
       "      <td>7.9</td>\n",
       "      <td>Medium</td>\n",
       "    </tr>\n",
       "    <tr>\n",
       "      <th>2</th>\n",
       "      <td>0.3</td>\n",
       "      <td>High</td>\n",
       "    </tr>\n",
       "    <tr>\n",
       "      <th>3</th>\n",
       "      <td>0.7</td>\n",
       "      <td>Medium</td>\n",
       "    </tr>\n",
       "    <tr>\n",
       "      <th>4</th>\n",
       "      <td>8.6</td>\n",
       "      <td>Medium</td>\n",
       "    </tr>\n",
       "    <tr>\n",
       "      <th>...</th>\n",
       "      <td>...</td>\n",
       "      <td>...</td>\n",
       "    </tr>\n",
       "    <tr>\n",
       "      <th>637</th>\n",
       "      <td>2.5</td>\n",
       "      <td>Low</td>\n",
       "    </tr>\n",
       "    <tr>\n",
       "      <th>638</th>\n",
       "      <td>0.3</td>\n",
       "      <td>High</td>\n",
       "    </tr>\n",
       "    <tr>\n",
       "      <th>639</th>\n",
       "      <td>0.3</td>\n",
       "      <td>Medium</td>\n",
       "    </tr>\n",
       "    <tr>\n",
       "      <th>640</th>\n",
       "      <td>1.3</td>\n",
       "      <td>Medium</td>\n",
       "    </tr>\n",
       "    <tr>\n",
       "      <th>641</th>\n",
       "      <td>0.5</td>\n",
       "      <td>High</td>\n",
       "    </tr>\n",
       "  </tbody>\n",
       "</table>\n",
       "<p>642 rows × 2 columns</p>\n",
       "</div>"
      ],
      "text/plain": [
       "     Days Priority\n",
       "0     3.3     High\n",
       "1     7.9   Medium\n",
       "2     0.3     High\n",
       "3     0.7   Medium\n",
       "4     8.6   Medium\n",
       "..    ...      ...\n",
       "637   2.5      Low\n",
       "638   0.3     High\n",
       "639   0.3   Medium\n",
       "640   1.3   Medium\n",
       "641   0.5     High\n",
       "\n",
       "[642 rows x 2 columns]"
      ]
     },
     "execution_count": 80,
     "metadata": {},
     "output_type": "execute_result"
    }
   ],
   "source": [
    "### Import dataset :\n",
    "\n",
    "Priority_Assessment = pd.read_csv(\"E:\\PYTHON_ANALYTICSLAB\\Basic Statistics - Hypothesis Testing\\Priority_Assessment.csv\")\n",
    "Priority_Assessment"
   ]
  },
  {
   "cell_type": "code",
   "execution_count": 82,
   "id": "2884142a",
   "metadata": {},
   "outputs": [
    {
     "data": {
      "text/plain": [
       "High      326\n",
       "Medium    249\n",
       "Low        67\n",
       "Name: Priority, dtype: int64"
      ]
     },
     "execution_count": 82,
     "metadata": {},
     "output_type": "execute_result"
    }
   ],
   "source": []
  },
  {
   "cell_type": "markdown",
   "id": "290255fe",
   "metadata": {},
   "source": [
    "##### 1. Define Null Hypothesis, H0:\n",
    "            \n",
    "            u1 >= u2 >= u3 | u1 >= u2 <= u3 | u1 <= u2 >= u3\n",
    "                 OR\n",
    "       avg mean time for high priority jobs >= avg mean time for medium priority jobs >= avg mean time for low priority jobs |\n",
    "       avg mean time for high priority jobs >= avg mean time for medium priority jobs <= avg mean time for low priority jobs |\n",
    "       avg mean time for high priority jobs <= avg mean time for medium priority jobs >= avg mean time for low priority jobs\n",
    "\n",
    "##### 2. Define Alternate Hypothesis, Ha:\n",
    "            \n",
    "              u1 < u2 < u3 \n",
    "                 OR\n",
    "        avg mean time for high priority jobs < avg mean time for medium priority jobs < avg mean time for low priority jobs\n",
    "\n",
    "##### 3. Define CI & p value:\n",
    "            \n",
    "    CI = 95%\n",
    "    p values = 0.05\n",
    "    \n",
    "##### 4. Perform the test:\n",
    "            \n",
    "            F-Test or ANOVA "
   ]
  },
  {
   "cell_type": "code",
   "execution_count": 83,
   "id": "e8bfaedb",
   "metadata": {},
   "outputs": [],
   "source": [
    "high_priority = Priority_Assessment.loc[Priority_Assessment.Priority == 'High', 'Days']\n",
    "medium_priority = Priority_Assessment.loc[Priority_Assessment.Priority == 'Medium', 'Days']\n",
    "low_priority = Priority_Assessment.loc[Priority_Assessment.Priority == 'Low', 'Days']"
   ]
  },
  {
   "cell_type": "code",
   "execution_count": 87,
   "id": "867fb9d6",
   "metadata": {},
   "outputs": [
    {
     "name": "stdout",
     "output_type": "stream",
     "text": [
      "Mean time for project completion having high priority = 3.0236196319018402 days\n",
      "Mean time for project completion having medium priority = 2.5 days\n",
      "Mean time for project completion having low priority = 4.228358208955224 days\n"
     ]
    }
   ],
   "source": [
    "print('Mean time for project completion having high priority =', high_priority.mean(), 'days')\n",
    "print('Mean time for project completion having medium priority =', medium_priority.mean(), 'days')\n",
    "print('Mean time for project completion having low priority =', low_priority.mean(), 'days')"
   ]
  },
  {
   "cell_type": "code",
   "execution_count": 88,
   "id": "1b780b3e",
   "metadata": {},
   "outputs": [
    {
     "data": {
      "text/plain": [
       "F_onewayResult(statistic=1.812311010076072, pvalue=0.16411459461716182)"
      ]
     },
     "execution_count": 88,
     "metadata": {},
     "output_type": "execute_result"
    }
   ],
   "source": [
    "# perform the test:\n",
    "\n",
    "stats.f_oneway(high_priority, medium_priority,low_priority)"
   ]
  },
  {
   "cell_type": "markdown",
   "id": "5508236f",
   "metadata": {},
   "source": [
    "#### 5.Rejection Rule:\n",
    "\n",
    "             From above output p value (0.16411459461716182) > 0.05\n",
    "             Hence,we didn't reject H0!!"
   ]
  },
  {
   "cell_type": "markdown",
   "id": "0dde1faf",
   "metadata": {},
   "source": [
    "#### 6.Business Conclusion:\n",
    "                    Based on given dataset high priority jobs, on average, should not be completed more quickly than medium                         priority jobs, and medium priority jobs should be completed more quickly than low priority jobs.\n",
    "                    So, on basis of given data system is not working properly\n",
    "                   "
   ]
  },
  {
   "cell_type": "markdown",
   "id": "1416beff",
   "metadata": {},
   "source": [
    "                    And also it is clear from calculation of mean that mean time compltion of medium priority job < mean                           time compltion of medium priority jobs. \n",
    "                    But if system works properly then high priority jobs will took least amount of time "
   ]
  },
  {
   "cell_type": "markdown",
   "id": "f2bed406",
   "metadata": {},
   "source": [
    "##                                            BUSINESS PROBLEM-5"
   ]
  },
  {
   "cell_type": "markdown",
   "id": "cd20cf5f",
   "metadata": {},
   "source": [
    "### import dataset:"
   ]
  },
  {
   "cell_type": "code",
   "execution_count": 25,
   "id": "cb21075c",
   "metadata": {},
   "outputs": [
    {
     "data": {
      "text/html": [
       "<div>\n",
       "<style scoped>\n",
       "    .dataframe tbody tr th:only-of-type {\n",
       "        vertical-align: middle;\n",
       "    }\n",
       "\n",
       "    .dataframe tbody tr th {\n",
       "        vertical-align: top;\n",
       "    }\n",
       "\n",
       "    .dataframe thead th {\n",
       "        text-align: right;\n",
       "    }\n",
       "</style>\n",
       "<table border=\"1\" class=\"dataframe\">\n",
       "  <thead>\n",
       "    <tr style=\"text-align: right;\">\n",
       "      <th></th>\n",
       "      <th>_rowstate_</th>\n",
       "      <th>Movie</th>\n",
       "      <th>Gender</th>\n",
       "      <th>Marital_Status</th>\n",
       "      <th>Sinage</th>\n",
       "      <th>Parking</th>\n",
       "      <th>Clean</th>\n",
       "      <th>Overall</th>\n",
       "      <th>Age</th>\n",
       "      <th>Income</th>\n",
       "      <th>Hear_About</th>\n",
       "    </tr>\n",
       "  </thead>\n",
       "  <tbody>\n",
       "    <tr>\n",
       "      <th>0</th>\n",
       "      <td>0</td>\n",
       "      <td>Ferris Buellers Day Off</td>\n",
       "      <td>Female</td>\n",
       "      <td>Married</td>\n",
       "      <td>2.0</td>\n",
       "      <td>2.0</td>\n",
       "      <td>2.0</td>\n",
       "      <td>2.0</td>\n",
       "      <td>3.0</td>\n",
       "      <td>1.0</td>\n",
       "      <td>5</td>\n",
       "    </tr>\n",
       "    <tr>\n",
       "      <th>1</th>\n",
       "      <td>0</td>\n",
       "      <td>Ferris Buellers Day Off</td>\n",
       "      <td>Female</td>\n",
       "      <td>Single</td>\n",
       "      <td>1.0</td>\n",
       "      <td>1.0</td>\n",
       "      <td>1.0</td>\n",
       "      <td>1.0</td>\n",
       "      <td>2.0</td>\n",
       "      <td>1.0</td>\n",
       "      <td>5</td>\n",
       "    </tr>\n",
       "    <tr>\n",
       "      <th>2</th>\n",
       "      <td>0</td>\n",
       "      <td>Ferris Buellers Day Off</td>\n",
       "      <td>Male</td>\n",
       "      <td>Married</td>\n",
       "      <td>2.0</td>\n",
       "      <td>4.0</td>\n",
       "      <td>3.0</td>\n",
       "      <td>2.0</td>\n",
       "      <td>4.0</td>\n",
       "      <td>1.0</td>\n",
       "      <td>5</td>\n",
       "    </tr>\n",
       "    <tr>\n",
       "      <th>3</th>\n",
       "      <td>0</td>\n",
       "      <td>Ferris Buellers Day Off</td>\n",
       "      <td>Female</td>\n",
       "      <td>Married</td>\n",
       "      <td>1.0</td>\n",
       "      <td>3.0</td>\n",
       "      <td>2.0</td>\n",
       "      <td>2.0</td>\n",
       "      <td>4.0</td>\n",
       "      <td>1.0</td>\n",
       "      <td>5</td>\n",
       "    </tr>\n",
       "    <tr>\n",
       "      <th>4</th>\n",
       "      <td>0</td>\n",
       "      <td>Ferris Buellers Day Off</td>\n",
       "      <td>Female</td>\n",
       "      <td>Married</td>\n",
       "      <td>1.0</td>\n",
       "      <td>1.0</td>\n",
       "      <td>1.0</td>\n",
       "      <td>1.0</td>\n",
       "      <td>3.0</td>\n",
       "      <td>3.0</td>\n",
       "      <td>1</td>\n",
       "    </tr>\n",
       "    <tr>\n",
       "      <th>...</th>\n",
       "      <td>...</td>\n",
       "      <td>...</td>\n",
       "      <td>...</td>\n",
       "      <td>...</td>\n",
       "      <td>...</td>\n",
       "      <td>...</td>\n",
       "      <td>...</td>\n",
       "      <td>...</td>\n",
       "      <td>...</td>\n",
       "      <td>...</td>\n",
       "      <td>...</td>\n",
       "    </tr>\n",
       "    <tr>\n",
       "      <th>325</th>\n",
       "      <td>0</td>\n",
       "      <td>Old School</td>\n",
       "      <td>2</td>\n",
       "      <td>2</td>\n",
       "      <td>1.0</td>\n",
       "      <td>2.0</td>\n",
       "      <td>1.0</td>\n",
       "      <td>1.0</td>\n",
       "      <td>2.0</td>\n",
       "      <td>1.0</td>\n",
       "      <td>1</td>\n",
       "    </tr>\n",
       "    <tr>\n",
       "      <th>326</th>\n",
       "      <td>0</td>\n",
       "      <td>Old School</td>\n",
       "      <td>1</td>\n",
       "      <td>1</td>\n",
       "      <td>2.0</td>\n",
       "      <td>2.0</td>\n",
       "      <td>2.0</td>\n",
       "      <td>2.0</td>\n",
       "      <td>3.0</td>\n",
       "      <td>3.0</td>\n",
       "      <td>5</td>\n",
       "    </tr>\n",
       "    <tr>\n",
       "      <th>327</th>\n",
       "      <td>0</td>\n",
       "      <td>Old School</td>\n",
       "      <td>2</td>\n",
       "      <td>1</td>\n",
       "      <td>2.0</td>\n",
       "      <td>1.0</td>\n",
       "      <td>1.0</td>\n",
       "      <td>2.0</td>\n",
       "      <td>2.0</td>\n",
       "      <td>2.0</td>\n",
       "      <td>5</td>\n",
       "    </tr>\n",
       "    <tr>\n",
       "      <th>328</th>\n",
       "      <td>0</td>\n",
       "      <td>Old School</td>\n",
       "      <td>1</td>\n",
       "      <td>1</td>\n",
       "      <td>1.0</td>\n",
       "      <td>1.0</td>\n",
       "      <td>1.0</td>\n",
       "      <td>1.0</td>\n",
       "      <td>2.0</td>\n",
       "      <td>1.0</td>\n",
       "      <td>3</td>\n",
       "    </tr>\n",
       "    <tr>\n",
       "      <th>329</th>\n",
       "      <td>0</td>\n",
       "      <td>Old School</td>\n",
       "      <td>2</td>\n",
       "      <td>2</td>\n",
       "      <td>2.0</td>\n",
       "      <td>2.0</td>\n",
       "      <td>3.0</td>\n",
       "      <td>1.0</td>\n",
       "      <td>2.0</td>\n",
       "      <td>1.0</td>\n",
       "      <td>5</td>\n",
       "    </tr>\n",
       "  </tbody>\n",
       "</table>\n",
       "<p>330 rows × 11 columns</p>\n",
       "</div>"
      ],
      "text/plain": [
       "     _rowstate_                    Movie  Gender Marital_Status  Sinage  \\\n",
       "0             0  Ferris Buellers Day Off  Female        Married     2.0   \n",
       "1             0  Ferris Buellers Day Off  Female         Single     1.0   \n",
       "2             0  Ferris Buellers Day Off    Male        Married     2.0   \n",
       "3             0  Ferris Buellers Day Off  Female        Married     1.0   \n",
       "4             0  Ferris Buellers Day Off  Female        Married     1.0   \n",
       "..          ...                      ...     ...            ...     ...   \n",
       "325           0               Old School       2              2     1.0   \n",
       "326           0               Old School       1              1     2.0   \n",
       "327           0               Old School       2              1     2.0   \n",
       "328           0               Old School       1              1     1.0   \n",
       "329           0               Old School       2              2     2.0   \n",
       "\n",
       "     Parking  Clean  Overall  Age  Income Hear_About  \n",
       "0        2.0    2.0      2.0  3.0     1.0          5  \n",
       "1        1.0    1.0      1.0  2.0     1.0          5  \n",
       "2        4.0    3.0      2.0  4.0     1.0          5  \n",
       "3        3.0    2.0      2.0  4.0     1.0          5  \n",
       "4        1.0    1.0      1.0  3.0     3.0          1  \n",
       "..       ...    ...      ...  ...     ...        ...  \n",
       "325      2.0    1.0      1.0  2.0     1.0          1  \n",
       "326      2.0    2.0      2.0  3.0     3.0          5  \n",
       "327      1.0    1.0      2.0  2.0     2.0          5  \n",
       "328      1.0    1.0      1.0  2.0     1.0          3  \n",
       "329      2.0    3.0      1.0  2.0     1.0          5  \n",
       "\n",
       "[330 rows x 11 columns]"
      ]
     },
     "execution_count": 25,
     "metadata": {},
     "output_type": "execute_result"
    }
   ],
   "source": [
    "films = pd.read_csv(\"E:\\PYTHON_ANALYTICSLAB\\Basic Statistics - Hypothesis Testing\\Films.csv\")\n",
    "films"
   ]
  },
  {
   "cell_type": "code",
   "execution_count": 26,
   "id": "f4dfc305",
   "metadata": {},
   "outputs": [
    {
     "name": "stdout",
     "output_type": "stream",
     "text": [
      "<class 'pandas.core.frame.DataFrame'>\n",
      "RangeIndex: 330 entries, 0 to 329\n",
      "Data columns (total 11 columns):\n",
      " #   Column          Non-Null Count  Dtype  \n",
      "---  ------          --------------  -----  \n",
      " 0   _rowstate_      330 non-null    int64  \n",
      " 1   Movie           330 non-null    object \n",
      " 2   Gender          330 non-null    object \n",
      " 3   Marital_Status  328 non-null    object \n",
      " 4   Sinage          328 non-null    float64\n",
      " 5   Parking         328 non-null    float64\n",
      " 6   Clean           327 non-null    float64\n",
      " 7   Overall         328 non-null    float64\n",
      " 8   Age             328 non-null    float64\n",
      " 9   Income          314 non-null    float64\n",
      " 10  Hear_About      323 non-null    object \n",
      "dtypes: float64(6), int64(1), object(4)\n",
      "memory usage: 28.5+ KB\n"
     ]
    }
   ],
   "source": [
    "films.info()"
   ]
  },
  {
   "cell_type": "code",
   "execution_count": 27,
   "id": "0b2be1e2",
   "metadata": {},
   "outputs": [
    {
     "data": {
      "text/plain": [
       "_rowstate_         0\n",
       "Movie              0\n",
       "Gender             0\n",
       "Marital_Status     2\n",
       "Sinage             2\n",
       "Parking            2\n",
       "Clean              3\n",
       "Overall            2\n",
       "Age                2\n",
       "Income            16\n",
       "Hear_About         7\n",
       "dtype: int64"
      ]
     },
     "execution_count": 27,
     "metadata": {},
     "output_type": "execute_result"
    }
   ],
   "source": [
    "# missing values :\n",
    "films.isna().sum()"
   ]
  },
  {
   "cell_type": "code",
   "execution_count": 28,
   "id": "e3abed41",
   "metadata": {},
   "outputs": [
    {
     "name": "stdout",
     "output_type": "stream",
     "text": [
      "Column: _rowstate_\n",
      "0    330\n",
      "Name: _rowstate_, dtype: int64\n",
      "\n",
      "Column: Movie\n",
      "Willy Wonka                161\n",
      "Ferris Buellers Day Off    137\n",
      "Old School                  32\n",
      "Name: Movie, dtype: int64\n",
      "\n",
      "Column: Gender\n",
      "2         194\n",
      "1         104\n",
      "Female     19\n",
      "Male       13\n",
      "Name: Gender, dtype: int64\n",
      "\n",
      "Column: Marital_Status\n",
      "2          208\n",
      "1           88\n",
      "Single      18\n",
      "Married     12\n",
      "Slngle       2\n",
      "Name: Marital_Status, dtype: int64\n",
      "\n",
      "Column: Sinage\n",
      "2.0    156\n",
      "1.0    113\n",
      "3.0     48\n",
      "4.0      6\n",
      "5.0      5\n",
      "Name: Sinage, dtype: int64\n",
      "\n",
      "Column: Parking\n",
      "2.0    153\n",
      "1.0    135\n",
      "3.0     29\n",
      "4.0      7\n",
      "5.0      4\n",
      "Name: Parking, dtype: int64\n",
      "\n",
      "Column: Clean\n",
      "2.0    152\n",
      "1.0    144\n",
      "3.0     24\n",
      "4.0      5\n",
      "5.0      2\n",
      "Name: Clean, dtype: int64\n",
      "\n",
      "Column: Overall\n",
      "2.0    160\n",
      "1.0    151\n",
      "3.0     12\n",
      "5.0      4\n",
      "4.0      1\n",
      "Name: Overall, dtype: int64\n",
      "\n",
      "Column: Age\n",
      "2.0    175\n",
      "3.0    117\n",
      "1.0     26\n",
      "4.0     10\n",
      "Name: Age, dtype: int64\n",
      "\n",
      "Column: Income\n",
      "1.0    142\n",
      "3.0     90\n",
      "2.0     82\n",
      "Name: Income, dtype: int64\n",
      "\n",
      "Column: Hear_About\n",
      "5      226\n",
      "4       41\n",
      "1       22\n",
      "3       14\n",
      "2       12\n",
      "2,5      2\n",
      "3,4      2\n",
      "4,5      1\n",
      "1,5      1\n",
      "5,4      1\n",
      "3,5      1\n",
      "Name: Hear_About, dtype: int64\n",
      "\n"
     ]
    }
   ],
   "source": [
    "### UDF for value counts:\n",
    "\n",
    "import pandas as pd\n",
    "\n",
    "def get_value_counts(dataframe):\n",
    "    value_counts = {}\n",
    "    for column in dataframe.columns:\n",
    "        value_counts[column] = dataframe[column].value_counts()\n",
    "    return value_counts\n",
    "\n",
    "\n",
    "counts = get_value_counts(films)\n",
    "\n",
    "# Print the value counts for each column\n",
    "for column, value_count in counts.items():\n",
    "    print(\"Column:\", column)\n",
    "    print(value_count)\n",
    "    print()\n"
   ]
  },
  {
   "cell_type": "markdown",
   "id": "7e3c5665",
   "metadata": {},
   "source": [
    "### Data prep:"
   ]
  },
  {
   "cell_type": "code",
   "execution_count": 29,
   "id": "18cf489b",
   "metadata": {},
   "outputs": [],
   "source": [
    "### replace male by 1 and female by 2 "
   ]
  },
  {
   "cell_type": "code",
   "execution_count": 30,
   "id": "c7719903",
   "metadata": {},
   "outputs": [],
   "source": [
    "films['Gender'] = films.Gender.replace({'Male': '1', 'Female': '2'})"
   ]
  },
  {
   "cell_type": "code",
   "execution_count": 31,
   "id": "75aad999",
   "metadata": {},
   "outputs": [
    {
     "data": {
      "text/plain": [
       "2    213\n",
       "1    117\n",
       "Name: Gender, dtype: int64"
      ]
     },
     "execution_count": 31,
     "metadata": {},
     "output_type": "execute_result"
    }
   ],
   "source": [
    "films.Gender.value_counts()"
   ]
  },
  {
   "cell_type": "code",
   "execution_count": 32,
   "id": "a61b47fd",
   "metadata": {},
   "outputs": [],
   "source": [
    "### replace married by 1 and single by 2"
   ]
  },
  {
   "cell_type": "code",
   "execution_count": 33,
   "id": "ccb8e3ba",
   "metadata": {},
   "outputs": [],
   "source": [
    "films['Marital_Status'] = films.Marital_Status.replace({'Single':'2','Slngle':'2','Married':'1'})"
   ]
  },
  {
   "cell_type": "code",
   "execution_count": 34,
   "id": "e752482e",
   "metadata": {},
   "outputs": [
    {
     "data": {
      "text/plain": [
       "2    228\n",
       "1    100\n",
       "Name: Marital_Status, dtype: int64"
      ]
     },
     "execution_count": 34,
     "metadata": {},
     "output_type": "execute_result"
    }
   ],
   "source": [
    "films.Marital_Status.value_counts()"
   ]
  },
  {
   "cell_type": "code",
   "execution_count": 35,
   "id": "1356cf7a",
   "metadata": {},
   "outputs": [],
   "source": [
    "### imputation of missing values with the mode :"
   ]
  },
  {
   "cell_type": "code",
   "execution_count": 36,
   "id": "fae98fe7",
   "metadata": {},
   "outputs": [],
   "source": [
    "for column in films.columns:\n",
    "    \n",
    "    # Check if the column has missing values\n",
    "    if films[column].isnull().any():\n",
    "        \n",
    "        # Calculate the mode for the column\n",
    "        mode_value = films[column].mode().iloc[0]\n",
    "        \n",
    "        # Impute missing values with the mode\n",
    "        films[column] = films[column].fillna(mode_value)"
   ]
  },
  {
   "cell_type": "code",
   "execution_count": 37,
   "id": "0dabf603",
   "metadata": {},
   "outputs": [
    {
     "name": "stdout",
     "output_type": "stream",
     "text": [
      "<class 'pandas.core.frame.DataFrame'>\n",
      "RangeIndex: 330 entries, 0 to 329\n",
      "Data columns (total 11 columns):\n",
      " #   Column          Non-Null Count  Dtype  \n",
      "---  ------          --------------  -----  \n",
      " 0   _rowstate_      330 non-null    int64  \n",
      " 1   Movie           330 non-null    object \n",
      " 2   Gender          330 non-null    object \n",
      " 3   Marital_Status  330 non-null    object \n",
      " 4   Sinage          330 non-null    float64\n",
      " 5   Parking         330 non-null    float64\n",
      " 6   Clean           330 non-null    float64\n",
      " 7   Overall         330 non-null    float64\n",
      " 8   Age             330 non-null    float64\n",
      " 9   Income          330 non-null    float64\n",
      " 10  Hear_About      330 non-null    object \n",
      "dtypes: float64(6), int64(1), object(4)\n",
      "memory usage: 28.5+ KB\n"
     ]
    }
   ],
   "source": [
    "films.info()"
   ]
  },
  {
   "cell_type": "markdown",
   "id": "a65e0265",
   "metadata": {},
   "source": [
    "### this is the final data ready to go with hypothesis testing"
   ]
  },
  {
   "cell_type": "markdown",
   "id": "b373a7cd",
   "metadata": {},
   "source": [
    "## Hypothesis testing"
   ]
  },
  {
   "cell_type": "markdown",
   "id": "ae34d9d4",
   "metadata": {},
   "source": [
    "###    a) What is the overall level of customer satisfaction?"
   ]
  },
  {
   "cell_type": "code",
   "execution_count": 38,
   "id": "8a4fe1fb",
   "metadata": {},
   "outputs": [],
   "source": [
    "### average overall satisfaction level = 3 (which is average/fair)"
   ]
  },
  {
   "cell_type": "code",
   "execution_count": 39,
   "id": "07cb4094",
   "metadata": {},
   "outputs": [
    {
     "data": {
      "text/plain": [
       "1.621212121212121"
      ]
     },
     "execution_count": 39,
     "metadata": {},
     "output_type": "execute_result"
    }
   ],
   "source": [
    "films.Overall.mean()"
   ]
  },
  {
   "cell_type": "markdown",
   "id": "dc1f315f",
   "metadata": {},
   "source": [
    "##### 1. Define Null Hypothesis, H0:\n",
    "            \n",
    "            u >= 3\n",
    "            mean of oveall satisfaction level >= 3 \n",
    "\n",
    "##### 2. Define Alternate Hypothesis, Ha:\n",
    "            \n",
    "            u < 3\n",
    "            mean of oveall satisfaction level < 3\n",
    "\n",
    "##### 3. Define CI & p value:\n",
    "            \n",
    "    CI = 95%\n",
    "    p values = 0.05\n",
    "    \n",
    "##### 4. Perform the test:\n",
    "            \n",
    "            t-test "
   ]
  },
  {
   "cell_type": "code",
   "execution_count": 40,
   "id": "f071470c",
   "metadata": {},
   "outputs": [
    {
     "data": {
      "text/plain": [
       "Ttest_1sampResult(statistic=-36.414613050387636, pvalue=1.8889926235938803e-117)"
      ]
     },
     "execution_count": 40,
     "metadata": {},
     "output_type": "execute_result"
    }
   ],
   "source": [
    "stats.ttest_1samp(films.Overall, 3)"
   ]
  },
  {
   "cell_type": "markdown",
   "id": "ea8b4af5",
   "metadata": {},
   "source": [
    "#### 5. Rejection rule\n",
    "\n",
    "         As the new p value in above output(1.8889926235938803e-117) < 0.05,\n",
    "         we reject H0!!"
   ]
  },
  {
   "cell_type": "markdown",
   "id": "1bbefbae",
   "metadata": {},
   "source": [
    "####  6.Businss conclusion:\n",
    "\n",
    "           mean of oveall satisfaction level < 3, which means:\n",
    "        on an average overall satisfaction level is above average/fair "
   ]
  },
  {
   "cell_type": "markdown",
   "id": "6fb15e06",
   "metadata": {},
   "source": [
    "### b) What factors are linked to satisfaction?"
   ]
  },
  {
   "cell_type": "markdown",
   "id": "6f88b939",
   "metadata": {},
   "source": [
    "### i) sinage and overall satisfaction"
   ]
  },
  {
   "cell_type": "markdown",
   "id": "31e71bb3",
   "metadata": {},
   "source": [
    "##### 1. Define Null Hypothesis, H0:\n",
    "            \n",
    "            Sinage and overall satisfaction are independent on each other \n",
    "\n",
    "##### 2. Define Alternate Hypothesis, Ha:\n",
    "            \n",
    "            Sinage and overall satisfaction are dependent on each other \n",
    "\n",
    "##### 3. Define CI & p value:\n",
    "            \n",
    "    CI = 95%\n",
    "    p values = 0.05\n",
    "    \n",
    "##### 4. Perform the test:\n",
    "            \n",
    "            Chi-Square "
   ]
  },
  {
   "cell_type": "code",
   "execution_count": 44,
   "id": "3d081673",
   "metadata": {},
   "outputs": [
    {
     "data": {
      "text/html": [
       "<div>\n",
       "<style scoped>\n",
       "    .dataframe tbody tr th:only-of-type {\n",
       "        vertical-align: middle;\n",
       "    }\n",
       "\n",
       "    .dataframe tbody tr th {\n",
       "        vertical-align: top;\n",
       "    }\n",
       "\n",
       "    .dataframe thead th {\n",
       "        text-align: right;\n",
       "    }\n",
       "</style>\n",
       "<table border=\"1\" class=\"dataframe\">\n",
       "  <thead>\n",
       "    <tr style=\"text-align: right;\">\n",
       "      <th>Overall</th>\n",
       "      <th>1.0</th>\n",
       "      <th>2.0</th>\n",
       "      <th>3.0</th>\n",
       "      <th>4.0</th>\n",
       "      <th>5.0</th>\n",
       "    </tr>\n",
       "    <tr>\n",
       "      <th>Sinage</th>\n",
       "      <th></th>\n",
       "      <th></th>\n",
       "      <th></th>\n",
       "      <th></th>\n",
       "      <th></th>\n",
       "    </tr>\n",
       "  </thead>\n",
       "  <tbody>\n",
       "    <tr>\n",
       "      <th>1.0</th>\n",
       "      <td>90</td>\n",
       "      <td>22</td>\n",
       "      <td>0</td>\n",
       "      <td>0</td>\n",
       "      <td>1</td>\n",
       "    </tr>\n",
       "    <tr>\n",
       "      <th>2.0</th>\n",
       "      <td>44</td>\n",
       "      <td>109</td>\n",
       "      <td>4</td>\n",
       "      <td>0</td>\n",
       "      <td>1</td>\n",
       "    </tr>\n",
       "    <tr>\n",
       "      <th>3.0</th>\n",
       "      <td>13</td>\n",
       "      <td>25</td>\n",
       "      <td>8</td>\n",
       "      <td>1</td>\n",
       "      <td>1</td>\n",
       "    </tr>\n",
       "    <tr>\n",
       "      <th>4.0</th>\n",
       "      <td>2</td>\n",
       "      <td>4</td>\n",
       "      <td>0</td>\n",
       "      <td>0</td>\n",
       "      <td>0</td>\n",
       "    </tr>\n",
       "    <tr>\n",
       "      <th>5.0</th>\n",
       "      <td>2</td>\n",
       "      <td>2</td>\n",
       "      <td>0</td>\n",
       "      <td>0</td>\n",
       "      <td>1</td>\n",
       "    </tr>\n",
       "  </tbody>\n",
       "</table>\n",
       "</div>"
      ],
      "text/plain": [
       "Overall  1.0  2.0  3.0  4.0  5.0\n",
       "Sinage                          \n",
       "1.0       90   22    0    0    1\n",
       "2.0       44  109    4    0    1\n",
       "3.0       13   25    8    1    1\n",
       "4.0        2    4    0    0    0\n",
       "5.0        2    2    0    0    1"
      ]
     },
     "execution_count": 44,
     "metadata": {},
     "output_type": "execute_result"
    }
   ],
   "source": [
    "### creating cross_tab\n",
    "\n",
    "summ1 = pd.crosstab(index= films.Sinage, columns= films.Overall)\n",
    "summ1"
   ]
  },
  {
   "cell_type": "code",
   "execution_count": 45,
   "id": "28c0c26a",
   "metadata": {},
   "outputs": [
    {
     "data": {
      "text/plain": [
       "(125.61859671027881,\n",
       " 4.53298970003405e-19,\n",
       " 16,\n",
       " array([[5.17060606e+01, 5.54727273e+01, 4.10909091e+00, 3.42424242e-01,\n",
       "         1.36969697e+00],\n",
       "        [7.22969697e+01, 7.75636364e+01, 5.74545455e+00, 4.78787879e-01,\n",
       "         1.91515152e+00],\n",
       "        [2.19636364e+01, 2.35636364e+01, 1.74545455e+00, 1.45454545e-01,\n",
       "         5.81818182e-01],\n",
       "        [2.74545455e+00, 2.94545455e+00, 2.18181818e-01, 1.81818182e-02,\n",
       "         7.27272727e-02],\n",
       "        [2.28787879e+00, 2.45454545e+00, 1.81818182e-01, 1.51515152e-02,\n",
       "         6.06060606e-02]]))"
      ]
     },
     "execution_count": 45,
     "metadata": {},
     "output_type": "execute_result"
    }
   ],
   "source": [
    "stats.chi2_contingency(summ1)"
   ]
  },
  {
   "cell_type": "markdown",
   "id": "f84bb757",
   "metadata": {},
   "source": [
    "#### 5. Rejection rule:\n",
    "     \n",
    "           As it is clear from above output, observed and expected frequency table values are not same, so Sinage and overall    satisfaction are dependent on each other. Hence reject H0!!\n",
    "            \n",
    "                                                   OR\n",
    "                                                   \n",
    "           New p value (4.53298970003405e-19) < 0.05, so reject H0!!\n",
    "                                       "
   ]
  },
  {
   "cell_type": "markdown",
   "id": "18fc3a71",
   "metadata": {},
   "source": [
    "#### 6. Business conclusion:\n",
    "\n",
    "                Sinage and overall satisfaction are dependent on each other "
   ]
  },
  {
   "cell_type": "markdown",
   "id": "de8a2b89",
   "metadata": {},
   "source": [
    "### ii) parking and overall satisfaction"
   ]
  },
  {
   "cell_type": "markdown",
   "id": "828e2ae1",
   "metadata": {},
   "source": [
    "##### 1. Define Null Hypothesis, H0:\n",
    "            \n",
    "            Parking and overall satisfaction are independent on each other \n",
    "\n",
    "##### 2. Define Alternate Hypothesis, Ha:\n",
    "            \n",
    "            Parking and overall satisfaction are dependent on each other \n",
    "\n",
    "##### 3. Define CI & p value:\n",
    "            \n",
    "    CI = 95%\n",
    "    p values = 0.05\n",
    "    \n",
    "##### 4. Perform the test:\n",
    "            \n",
    "            Chi-Square "
   ]
  },
  {
   "cell_type": "code",
   "execution_count": 46,
   "id": "462c1700",
   "metadata": {},
   "outputs": [
    {
     "data": {
      "text/html": [
       "<div>\n",
       "<style scoped>\n",
       "    .dataframe tbody tr th:only-of-type {\n",
       "        vertical-align: middle;\n",
       "    }\n",
       "\n",
       "    .dataframe tbody tr th {\n",
       "        vertical-align: top;\n",
       "    }\n",
       "\n",
       "    .dataframe thead th {\n",
       "        text-align: right;\n",
       "    }\n",
       "</style>\n",
       "<table border=\"1\" class=\"dataframe\">\n",
       "  <thead>\n",
       "    <tr style=\"text-align: right;\">\n",
       "      <th>Overall</th>\n",
       "      <th>1.0</th>\n",
       "      <th>2.0</th>\n",
       "      <th>3.0</th>\n",
       "      <th>4.0</th>\n",
       "      <th>5.0</th>\n",
       "    </tr>\n",
       "    <tr>\n",
       "      <th>Parking</th>\n",
       "      <th></th>\n",
       "      <th></th>\n",
       "      <th></th>\n",
       "      <th></th>\n",
       "      <th></th>\n",
       "    </tr>\n",
       "  </thead>\n",
       "  <tbody>\n",
       "    <tr>\n",
       "      <th>1.0</th>\n",
       "      <td>105</td>\n",
       "      <td>27</td>\n",
       "      <td>2</td>\n",
       "      <td>0</td>\n",
       "      <td>1</td>\n",
       "    </tr>\n",
       "    <tr>\n",
       "      <th>2.0</th>\n",
       "      <td>40</td>\n",
       "      <td>111</td>\n",
       "      <td>3</td>\n",
       "      <td>0</td>\n",
       "      <td>1</td>\n",
       "    </tr>\n",
       "    <tr>\n",
       "      <th>3.0</th>\n",
       "      <td>4</td>\n",
       "      <td>20</td>\n",
       "      <td>5</td>\n",
       "      <td>0</td>\n",
       "      <td>0</td>\n",
       "    </tr>\n",
       "    <tr>\n",
       "      <th>4.0</th>\n",
       "      <td>2</td>\n",
       "      <td>3</td>\n",
       "      <td>1</td>\n",
       "      <td>0</td>\n",
       "      <td>1</td>\n",
       "    </tr>\n",
       "    <tr>\n",
       "      <th>5.0</th>\n",
       "      <td>0</td>\n",
       "      <td>1</td>\n",
       "      <td>1</td>\n",
       "      <td>1</td>\n",
       "      <td>1</td>\n",
       "    </tr>\n",
       "  </tbody>\n",
       "</table>\n",
       "</div>"
      ],
      "text/plain": [
       "Overall  1.0  2.0  3.0  4.0  5.0\n",
       "Parking                         \n",
       "1.0      105   27    2    0    1\n",
       "2.0       40  111    3    0    1\n",
       "3.0        4   20    5    0    0\n",
       "4.0        2    3    1    0    1\n",
       "5.0        0    1    1    1    1"
      ]
     },
     "execution_count": 46,
     "metadata": {},
     "output_type": "execute_result"
    }
   ],
   "source": [
    "### creating cross_tab\n",
    "\n",
    "summ2 = pd.crosstab(index= films.Parking, columns= films.Overall)\n",
    "summ2"
   ]
  },
  {
   "cell_type": "code",
   "execution_count": 47,
   "id": "6d6a96a7",
   "metadata": {},
   "outputs": [
    {
     "data": {
      "text/plain": [
       "(230.61691663391676,\n",
       " 4.783162283608494e-40,\n",
       " 16,\n",
       " array([[6.17727273e+01, 6.62727273e+01, 4.90909091e+00, 4.09090909e-01,\n",
       "         1.63636364e+00],\n",
       "        [7.09242424e+01, 7.60909091e+01, 5.63636364e+00, 4.69696970e-01,\n",
       "         1.87878788e+00],\n",
       "        [1.32696970e+01, 1.42363636e+01, 1.05454545e+00, 8.78787879e-02,\n",
       "         3.51515152e-01],\n",
       "        [3.20303030e+00, 3.43636364e+00, 2.54545455e-01, 2.12121212e-02,\n",
       "         8.48484848e-02],\n",
       "        [1.83030303e+00, 1.96363636e+00, 1.45454545e-01, 1.21212121e-02,\n",
       "         4.84848485e-02]]))"
      ]
     },
     "execution_count": 47,
     "metadata": {},
     "output_type": "execute_result"
    }
   ],
   "source": [
    "stats.chi2_contingency(summ2)"
   ]
  },
  {
   "cell_type": "markdown",
   "id": "061c4663",
   "metadata": {},
   "source": [
    "#### 5. Rejection rule:\n",
    "     \n",
    "           As it is clear from above output, observed and expected frequency table values are not same, so Parking and overall  satisfaction are dependent on each other. Hence reject H0!!\n",
    "            \n",
    "                                                   OR\n",
    "                                                   \n",
    "           New p value (4.783162283608494e-40) < 0.05, so reject H0!!\n",
    "                                       "
   ]
  },
  {
   "cell_type": "markdown",
   "id": "96f088ba",
   "metadata": {},
   "source": [
    "#### 6. Business conclusion:\n",
    "\n",
    "                Parking and overall satisfaction are dependent on each other "
   ]
  },
  {
   "cell_type": "markdown",
   "id": "aa5c52e1",
   "metadata": {},
   "source": [
    "### iii) clean and overall satisfaction"
   ]
  },
  {
   "cell_type": "markdown",
   "id": "802b84e8",
   "metadata": {},
   "source": [
    "##### 1. Define Null Hypothesis, H0:\n",
    "            \n",
    "            Clean and overall satisfaction are independent on each other \n",
    "\n",
    "##### 2. Define Alternate Hypothesis, Ha:\n",
    "            \n",
    "            Clean and overall satisfaction are dependent on each other \n",
    "\n",
    "##### 3. Define CI & p value:\n",
    "            \n",
    "    CI = 95%\n",
    "    p values = 0.05\n",
    "    \n",
    "##### 4. Perform the test:\n",
    "            \n",
    "            Chi-Square "
   ]
  },
  {
   "cell_type": "code",
   "execution_count": 48,
   "id": "17569c22",
   "metadata": {},
   "outputs": [
    {
     "data": {
      "text/html": [
       "<div>\n",
       "<style scoped>\n",
       "    .dataframe tbody tr th:only-of-type {\n",
       "        vertical-align: middle;\n",
       "    }\n",
       "\n",
       "    .dataframe tbody tr th {\n",
       "        vertical-align: top;\n",
       "    }\n",
       "\n",
       "    .dataframe thead th {\n",
       "        text-align: right;\n",
       "    }\n",
       "</style>\n",
       "<table border=\"1\" class=\"dataframe\">\n",
       "  <thead>\n",
       "    <tr style=\"text-align: right;\">\n",
       "      <th>Overall</th>\n",
       "      <th>1.0</th>\n",
       "      <th>2.0</th>\n",
       "      <th>3.0</th>\n",
       "      <th>4.0</th>\n",
       "      <th>5.0</th>\n",
       "    </tr>\n",
       "    <tr>\n",
       "      <th>Clean</th>\n",
       "      <th></th>\n",
       "      <th></th>\n",
       "      <th></th>\n",
       "      <th></th>\n",
       "      <th></th>\n",
       "    </tr>\n",
       "  </thead>\n",
       "  <tbody>\n",
       "    <tr>\n",
       "      <th>1.0</th>\n",
       "      <td>104</td>\n",
       "      <td>35</td>\n",
       "      <td>3</td>\n",
       "      <td>0</td>\n",
       "      <td>2</td>\n",
       "    </tr>\n",
       "    <tr>\n",
       "      <th>2.0</th>\n",
       "      <td>39</td>\n",
       "      <td>109</td>\n",
       "      <td>5</td>\n",
       "      <td>1</td>\n",
       "      <td>1</td>\n",
       "    </tr>\n",
       "    <tr>\n",
       "      <th>3.0</th>\n",
       "      <td>6</td>\n",
       "      <td>14</td>\n",
       "      <td>4</td>\n",
       "      <td>0</td>\n",
       "      <td>0</td>\n",
       "    </tr>\n",
       "    <tr>\n",
       "      <th>4.0</th>\n",
       "      <td>1</td>\n",
       "      <td>4</td>\n",
       "      <td>0</td>\n",
       "      <td>0</td>\n",
       "      <td>0</td>\n",
       "    </tr>\n",
       "    <tr>\n",
       "      <th>5.0</th>\n",
       "      <td>1</td>\n",
       "      <td>0</td>\n",
       "      <td>0</td>\n",
       "      <td>0</td>\n",
       "      <td>1</td>\n",
       "    </tr>\n",
       "  </tbody>\n",
       "</table>\n",
       "</div>"
      ],
      "text/plain": [
       "Overall  1.0  2.0  3.0  4.0  5.0\n",
       "Clean                           \n",
       "1.0      104   35    3    0    2\n",
       "2.0       39  109    5    1    1\n",
       "3.0        6   14    4    0    0\n",
       "4.0        1    4    0    0    0\n",
       "5.0        1    0    0    0    1"
      ]
     },
     "execution_count": 48,
     "metadata": {},
     "output_type": "execute_result"
    }
   ],
   "source": [
    "### creating cross_tab\n",
    "\n",
    "summ3 = pd.crosstab(index= films.Clean, columns= films.Overall)\n",
    "summ3"
   ]
  },
  {
   "cell_type": "code",
   "execution_count": 49,
   "id": "9cec2b16",
   "metadata": {},
   "outputs": [
    {
     "data": {
      "text/plain": [
       "(127.71945555999517,\n",
       " 1.7772535915434028e-19,\n",
       " 16,\n",
       " array([[6.58909091e+01, 7.06909091e+01, 5.23636364e+00, 4.36363636e-01,\n",
       "         1.74545455e+00],\n",
       "        [7.09242424e+01, 7.60909091e+01, 5.63636364e+00, 4.69696970e-01,\n",
       "         1.87878788e+00],\n",
       "        [1.09818182e+01, 1.17818182e+01, 8.72727273e-01, 7.27272727e-02,\n",
       "         2.90909091e-01],\n",
       "        [2.28787879e+00, 2.45454545e+00, 1.81818182e-01, 1.51515152e-02,\n",
       "         6.06060606e-02],\n",
       "        [9.15151515e-01, 9.81818182e-01, 7.27272727e-02, 6.06060606e-03,\n",
       "         2.42424242e-02]]))"
      ]
     },
     "execution_count": 49,
     "metadata": {},
     "output_type": "execute_result"
    }
   ],
   "source": [
    "stats.chi2_contingency(summ3)"
   ]
  },
  {
   "cell_type": "markdown",
   "id": "2ed26e0b",
   "metadata": {},
   "source": [
    "#### 5. Rejection rule:\n",
    "     \n",
    "           As it is clear from above output, observed and expected frequency table values are not same, so Cleanliness and overall satisfaction are dependent on each other. Hence reject H0!!\n",
    "            \n",
    "                                                   OR\n",
    "                                                   \n",
    "           New p value (1.7772535915434028e-19) < 0.05, so reject H0!!\n",
    "                                       "
   ]
  },
  {
   "cell_type": "markdown",
   "id": "a50e6734",
   "metadata": {},
   "source": [
    "#### 6. Business conclusion:\n",
    "\n",
    "                Cleanliness and overall satisfaction are dependent on each other "
   ]
  },
  {
   "cell_type": "markdown",
   "id": "b32fecca",
   "metadata": {},
   "source": [
    "## All the factors (sinage, parking, cleaniliness) are linked to overall satisfaction."
   ]
  },
  {
   "cell_type": "markdown",
   "id": "0a9b3896",
   "metadata": {},
   "source": [
    "## c) What is the demographic profile of Film on the Rocks patrons?"
   ]
  },
  {
   "cell_type": "markdown",
   "id": "7dac2652",
   "metadata": {},
   "source": [
    "## for movie = 'Willy Wonka'"
   ]
  },
  {
   "cell_type": "code",
   "execution_count": 54,
   "id": "fd8f0ed2",
   "metadata": {},
   "outputs": [
    {
     "data": {
      "text/html": [
       "<div>\n",
       "<style scoped>\n",
       "    .dataframe tbody tr th:only-of-type {\n",
       "        vertical-align: middle;\n",
       "    }\n",
       "\n",
       "    .dataframe tbody tr th {\n",
       "        vertical-align: top;\n",
       "    }\n",
       "\n",
       "    .dataframe thead th {\n",
       "        text-align: right;\n",
       "    }\n",
       "</style>\n",
       "<table border=\"1\" class=\"dataframe\">\n",
       "  <thead>\n",
       "    <tr style=\"text-align: right;\">\n",
       "      <th></th>\n",
       "      <th>_rowstate_</th>\n",
       "      <th>Movie</th>\n",
       "      <th>Gender</th>\n",
       "      <th>Marital_Status</th>\n",
       "      <th>Sinage</th>\n",
       "      <th>Parking</th>\n",
       "      <th>Clean</th>\n",
       "      <th>Overall</th>\n",
       "      <th>Age</th>\n",
       "      <th>Income</th>\n",
       "      <th>Hear_About</th>\n",
       "    </tr>\n",
       "  </thead>\n",
       "  <tbody>\n",
       "    <tr>\n",
       "      <th>137</th>\n",
       "      <td>0</td>\n",
       "      <td>Willy Wonka</td>\n",
       "      <td>1</td>\n",
       "      <td>1</td>\n",
       "      <td>2.0</td>\n",
       "      <td>2.0</td>\n",
       "      <td>2.0</td>\n",
       "      <td>2.0</td>\n",
       "      <td>3.0</td>\n",
       "      <td>3.0</td>\n",
       "      <td>5</td>\n",
       "    </tr>\n",
       "    <tr>\n",
       "      <th>138</th>\n",
       "      <td>0</td>\n",
       "      <td>Willy Wonka</td>\n",
       "      <td>2</td>\n",
       "      <td>1</td>\n",
       "      <td>2.0</td>\n",
       "      <td>2.0</td>\n",
       "      <td>2.0</td>\n",
       "      <td>2.0</td>\n",
       "      <td>3.0</td>\n",
       "      <td>3.0</td>\n",
       "      <td>5</td>\n",
       "    </tr>\n",
       "    <tr>\n",
       "      <th>139</th>\n",
       "      <td>0</td>\n",
       "      <td>Willy Wonka</td>\n",
       "      <td>1</td>\n",
       "      <td>2</td>\n",
       "      <td>2.0</td>\n",
       "      <td>2.0</td>\n",
       "      <td>2.0</td>\n",
       "      <td>1.0</td>\n",
       "      <td>2.0</td>\n",
       "      <td>1.0</td>\n",
       "      <td>5</td>\n",
       "    </tr>\n",
       "    <tr>\n",
       "      <th>140</th>\n",
       "      <td>0</td>\n",
       "      <td>Willy Wonka</td>\n",
       "      <td>1</td>\n",
       "      <td>2</td>\n",
       "      <td>3.0</td>\n",
       "      <td>1.0</td>\n",
       "      <td>1.0</td>\n",
       "      <td>1.0</td>\n",
       "      <td>2.0</td>\n",
       "      <td>2.0</td>\n",
       "      <td>5</td>\n",
       "    </tr>\n",
       "    <tr>\n",
       "      <th>141</th>\n",
       "      <td>0</td>\n",
       "      <td>Willy Wonka</td>\n",
       "      <td>1</td>\n",
       "      <td>2</td>\n",
       "      <td>3.0</td>\n",
       "      <td>1.0</td>\n",
       "      <td>1.0</td>\n",
       "      <td>1.0</td>\n",
       "      <td>2.0</td>\n",
       "      <td>2.0</td>\n",
       "      <td>5</td>\n",
       "    </tr>\n",
       "  </tbody>\n",
       "</table>\n",
       "</div>"
      ],
      "text/plain": [
       "     _rowstate_        Movie Gender Marital_Status  Sinage  Parking  Clean  \\\n",
       "137           0  Willy Wonka      1              1     2.0      2.0    2.0   \n",
       "138           0  Willy Wonka      2              1     2.0      2.0    2.0   \n",
       "139           0  Willy Wonka      1              2     2.0      2.0    2.0   \n",
       "140           0  Willy Wonka      1              2     3.0      1.0    1.0   \n",
       "141           0  Willy Wonka      1              2     3.0      1.0    1.0   \n",
       "\n",
       "     Overall  Age  Income Hear_About  \n",
       "137      2.0  3.0     3.0          5  \n",
       "138      2.0  3.0     3.0          5  \n",
       "139      1.0  2.0     1.0          5  \n",
       "140      1.0  2.0     2.0          5  \n",
       "141      1.0  2.0     2.0          5  "
      ]
     },
     "execution_count": 54,
     "metadata": {},
     "output_type": "execute_result"
    }
   ],
   "source": [
    "Willy_Wonka = films[films.Movie == 'Willy Wonka']\n",
    "Willy_Wonka.head()"
   ]
  },
  {
   "cell_type": "markdown",
   "id": "16ed080d",
   "metadata": {},
   "source": [
    "### a) Gender & Marital_Status:"
   ]
  },
  {
   "cell_type": "markdown",
   "id": "2bfe0e6a",
   "metadata": {},
   "source": [
    "##### 1. Define Null Hypothesis, H0:\n",
    "            \n",
    "            Gender and Marital_Status are independent on each other \n",
    "\n",
    "##### 2. Define Alternate Hypothesis, Ha:\n",
    "            \n",
    "            Gender and Marital_Status are dependent on each other \n",
    "\n",
    "##### 3. Define CI & p value:\n",
    "            \n",
    "    CI = 95%\n",
    "    p values = 0.05\n",
    "    \n",
    "##### 4. Perform the test:\n",
    "            \n",
    "            Chi-Square "
   ]
  },
  {
   "cell_type": "code",
   "execution_count": 58,
   "id": "fb03d673",
   "metadata": {},
   "outputs": [
    {
     "data": {
      "text/html": [
       "<div>\n",
       "<style scoped>\n",
       "    .dataframe tbody tr th:only-of-type {\n",
       "        vertical-align: middle;\n",
       "    }\n",
       "\n",
       "    .dataframe tbody tr th {\n",
       "        vertical-align: top;\n",
       "    }\n",
       "\n",
       "    .dataframe thead th {\n",
       "        text-align: right;\n",
       "    }\n",
       "</style>\n",
       "<table border=\"1\" class=\"dataframe\">\n",
       "  <thead>\n",
       "    <tr style=\"text-align: right;\">\n",
       "      <th>Marital_Status</th>\n",
       "      <th>1</th>\n",
       "      <th>2</th>\n",
       "    </tr>\n",
       "    <tr>\n",
       "      <th>Gender</th>\n",
       "      <th></th>\n",
       "      <th></th>\n",
       "    </tr>\n",
       "  </thead>\n",
       "  <tbody>\n",
       "    <tr>\n",
       "      <th>1</th>\n",
       "      <td>17</td>\n",
       "      <td>36</td>\n",
       "    </tr>\n",
       "    <tr>\n",
       "      <th>2</th>\n",
       "      <td>31</td>\n",
       "      <td>77</td>\n",
       "    </tr>\n",
       "  </tbody>\n",
       "</table>\n",
       "</div>"
      ],
      "text/plain": [
       "Marital_Status   1   2\n",
       "Gender                \n",
       "1               17  36\n",
       "2               31  77"
      ]
     },
     "execution_count": 58,
     "metadata": {},
     "output_type": "execute_result"
    }
   ],
   "source": [
    "### creating cross_tab\n",
    "\n",
    "summ4 = pd.crosstab(index= Willy_Wonka.Gender, columns= Willy_Wonka.Marital_Status)\n",
    "summ4\n",
    "\n",
    "# most of the males and females are single"
   ]
  },
  {
   "cell_type": "code",
   "execution_count": 59,
   "id": "6db4c0c6",
   "metadata": {},
   "outputs": [
    {
     "data": {
      "text/plain": [
       "(0.06563139192686564,\n",
       " 0.7978070295107771,\n",
       " 1,\n",
       " array([[15.80124224, 37.19875776],\n",
       "        [32.19875776, 75.80124224]]))"
      ]
     },
     "execution_count": 59,
     "metadata": {},
     "output_type": "execute_result"
    }
   ],
   "source": [
    "stats.chi2_contingency(summ4)"
   ]
  },
  {
   "cell_type": "markdown",
   "id": "8c3e0c53",
   "metadata": {},
   "source": [
    "#### 5. Rejection rule:\n",
    "                                                   \n",
    "           New p value (0.7978070295107771) > 0.05, so didn't reject H0!!"
   ]
  },
  {
   "cell_type": "markdown",
   "id": "3d8057f7",
   "metadata": {},
   "source": [
    "#### 6. Business conclusion:\n",
    "\n",
    "                For movie Willy Wonka, Gender & Marital Status are not dependent on each other "
   ]
  },
  {
   "cell_type": "markdown",
   "id": "56ed1e89",
   "metadata": {},
   "source": [
    "### b) Gender & Age:"
   ]
  },
  {
   "cell_type": "markdown",
   "id": "5efaef6a",
   "metadata": {},
   "source": [
    "##### 1. Define Null Hypothesis, H0:\n",
    "            \n",
    "            Gender and Age are independent on each other \n",
    "\n",
    "##### 2. Define Alternate Hypothesis, Ha:\n",
    "            \n",
    "            Gender and Age are dependent on each other \n",
    "\n",
    "##### 3. Define CI & p value:\n",
    "            \n",
    "    CI = 95%\n",
    "    p values = 0.05\n",
    "    \n",
    "##### 4. Perform the test:\n",
    "            \n",
    "            Chi-Square "
   ]
  },
  {
   "cell_type": "code",
   "execution_count": 61,
   "id": "194a817e",
   "metadata": {},
   "outputs": [
    {
     "data": {
      "text/html": [
       "<div>\n",
       "<style scoped>\n",
       "    .dataframe tbody tr th:only-of-type {\n",
       "        vertical-align: middle;\n",
       "    }\n",
       "\n",
       "    .dataframe tbody tr th {\n",
       "        vertical-align: top;\n",
       "    }\n",
       "\n",
       "    .dataframe thead th {\n",
       "        text-align: right;\n",
       "    }\n",
       "</style>\n",
       "<table border=\"1\" class=\"dataframe\">\n",
       "  <thead>\n",
       "    <tr style=\"text-align: right;\">\n",
       "      <th>Age</th>\n",
       "      <th>1.0</th>\n",
       "      <th>2.0</th>\n",
       "      <th>3.0</th>\n",
       "      <th>4.0</th>\n",
       "    </tr>\n",
       "    <tr>\n",
       "      <th>Gender</th>\n",
       "      <th></th>\n",
       "      <th></th>\n",
       "      <th></th>\n",
       "      <th></th>\n",
       "    </tr>\n",
       "  </thead>\n",
       "  <tbody>\n",
       "    <tr>\n",
       "      <th>1</th>\n",
       "      <td>2</td>\n",
       "      <td>32</td>\n",
       "      <td>19</td>\n",
       "      <td>0</td>\n",
       "    </tr>\n",
       "    <tr>\n",
       "      <th>2</th>\n",
       "      <td>10</td>\n",
       "      <td>55</td>\n",
       "      <td>40</td>\n",
       "      <td>3</td>\n",
       "    </tr>\n",
       "  </tbody>\n",
       "</table>\n",
       "</div>"
      ],
      "text/plain": [
       "Age     1.0  2.0  3.0  4.0\n",
       "Gender                    \n",
       "1         2   32   19    0\n",
       "2        10   55   40    3"
      ]
     },
     "execution_count": 61,
     "metadata": {},
     "output_type": "execute_result"
    }
   ],
   "source": [
    "### creating cross_tab\n",
    "\n",
    "summ5 = pd.crosstab(index= Willy_Wonka.Gender, columns= Willy_Wonka.Age)\n",
    "summ5\n",
    "## from this it is clear maximum male and female are from age goup 2 : from 13-30, then 3 :  from 31-60, then 1 : from 1-12, \n",
    "## and least from 4 : above 60."
   ]
  },
  {
   "cell_type": "code",
   "execution_count": 62,
   "id": "a2ee5dd4",
   "metadata": {},
   "outputs": [
    {
     "data": {
      "text/plain": [
       "(3.509059336124498,\n",
       " 0.31958905468909815,\n",
       " 3,\n",
       " array([[ 3.95031056, 28.63975155, 19.42236025,  0.98757764],\n",
       "        [ 8.04968944, 58.36024845, 39.57763975,  2.01242236]]))"
      ]
     },
     "execution_count": 62,
     "metadata": {},
     "output_type": "execute_result"
    }
   ],
   "source": [
    "stats.chi2_contingency(summ5)"
   ]
  },
  {
   "cell_type": "markdown",
   "id": "e937e90f",
   "metadata": {},
   "source": [
    "#### 5. Rejection rule:\n",
    "                                                   \n",
    "           New p value (0.31958905468909815) > 0.05, so didn't reject H0!!"
   ]
  },
  {
   "cell_type": "markdown",
   "id": "264c2ce5",
   "metadata": {},
   "source": [
    "#### 6. Business conclusion:\n",
    "\n",
    "                For movie Willy Wonka, Gender & Age are not dependent on each other "
   ]
  },
  {
   "cell_type": "markdown",
   "id": "530a5bf3",
   "metadata": {},
   "source": [
    "### c) Gender & Income:"
   ]
  },
  {
   "cell_type": "markdown",
   "id": "08f8db9f",
   "metadata": {},
   "source": [
    "##### 1. Define Null Hypothesis, H0:\n",
    "            \n",
    "            Gender and Income are independent on each other \n",
    "\n",
    "##### 2. Define Alternate Hypothesis, Ha:\n",
    "            \n",
    "            Gender and Income are dependent on each other \n",
    "\n",
    "##### 3. Define CI & p value:\n",
    "            \n",
    "    CI = 95%\n",
    "    p values = 0.05\n",
    "    \n",
    "##### 4. Perform the test:\n",
    "            \n",
    "            Chi-Square "
   ]
  },
  {
   "cell_type": "code",
   "execution_count": 64,
   "id": "55dc031e",
   "metadata": {},
   "outputs": [
    {
     "data": {
      "text/html": [
       "<div>\n",
       "<style scoped>\n",
       "    .dataframe tbody tr th:only-of-type {\n",
       "        vertical-align: middle;\n",
       "    }\n",
       "\n",
       "    .dataframe tbody tr th {\n",
       "        vertical-align: top;\n",
       "    }\n",
       "\n",
       "    .dataframe thead th {\n",
       "        text-align: right;\n",
       "    }\n",
       "</style>\n",
       "<table border=\"1\" class=\"dataframe\">\n",
       "  <thead>\n",
       "    <tr style=\"text-align: right;\">\n",
       "      <th>Income</th>\n",
       "      <th>1.0</th>\n",
       "      <th>2.0</th>\n",
       "      <th>3.0</th>\n",
       "    </tr>\n",
       "    <tr>\n",
       "      <th>Gender</th>\n",
       "      <th></th>\n",
       "      <th></th>\n",
       "      <th></th>\n",
       "    </tr>\n",
       "  </thead>\n",
       "  <tbody>\n",
       "    <tr>\n",
       "      <th>1</th>\n",
       "      <td>26</td>\n",
       "      <td>11</td>\n",
       "      <td>16</td>\n",
       "    </tr>\n",
       "    <tr>\n",
       "      <th>2</th>\n",
       "      <td>57</td>\n",
       "      <td>25</td>\n",
       "      <td>26</td>\n",
       "    </tr>\n",
       "  </tbody>\n",
       "</table>\n",
       "</div>"
      ],
      "text/plain": [
       "Income  1.0  2.0  3.0\n",
       "Gender               \n",
       "1        26   11   16\n",
       "2        57   25   26"
      ]
     },
     "execution_count": 64,
     "metadata": {},
     "output_type": "execute_result"
    }
   ],
   "source": [
    "### creating cross_tab\n",
    "\n",
    "summ6 = pd.crosstab(index= Willy_Wonka.Gender, columns= Willy_Wonka.Income)\n",
    "summ6\n",
    "\n",
    "# most of male & female came under income 1 : Less than $50,000"
   ]
  },
  {
   "cell_type": "code",
   "execution_count": 65,
   "id": "bc0114fe",
   "metadata": {},
   "outputs": [
    {
     "data": {
      "text/plain": [
       "(0.6961289719792286,\n",
       " 0.7060533441976904,\n",
       " 2,\n",
       " array([[27.32298137, 11.85093168, 13.82608696],\n",
       "        [55.67701863, 24.14906832, 28.17391304]]))"
      ]
     },
     "execution_count": 65,
     "metadata": {},
     "output_type": "execute_result"
    }
   ],
   "source": [
    "stats.chi2_contingency(summ6)"
   ]
  },
  {
   "cell_type": "markdown",
   "id": "2eedbd35",
   "metadata": {},
   "source": [
    "#### 5. Rejection rule:\n",
    "                                                   \n",
    "           New p value (0.7060533441976904) > 0.05, so didn't reject H0!!"
   ]
  },
  {
   "cell_type": "markdown",
   "id": "a2705100",
   "metadata": {},
   "source": [
    "#### 6. Business conclusion:\n",
    "\n",
    "                For movie Willy Wonka, Gender & Income are not dependent on each other "
   ]
  },
  {
   "cell_type": "markdown",
   "id": "3e559b18",
   "metadata": {},
   "source": [
    "### d) Gender & Hear_About:"
   ]
  },
  {
   "cell_type": "markdown",
   "id": "187e787b",
   "metadata": {},
   "source": [
    "##### 1. Define Null Hypothesis, H0:\n",
    "            \n",
    "            Gender and Hear_About are independent on each other \n",
    "\n",
    "##### 2. Define Alternate Hypothesis, Ha:\n",
    "            \n",
    "            Gender and Hear_About are dependent on each other \n",
    "\n",
    "##### 3. Define CI & p value:\n",
    "            \n",
    "    CI = 95%\n",
    "    p values = 0.05\n",
    "    \n",
    "##### 4. Perform the test:\n",
    "            \n",
    "            Chi-Square "
   ]
  },
  {
   "cell_type": "code",
   "execution_count": 66,
   "id": "f5deb7dd",
   "metadata": {},
   "outputs": [
    {
     "data": {
      "text/html": [
       "<div>\n",
       "<style scoped>\n",
       "    .dataframe tbody tr th:only-of-type {\n",
       "        vertical-align: middle;\n",
       "    }\n",
       "\n",
       "    .dataframe tbody tr th {\n",
       "        vertical-align: top;\n",
       "    }\n",
       "\n",
       "    .dataframe thead th {\n",
       "        text-align: right;\n",
       "    }\n",
       "</style>\n",
       "<table border=\"1\" class=\"dataframe\">\n",
       "  <thead>\n",
       "    <tr style=\"text-align: right;\">\n",
       "      <th>Hear_About</th>\n",
       "      <th>1</th>\n",
       "      <th>2</th>\n",
       "      <th>2,5</th>\n",
       "      <th>3</th>\n",
       "      <th>3,4</th>\n",
       "      <th>3,5</th>\n",
       "      <th>4</th>\n",
       "      <th>5</th>\n",
       "      <th>5,4</th>\n",
       "    </tr>\n",
       "    <tr>\n",
       "      <th>Gender</th>\n",
       "      <th></th>\n",
       "      <th></th>\n",
       "      <th></th>\n",
       "      <th></th>\n",
       "      <th></th>\n",
       "      <th></th>\n",
       "      <th></th>\n",
       "      <th></th>\n",
       "      <th></th>\n",
       "    </tr>\n",
       "  </thead>\n",
       "  <tbody>\n",
       "    <tr>\n",
       "      <th>1</th>\n",
       "      <td>4</td>\n",
       "      <td>1</td>\n",
       "      <td>1</td>\n",
       "      <td>2</td>\n",
       "      <td>0</td>\n",
       "      <td>1</td>\n",
       "      <td>6</td>\n",
       "      <td>38</td>\n",
       "      <td>0</td>\n",
       "    </tr>\n",
       "    <tr>\n",
       "      <th>2</th>\n",
       "      <td>4</td>\n",
       "      <td>3</td>\n",
       "      <td>0</td>\n",
       "      <td>7</td>\n",
       "      <td>1</td>\n",
       "      <td>0</td>\n",
       "      <td>17</td>\n",
       "      <td>75</td>\n",
       "      <td>1</td>\n",
       "    </tr>\n",
       "  </tbody>\n",
       "</table>\n",
       "</div>"
      ],
      "text/plain": [
       "Hear_About  1  2  2,5  3  3,4  3,5   4   5  5,4\n",
       "Gender                                         \n",
       "1           4  1    1  2    0    1   6  38    0\n",
       "2           4  3    0  7    1    0  17  75    1"
      ]
     },
     "execution_count": 66,
     "metadata": {},
     "output_type": "execute_result"
    }
   ],
   "source": [
    "### creating cross_tab\n",
    "\n",
    "summ7 = pd.crosstab(index= Willy_Wonka.Gender, columns= Willy_Wonka.Hear_About)\n",
    "summ7\n",
    "\n",
    "# most of males and females hear about this movie from word of mouth (5)"
   ]
  },
  {
   "cell_type": "code",
   "execution_count": 67,
   "id": "a0137a10",
   "metadata": {},
   "outputs": [
    {
     "data": {
      "text/plain": [
       "(7.205793139617418,\n",
       " 0.5146008271343484,\n",
       " 8,\n",
       " array([[ 2.63354037,  1.31677019,  0.32919255,  2.96273292,  0.32919255,\n",
       "          0.32919255,  7.57142857, 37.19875776,  0.32919255],\n",
       "        [ 5.36645963,  2.68322981,  0.67080745,  6.03726708,  0.67080745,\n",
       "          0.67080745, 15.42857143, 75.80124224,  0.67080745]]))"
      ]
     },
     "execution_count": 67,
     "metadata": {},
     "output_type": "execute_result"
    }
   ],
   "source": [
    "stats.chi2_contingency(summ7)"
   ]
  },
  {
   "cell_type": "markdown",
   "id": "e00a0560",
   "metadata": {},
   "source": [
    "#### 5. Rejection rule:\n",
    "                                                   \n",
    "           New p value (0.5146008271343484) > 0.05, so didn't reject H0!!"
   ]
  },
  {
   "cell_type": "markdown",
   "id": "4271a0ee",
   "metadata": {},
   "source": [
    "#### 6. Business conclusion:\n",
    "\n",
    "                For movie Willy Wonka, Gender & Hear About are not dependent on each other "
   ]
  },
  {
   "cell_type": "markdown",
   "id": "e9af51a2",
   "metadata": {},
   "source": [
    "### e) Marital status and age:"
   ]
  },
  {
   "cell_type": "markdown",
   "id": "1d221584",
   "metadata": {},
   "source": [
    "##### 1. Define Null Hypothesis, H0:\n",
    "            \n",
    "            Marital Status and Age are independent on each other \n",
    "\n",
    "##### 2. Define Alternate Hypothesis, Ha:\n",
    "            \n",
    "            Marital Status and Age are dependent on each other \n",
    "\n",
    "##### 3. Define CI & p value:\n",
    "            \n",
    "    CI = 95%\n",
    "    p values = 0.05\n",
    "    \n",
    "##### 4. Perform the test:\n",
    "            \n",
    "            Chi-Square "
   ]
  },
  {
   "cell_type": "code",
   "execution_count": 69,
   "id": "6a072818",
   "metadata": {},
   "outputs": [
    {
     "data": {
      "text/html": [
       "<div>\n",
       "<style scoped>\n",
       "    .dataframe tbody tr th:only-of-type {\n",
       "        vertical-align: middle;\n",
       "    }\n",
       "\n",
       "    .dataframe tbody tr th {\n",
       "        vertical-align: top;\n",
       "    }\n",
       "\n",
       "    .dataframe thead th {\n",
       "        text-align: right;\n",
       "    }\n",
       "</style>\n",
       "<table border=\"1\" class=\"dataframe\">\n",
       "  <thead>\n",
       "    <tr style=\"text-align: right;\">\n",
       "      <th>Age</th>\n",
       "      <th>1.0</th>\n",
       "      <th>2.0</th>\n",
       "      <th>3.0</th>\n",
       "      <th>4.0</th>\n",
       "    </tr>\n",
       "    <tr>\n",
       "      <th>Marital_Status</th>\n",
       "      <th></th>\n",
       "      <th></th>\n",
       "      <th></th>\n",
       "      <th></th>\n",
       "    </tr>\n",
       "  </thead>\n",
       "  <tbody>\n",
       "    <tr>\n",
       "      <th>1</th>\n",
       "      <td>1</td>\n",
       "      <td>7</td>\n",
       "      <td>38</td>\n",
       "      <td>2</td>\n",
       "    </tr>\n",
       "    <tr>\n",
       "      <th>2</th>\n",
       "      <td>11</td>\n",
       "      <td>80</td>\n",
       "      <td>21</td>\n",
       "      <td>1</td>\n",
       "    </tr>\n",
       "  </tbody>\n",
       "</table>\n",
       "</div>"
      ],
      "text/plain": [
       "Age             1.0  2.0  3.0  4.0\n",
       "Marital_Status                    \n",
       "1                 1    7   38    2\n",
       "2                11   80   21    1"
      ]
     },
     "execution_count": 69,
     "metadata": {},
     "output_type": "execute_result"
    }
   ],
   "source": [
    "### creating cross_tab\n",
    "\n",
    "summ8 = pd.crosstab(index= Willy_Wonka.Marital_Status, columns= Willy_Wonka.Age)\n",
    "summ8\n",
    "\n",
    "# most of married people are from age group 3 : 31-60 and most of single people are from age group 2 : 13-30"
   ]
  },
  {
   "cell_type": "code",
   "execution_count": 70,
   "id": "96a35d9a",
   "metadata": {},
   "outputs": [
    {
     "data": {
      "text/plain": [
       "(58.03504647863871,\n",
       " 1.5450190950837418e-12,\n",
       " 3,\n",
       " array([[ 3.57763975, 25.9378882 , 17.59006211,  0.89440994],\n",
       "        [ 8.42236025, 61.0621118 , 41.40993789,  2.10559006]]))"
      ]
     },
     "execution_count": 70,
     "metadata": {},
     "output_type": "execute_result"
    }
   ],
   "source": [
    "stats.chi2_contingency(summ8)"
   ]
  },
  {
   "cell_type": "markdown",
   "id": "f80299dd",
   "metadata": {},
   "source": [
    "#### 5. Rejection rule:\n",
    "                                                   \n",
    "           New p value (1.5450190950837418e-12) < 0.05, so reject H0!!"
   ]
  },
  {
   "cell_type": "markdown",
   "id": "dfde988c",
   "metadata": {},
   "source": [
    "#### 6. Business conclusion:\n",
    "\n",
    "                For movie Willy Wonka, Age and Marital Status are dependent on each other "
   ]
  },
  {
   "cell_type": "markdown",
   "id": "650118ce",
   "metadata": {},
   "source": [
    "### f) Marital status and income:"
   ]
  },
  {
   "cell_type": "markdown",
   "id": "10662293",
   "metadata": {},
   "source": [
    "##### 1. Define Null Hypothesis, H0:\n",
    "            \n",
    "            Marital Status and Income are independent on each other \n",
    "\n",
    "##### 2. Define Alternate Hypothesis, Ha:\n",
    "            \n",
    "            Marital Status and Income are dependent on each other \n",
    "\n",
    "##### 3. Define CI & p value:\n",
    "            \n",
    "    CI = 95%\n",
    "    p values = 0.05\n",
    "    \n",
    "##### 4. Perform the test:\n",
    "            \n",
    "            Chi-Square "
   ]
  },
  {
   "cell_type": "code",
   "execution_count": 72,
   "id": "54623a00",
   "metadata": {},
   "outputs": [
    {
     "data": {
      "text/html": [
       "<div>\n",
       "<style scoped>\n",
       "    .dataframe tbody tr th:only-of-type {\n",
       "        vertical-align: middle;\n",
       "    }\n",
       "\n",
       "    .dataframe tbody tr th {\n",
       "        vertical-align: top;\n",
       "    }\n",
       "\n",
       "    .dataframe thead th {\n",
       "        text-align: right;\n",
       "    }\n",
       "</style>\n",
       "<table border=\"1\" class=\"dataframe\">\n",
       "  <thead>\n",
       "    <tr style=\"text-align: right;\">\n",
       "      <th>Income</th>\n",
       "      <th>1.0</th>\n",
       "      <th>2.0</th>\n",
       "      <th>3.0</th>\n",
       "    </tr>\n",
       "    <tr>\n",
       "      <th>Marital_Status</th>\n",
       "      <th></th>\n",
       "      <th></th>\n",
       "      <th></th>\n",
       "    </tr>\n",
       "  </thead>\n",
       "  <tbody>\n",
       "    <tr>\n",
       "      <th>1</th>\n",
       "      <td>7</td>\n",
       "      <td>14</td>\n",
       "      <td>27</td>\n",
       "    </tr>\n",
       "    <tr>\n",
       "      <th>2</th>\n",
       "      <td>76</td>\n",
       "      <td>22</td>\n",
       "      <td>15</td>\n",
       "    </tr>\n",
       "  </tbody>\n",
       "</table>\n",
       "</div>"
      ],
      "text/plain": [
       "Income          1.0  2.0  3.0\n",
       "Marital_Status               \n",
       "1                 7   14   27\n",
       "2                76   22   15"
      ]
     },
     "execution_count": 72,
     "metadata": {},
     "output_type": "execute_result"
    }
   ],
   "source": [
    "### creating cross_tab\n",
    "\n",
    "summ9 = pd.crosstab(index= Willy_Wonka.Marital_Status, columns= Willy_Wonka.Income)\n",
    "summ9\n",
    "\n",
    "# most of single are very less income  i.e. Less than $50,000, married couple have high income"
   ]
  },
  {
   "cell_type": "code",
   "execution_count": 73,
   "id": "c7471372",
   "metadata": {},
   "outputs": [
    {
     "data": {
      "text/plain": [
       "(43.39946598093456,\n",
       " 3.766393602358313e-10,\n",
       " 2,\n",
       " array([[24.74534161, 10.73291925, 12.52173913],\n",
       "        [58.25465839, 25.26708075, 29.47826087]]))"
      ]
     },
     "execution_count": 73,
     "metadata": {},
     "output_type": "execute_result"
    }
   ],
   "source": [
    "stats.chi2_contingency(summ9)"
   ]
  },
  {
   "cell_type": "markdown",
   "id": "39e0d3fc",
   "metadata": {},
   "source": [
    "#### 5. Rejection rule:\n",
    "                                                   \n",
    "           New p value (3.766393602358313e-10) < 0.05, so reject H0!!"
   ]
  },
  {
   "cell_type": "markdown",
   "id": "4b21d39e",
   "metadata": {},
   "source": [
    "#### 6. Business conclusion:\n",
    "\n",
    "                For movie Willy Wonka, Income and Marital Status are dependent on each other "
   ]
  },
  {
   "cell_type": "markdown",
   "id": "adbbd04d",
   "metadata": {},
   "source": [
    "### g) Marital status and hear about:"
   ]
  },
  {
   "cell_type": "markdown",
   "id": "6701e50b",
   "metadata": {},
   "source": [
    "##### 1. Define Null Hypothesis, H0:\n",
    "            \n",
    "            Marital Status and Hear About are independent on each other \n",
    "\n",
    "##### 2. Define Alternate Hypothesis, Ha:\n",
    "            \n",
    "            Marital Status and Hear About are dependent on each other \n",
    "\n",
    "##### 3. Define CI & p value:\n",
    "            \n",
    "    CI = 95%\n",
    "    p values = 0.05\n",
    "    \n",
    "##### 4. Perform the test:\n",
    "            \n",
    "            Chi-Square "
   ]
  },
  {
   "cell_type": "code",
   "execution_count": 75,
   "id": "a0cd4bd2",
   "metadata": {},
   "outputs": [
    {
     "data": {
      "text/html": [
       "<div>\n",
       "<style scoped>\n",
       "    .dataframe tbody tr th:only-of-type {\n",
       "        vertical-align: middle;\n",
       "    }\n",
       "\n",
       "    .dataframe tbody tr th {\n",
       "        vertical-align: top;\n",
       "    }\n",
       "\n",
       "    .dataframe thead th {\n",
       "        text-align: right;\n",
       "    }\n",
       "</style>\n",
       "<table border=\"1\" class=\"dataframe\">\n",
       "  <thead>\n",
       "    <tr style=\"text-align: right;\">\n",
       "      <th>Hear_About</th>\n",
       "      <th>1</th>\n",
       "      <th>2</th>\n",
       "      <th>2,5</th>\n",
       "      <th>3</th>\n",
       "      <th>3,4</th>\n",
       "      <th>3,5</th>\n",
       "      <th>4</th>\n",
       "      <th>5</th>\n",
       "      <th>5,4</th>\n",
       "    </tr>\n",
       "    <tr>\n",
       "      <th>Marital_Status</th>\n",
       "      <th></th>\n",
       "      <th></th>\n",
       "      <th></th>\n",
       "      <th></th>\n",
       "      <th></th>\n",
       "      <th></th>\n",
       "      <th></th>\n",
       "      <th></th>\n",
       "      <th></th>\n",
       "    </tr>\n",
       "  </thead>\n",
       "  <tbody>\n",
       "    <tr>\n",
       "      <th>1</th>\n",
       "      <td>2</td>\n",
       "      <td>2</td>\n",
       "      <td>0</td>\n",
       "      <td>5</td>\n",
       "      <td>0</td>\n",
       "      <td>1</td>\n",
       "      <td>6</td>\n",
       "      <td>32</td>\n",
       "      <td>0</td>\n",
       "    </tr>\n",
       "    <tr>\n",
       "      <th>2</th>\n",
       "      <td>6</td>\n",
       "      <td>2</td>\n",
       "      <td>1</td>\n",
       "      <td>4</td>\n",
       "      <td>1</td>\n",
       "      <td>0</td>\n",
       "      <td>17</td>\n",
       "      <td>81</td>\n",
       "      <td>1</td>\n",
       "    </tr>\n",
       "  </tbody>\n",
       "</table>\n",
       "</div>"
      ],
      "text/plain": [
       "Hear_About      1  2  2,5  3  3,4  3,5   4   5  5,4\n",
       "Marital_Status                                     \n",
       "1               2  2    0  5    0    1   6  32    0\n",
       "2               6  2    1  4    1    0  17  81    1"
      ]
     },
     "execution_count": 75,
     "metadata": {},
     "output_type": "execute_result"
    }
   ],
   "source": [
    "### creating cross_tab\n",
    "\n",
    "summ10 = pd.crosstab(index= Willy_Wonka.Marital_Status, columns= Willy_Wonka.Hear_About)\n",
    "summ10\n",
    "\n",
    "# most of singles and married couple hear about this movie from word of mouth (5)"
   ]
  },
  {
   "cell_type": "code",
   "execution_count": 76,
   "id": "790a1607",
   "metadata": {},
   "outputs": [
    {
     "data": {
      "text/plain": [
       "(7.619469661042513,\n",
       " 0.4714952581271302,\n",
       " 8,\n",
       " array([[ 2.38509317,  1.19254658,  0.29813665,  2.68322981,  0.29813665,\n",
       "          0.29813665,  6.85714286, 33.68944099,  0.29813665],\n",
       "        [ 5.61490683,  2.80745342,  0.70186335,  6.31677019,  0.70186335,\n",
       "          0.70186335, 16.14285714, 79.31055901,  0.70186335]]))"
      ]
     },
     "execution_count": 76,
     "metadata": {},
     "output_type": "execute_result"
    }
   ],
   "source": [
    "stats.chi2_contingency(summ10)"
   ]
  },
  {
   "cell_type": "markdown",
   "id": "184431ea",
   "metadata": {},
   "source": [
    "#### 5. Rejection rule:\n",
    "                                                   \n",
    "           New p value (0.4714952581271302) > 0.05, so didn't reject H0!!"
   ]
  },
  {
   "cell_type": "markdown",
   "id": "21b19d24",
   "metadata": {},
   "source": [
    "#### 6. Business conclusion:\n",
    "\n",
    "                For movie Willy Wonka, Hear about and maritual status  are not dependent on each other "
   ]
  },
  {
   "cell_type": "markdown",
   "id": "dac887b6",
   "metadata": {},
   "source": [
    "### h) age and income:"
   ]
  },
  {
   "cell_type": "markdown",
   "id": "2b93f709",
   "metadata": {},
   "source": [
    "##### 1. Define Null Hypothesis, H0:\n",
    "            \n",
    "            Age and income are independent on each other \n",
    "\n",
    "##### 2. Define Alternate Hypothesis, Ha:\n",
    "            \n",
    "            Age and income are dependent on each other \n",
    "\n",
    "##### 3. Define CI & p value:\n",
    "            \n",
    "    CI = 95%\n",
    "    p values = 0.05\n",
    "    \n",
    "##### 4. Perform the test:\n",
    "            \n",
    "            Chi-Square "
   ]
  },
  {
   "cell_type": "code",
   "execution_count": 77,
   "id": "4be1bef3",
   "metadata": {},
   "outputs": [
    {
     "data": {
      "text/html": [
       "<div>\n",
       "<style scoped>\n",
       "    .dataframe tbody tr th:only-of-type {\n",
       "        vertical-align: middle;\n",
       "    }\n",
       "\n",
       "    .dataframe tbody tr th {\n",
       "        vertical-align: top;\n",
       "    }\n",
       "\n",
       "    .dataframe thead th {\n",
       "        text-align: right;\n",
       "    }\n",
       "</style>\n",
       "<table border=\"1\" class=\"dataframe\">\n",
       "  <thead>\n",
       "    <tr style=\"text-align: right;\">\n",
       "      <th>Income</th>\n",
       "      <th>1.0</th>\n",
       "      <th>2.0</th>\n",
       "      <th>3.0</th>\n",
       "    </tr>\n",
       "    <tr>\n",
       "      <th>Age</th>\n",
       "      <th></th>\n",
       "      <th></th>\n",
       "      <th></th>\n",
       "    </tr>\n",
       "  </thead>\n",
       "  <tbody>\n",
       "    <tr>\n",
       "      <th>1.0</th>\n",
       "      <td>6</td>\n",
       "      <td>3</td>\n",
       "      <td>3</td>\n",
       "    </tr>\n",
       "    <tr>\n",
       "      <th>2.0</th>\n",
       "      <td>57</td>\n",
       "      <td>19</td>\n",
       "      <td>11</td>\n",
       "    </tr>\n",
       "    <tr>\n",
       "      <th>3.0</th>\n",
       "      <td>18</td>\n",
       "      <td>14</td>\n",
       "      <td>27</td>\n",
       "    </tr>\n",
       "    <tr>\n",
       "      <th>4.0</th>\n",
       "      <td>2</td>\n",
       "      <td>0</td>\n",
       "      <td>1</td>\n",
       "    </tr>\n",
       "  </tbody>\n",
       "</table>\n",
       "</div>"
      ],
      "text/plain": [
       "Income  1.0  2.0  3.0\n",
       "Age                  \n",
       "1.0       6    3    3\n",
       "2.0      57   19   11\n",
       "3.0      18   14   27\n",
       "4.0       2    0    1"
      ]
     },
     "execution_count": 77,
     "metadata": {},
     "output_type": "execute_result"
    }
   ],
   "source": [
    "### creating cross_tab\n",
    "\n",
    "summ11 = pd.crosstab(index= Willy_Wonka.Age, columns= Willy_Wonka.Income)\n",
    "summ11"
   ]
  },
  {
   "cell_type": "code",
   "execution_count": 78,
   "id": "6eb4a035",
   "metadata": {},
   "outputs": [
    {
     "data": {
      "text/plain": [
       "(24.11461996762946,\n",
       " 0.0004975011404834772,\n",
       " 6,\n",
       " array([[ 6.1863354 ,  2.68322981,  3.13043478],\n",
       "        [44.85093168, 19.45341615, 22.69565217],\n",
       "        [30.41614907, 13.19254658, 15.39130435],\n",
       "        [ 1.54658385,  0.67080745,  0.7826087 ]]))"
      ]
     },
     "execution_count": 78,
     "metadata": {},
     "output_type": "execute_result"
    }
   ],
   "source": [
    "stats.chi2_contingency(summ11)"
   ]
  },
  {
   "cell_type": "markdown",
   "id": "e35236b0",
   "metadata": {},
   "source": [
    "#### 5. Rejection rule:\n",
    "                                                   \n",
    "           New p value (0.0004975011404834772) < 0.05, so reject H0!!"
   ]
  },
  {
   "cell_type": "markdown",
   "id": "99604ae6",
   "metadata": {},
   "source": [
    "#### 6. Business conclusion:\n",
    "\n",
    "                For movie Willy Wonka, Income and age  are dependent on each other "
   ]
  },
  {
   "cell_type": "markdown",
   "id": "ac2c1295",
   "metadata": {},
   "source": [
    "### i) age and hear about :"
   ]
  },
  {
   "cell_type": "markdown",
   "id": "c2992000",
   "metadata": {},
   "source": [
    "##### 1. Define Null Hypothesis, H0:\n",
    "            \n",
    "            Age and hear about  are independent on each other \n",
    "\n",
    "##### 2. Define Alternate Hypothesis, Ha:\n",
    "            \n",
    "            Age and hear about are dependent on each other \n",
    "\n",
    "##### 3. Define CI & p value:\n",
    "            \n",
    "    CI = 95%\n",
    "    p values = 0.05\n",
    "    \n",
    "##### 4. Perform the test:\n",
    "            \n",
    "            Chi-Square "
   ]
  },
  {
   "cell_type": "code",
   "execution_count": 79,
   "id": "579bf0cf",
   "metadata": {},
   "outputs": [
    {
     "data": {
      "text/html": [
       "<div>\n",
       "<style scoped>\n",
       "    .dataframe tbody tr th:only-of-type {\n",
       "        vertical-align: middle;\n",
       "    }\n",
       "\n",
       "    .dataframe tbody tr th {\n",
       "        vertical-align: top;\n",
       "    }\n",
       "\n",
       "    .dataframe thead th {\n",
       "        text-align: right;\n",
       "    }\n",
       "</style>\n",
       "<table border=\"1\" class=\"dataframe\">\n",
       "  <thead>\n",
       "    <tr style=\"text-align: right;\">\n",
       "      <th>Hear_About</th>\n",
       "      <th>1</th>\n",
       "      <th>2</th>\n",
       "      <th>2,5</th>\n",
       "      <th>3</th>\n",
       "      <th>3,4</th>\n",
       "      <th>3,5</th>\n",
       "      <th>4</th>\n",
       "      <th>5</th>\n",
       "      <th>5,4</th>\n",
       "    </tr>\n",
       "    <tr>\n",
       "      <th>Age</th>\n",
       "      <th></th>\n",
       "      <th></th>\n",
       "      <th></th>\n",
       "      <th></th>\n",
       "      <th></th>\n",
       "      <th></th>\n",
       "      <th></th>\n",
       "      <th></th>\n",
       "      <th></th>\n",
       "    </tr>\n",
       "  </thead>\n",
       "  <tbody>\n",
       "    <tr>\n",
       "      <th>1.0</th>\n",
       "      <td>1</td>\n",
       "      <td>1</td>\n",
       "      <td>0</td>\n",
       "      <td>2</td>\n",
       "      <td>0</td>\n",
       "      <td>0</td>\n",
       "      <td>2</td>\n",
       "      <td>6</td>\n",
       "      <td>0</td>\n",
       "    </tr>\n",
       "    <tr>\n",
       "      <th>2.0</th>\n",
       "      <td>4</td>\n",
       "      <td>0</td>\n",
       "      <td>0</td>\n",
       "      <td>2</td>\n",
       "      <td>1</td>\n",
       "      <td>0</td>\n",
       "      <td>12</td>\n",
       "      <td>68</td>\n",
       "      <td>0</td>\n",
       "    </tr>\n",
       "    <tr>\n",
       "      <th>3.0</th>\n",
       "      <td>2</td>\n",
       "      <td>3</td>\n",
       "      <td>1</td>\n",
       "      <td>5</td>\n",
       "      <td>0</td>\n",
       "      <td>1</td>\n",
       "      <td>9</td>\n",
       "      <td>37</td>\n",
       "      <td>1</td>\n",
       "    </tr>\n",
       "    <tr>\n",
       "      <th>4.0</th>\n",
       "      <td>1</td>\n",
       "      <td>0</td>\n",
       "      <td>0</td>\n",
       "      <td>0</td>\n",
       "      <td>0</td>\n",
       "      <td>0</td>\n",
       "      <td>0</td>\n",
       "      <td>2</td>\n",
       "      <td>0</td>\n",
       "    </tr>\n",
       "  </tbody>\n",
       "</table>\n",
       "</div>"
      ],
      "text/plain": [
       "Hear_About  1  2  2,5  3  3,4  3,5   4   5  5,4\n",
       "Age                                            \n",
       "1.0         1  1    0  2    0    0   2   6    0\n",
       "2.0         4  0    0  2    1    0  12  68    0\n",
       "3.0         2  3    1  5    0    1   9  37    1\n",
       "4.0         1  0    0  0    0    0   0   2    0"
      ]
     },
     "execution_count": 79,
     "metadata": {},
     "output_type": "execute_result"
    }
   ],
   "source": [
    "### creating cross_tab\n",
    "\n",
    "summ12 = pd.crosstab(index= Willy_Wonka.Age, columns= Willy_Wonka.Hear_About)\n",
    "summ12"
   ]
  },
  {
   "cell_type": "code",
   "execution_count": 80,
   "id": "7b2da39e",
   "metadata": {},
   "outputs": [
    {
     "data": {
      "text/plain": [
       "(24.837084061745188,\n",
       " 0.4146567407262217,\n",
       " 24,\n",
       " array([[5.96273292e-01, 2.98136646e-01, 7.45341615e-02, 6.70807453e-01,\n",
       "         7.45341615e-02, 7.45341615e-02, 1.71428571e+00, 8.42236025e+00,\n",
       "         7.45341615e-02],\n",
       "        [4.32298137e+00, 2.16149068e+00, 5.40372671e-01, 4.86335404e+00,\n",
       "         5.40372671e-01, 5.40372671e-01, 1.24285714e+01, 6.10621118e+01,\n",
       "         5.40372671e-01],\n",
       "        [2.93167702e+00, 1.46583851e+00, 3.66459627e-01, 3.29813665e+00,\n",
       "         3.66459627e-01, 3.66459627e-01, 8.42857143e+00, 4.14099379e+01,\n",
       "         3.66459627e-01],\n",
       "        [1.49068323e-01, 7.45341615e-02, 1.86335404e-02, 1.67701863e-01,\n",
       "         1.86335404e-02, 1.86335404e-02, 4.28571429e-01, 2.10559006e+00,\n",
       "         1.86335404e-02]]))"
      ]
     },
     "execution_count": 80,
     "metadata": {},
     "output_type": "execute_result"
    }
   ],
   "source": [
    "stats.chi2_contingency(summ12)"
   ]
  },
  {
   "cell_type": "markdown",
   "id": "d756e3af",
   "metadata": {},
   "source": [
    "#### 5. Rejection rule:\n",
    "                                                   \n",
    "           New p value (0.4146567407262217) > 0.05, so didn't reject H0!!"
   ]
  },
  {
   "cell_type": "markdown",
   "id": "2004790b",
   "metadata": {},
   "source": [
    "#### 6. Business conclusion:\n",
    "\n",
    "                For movie Willy Wonka,hear about and age are not dependent on each other "
   ]
  },
  {
   "cell_type": "markdown",
   "id": "7e725af0",
   "metadata": {},
   "source": [
    "### j) income and hear about :"
   ]
  },
  {
   "cell_type": "markdown",
   "id": "34d87699",
   "metadata": {},
   "source": [
    "##### 1. Define Null Hypothesis, H0:\n",
    "            \n",
    "            Income and hear about  are independent on each other \n",
    "\n",
    "##### 2. Define Alternate Hypothesis, Ha:\n",
    "            \n",
    "            Income and hear about are dependent on each other \n",
    "\n",
    "##### 3. Define CI & p value:\n",
    "            \n",
    "    CI = 95%\n",
    "    p values = 0.05\n",
    "    \n",
    "##### 4. Perform the test:\n",
    "            \n",
    "            Chi-Square "
   ]
  },
  {
   "cell_type": "code",
   "execution_count": 81,
   "id": "d1bdb8a6",
   "metadata": {},
   "outputs": [
    {
     "data": {
      "text/html": [
       "<div>\n",
       "<style scoped>\n",
       "    .dataframe tbody tr th:only-of-type {\n",
       "        vertical-align: middle;\n",
       "    }\n",
       "\n",
       "    .dataframe tbody tr th {\n",
       "        vertical-align: top;\n",
       "    }\n",
       "\n",
       "    .dataframe thead th {\n",
       "        text-align: right;\n",
       "    }\n",
       "</style>\n",
       "<table border=\"1\" class=\"dataframe\">\n",
       "  <thead>\n",
       "    <tr style=\"text-align: right;\">\n",
       "      <th>Hear_About</th>\n",
       "      <th>1</th>\n",
       "      <th>2</th>\n",
       "      <th>2,5</th>\n",
       "      <th>3</th>\n",
       "      <th>3,4</th>\n",
       "      <th>3,5</th>\n",
       "      <th>4</th>\n",
       "      <th>5</th>\n",
       "      <th>5,4</th>\n",
       "    </tr>\n",
       "    <tr>\n",
       "      <th>Income</th>\n",
       "      <th></th>\n",
       "      <th></th>\n",
       "      <th></th>\n",
       "      <th></th>\n",
       "      <th></th>\n",
       "      <th></th>\n",
       "      <th></th>\n",
       "      <th></th>\n",
       "      <th></th>\n",
       "    </tr>\n",
       "  </thead>\n",
       "  <tbody>\n",
       "    <tr>\n",
       "      <th>1.0</th>\n",
       "      <td>6</td>\n",
       "      <td>1</td>\n",
       "      <td>0</td>\n",
       "      <td>2</td>\n",
       "      <td>0</td>\n",
       "      <td>0</td>\n",
       "      <td>11</td>\n",
       "      <td>62</td>\n",
       "      <td>1</td>\n",
       "    </tr>\n",
       "    <tr>\n",
       "      <th>2.0</th>\n",
       "      <td>1</td>\n",
       "      <td>2</td>\n",
       "      <td>1</td>\n",
       "      <td>1</td>\n",
       "      <td>1</td>\n",
       "      <td>0</td>\n",
       "      <td>4</td>\n",
       "      <td>26</td>\n",
       "      <td>0</td>\n",
       "    </tr>\n",
       "    <tr>\n",
       "      <th>3.0</th>\n",
       "      <td>1</td>\n",
       "      <td>1</td>\n",
       "      <td>0</td>\n",
       "      <td>6</td>\n",
       "      <td>0</td>\n",
       "      <td>1</td>\n",
       "      <td>8</td>\n",
       "      <td>25</td>\n",
       "      <td>0</td>\n",
       "    </tr>\n",
       "  </tbody>\n",
       "</table>\n",
       "</div>"
      ],
      "text/plain": [
       "Hear_About  1  2  2,5  3  3,4  3,5   4   5  5,4\n",
       "Income                                         \n",
       "1.0         6  1    0  2    0    0  11  62    1\n",
       "2.0         1  2    1  1    1    0   4  26    0\n",
       "3.0         1  1    0  6    0    1   8  25    0"
      ]
     },
     "execution_count": 81,
     "metadata": {},
     "output_type": "execute_result"
    }
   ],
   "source": [
    "### creating cross_tab\n",
    "\n",
    "summ13 = pd.crosstab(index= Willy_Wonka.Income, columns= Willy_Wonka.Hear_About)\n",
    "summ13"
   ]
  },
  {
   "cell_type": "code",
   "execution_count": 82,
   "id": "125b40f1",
   "metadata": {},
   "outputs": [
    {
     "data": {
      "text/plain": [
       "(24.017484432979376,\n",
       " 0.08912331258552537,\n",
       " 16,\n",
       " array([[ 4.1242236 ,  2.0621118 ,  0.51552795,  4.63975155,  0.51552795,\n",
       "          0.51552795, 11.85714286, 58.25465839,  0.51552795],\n",
       "        [ 1.78881988,  0.89440994,  0.22360248,  2.01242236,  0.22360248,\n",
       "          0.22360248,  5.14285714, 25.26708075,  0.22360248],\n",
       "        [ 2.08695652,  1.04347826,  0.26086957,  2.34782609,  0.26086957,\n",
       "          0.26086957,  6.        , 29.47826087,  0.26086957]]))"
      ]
     },
     "execution_count": 82,
     "metadata": {},
     "output_type": "execute_result"
    }
   ],
   "source": [
    "stats.chi2_contingency(summ13)"
   ]
  },
  {
   "cell_type": "markdown",
   "id": "4efbace9",
   "metadata": {},
   "source": [
    "#### 5. Rejection rule:\n",
    "                                                   \n",
    "           New p value (0.08912331258552537) > 0.05, so didn't reject H0!!"
   ]
  },
  {
   "cell_type": "markdown",
   "id": "58907890",
   "metadata": {},
   "source": [
    "#### 6. Business conclusion:\n",
    "\n",
    "                For movie Willy Wonka,hear about and income are not dependent on each other "
   ]
  },
  {
   "cell_type": "markdown",
   "id": "8d33a722",
   "metadata": {},
   "source": [
    "### Similarly we can peroform above steps for other two movies also but the process become too lengthy."
   ]
  },
  {
   "cell_type": "markdown",
   "id": "acc4a125",
   "metadata": {},
   "source": [
    "## WE CAN ALSO SEE THESE CORRELATIONS USING HEATMAPS:"
   ]
  },
  {
   "cell_type": "code",
   "execution_count": 135,
   "id": "316d0845",
   "metadata": {},
   "outputs": [],
   "source": [
    "corr_willy_wonka = Willy_Wonka.loc[ : : , [ 'Gender', 'Marital_Status', 'Age', 'Income']]"
   ]
  },
  {
   "cell_type": "code",
   "execution_count": 137,
   "id": "ffdd590d",
   "metadata": {},
   "outputs": [],
   "source": [
    "corr_willy_wonka['Gender'] = corr_willy_wonka.Gender.astype('float64')\n",
    "corr_willy_wonka['Marital_Status'] = corr_willy_wonka.Marital_Status.astype('float64')"
   ]
  },
  {
   "cell_type": "code",
   "execution_count": 138,
   "id": "d2015a28",
   "metadata": {},
   "outputs": [
    {
     "data": {
      "text/plain": [
       "Gender            float64\n",
       "Marital_Status    float64\n",
       "Age               float64\n",
       "Income            float64\n",
       "dtype: object"
      ]
     },
     "execution_count": 138,
     "metadata": {},
     "output_type": "execute_result"
    }
   ],
   "source": [
    "corr_willy_wonka.dtypes"
   ]
  },
  {
   "cell_type": "code",
   "execution_count": 139,
   "id": "680db9cb",
   "metadata": {},
   "outputs": [
    {
     "data": {
      "text/html": [
       "<div>\n",
       "<style scoped>\n",
       "    .dataframe tbody tr th:only-of-type {\n",
       "        vertical-align: middle;\n",
       "    }\n",
       "\n",
       "    .dataframe tbody tr th {\n",
       "        vertical-align: top;\n",
       "    }\n",
       "\n",
       "    .dataframe thead th {\n",
       "        text-align: right;\n",
       "    }\n",
       "</style>\n",
       "<table border=\"1\" class=\"dataframe\">\n",
       "  <thead>\n",
       "    <tr style=\"text-align: right;\">\n",
       "      <th></th>\n",
       "      <th>Gender</th>\n",
       "      <th>Marital_Status</th>\n",
       "      <th>Age</th>\n",
       "      <th>Income</th>\n",
       "    </tr>\n",
       "  </thead>\n",
       "  <tbody>\n",
       "    <tr>\n",
       "      <th>Gender</th>\n",
       "      <td>1.000000</td>\n",
       "      <td>0.034638</td>\n",
       "      <td>0.009263</td>\n",
       "      <td>-0.054794</td>\n",
       "    </tr>\n",
       "    <tr>\n",
       "      <th>Marital_Status</th>\n",
       "      <td>0.034638</td>\n",
       "      <td>1.000000</td>\n",
       "      <td>-0.536212</td>\n",
       "      <td>-0.518696</td>\n",
       "    </tr>\n",
       "    <tr>\n",
       "      <th>Age</th>\n",
       "      <td>0.009263</td>\n",
       "      <td>-0.536212</td>\n",
       "      <td>1.000000</td>\n",
       "      <td>0.271144</td>\n",
       "    </tr>\n",
       "    <tr>\n",
       "      <th>Income</th>\n",
       "      <td>-0.054794</td>\n",
       "      <td>-0.518696</td>\n",
       "      <td>0.271144</td>\n",
       "      <td>1.000000</td>\n",
       "    </tr>\n",
       "  </tbody>\n",
       "</table>\n",
       "</div>"
      ],
      "text/plain": [
       "                  Gender  Marital_Status       Age    Income\n",
       "Gender          1.000000        0.034638  0.009263 -0.054794\n",
       "Marital_Status  0.034638        1.000000 -0.536212 -0.518696\n",
       "Age             0.009263       -0.536212  1.000000  0.271144\n",
       "Income         -0.054794       -0.518696  0.271144  1.000000"
      ]
     },
     "execution_count": 139,
     "metadata": {},
     "output_type": "execute_result"
    }
   ],
   "source": [
    "corr_1 = corr_willy_wonka.corr()\n",
    "corr_1"
   ]
  },
  {
   "cell_type": "markdown",
   "id": "4ce7cadf",
   "metadata": {},
   "source": [
    "## for movie 'Ferris Buellers Day Off':"
   ]
  },
  {
   "cell_type": "code",
   "execution_count": 102,
   "id": "5dcb9db8",
   "metadata": {},
   "outputs": [
    {
     "data": {
      "text/html": [
       "<div>\n",
       "<style scoped>\n",
       "    .dataframe tbody tr th:only-of-type {\n",
       "        vertical-align: middle;\n",
       "    }\n",
       "\n",
       "    .dataframe tbody tr th {\n",
       "        vertical-align: top;\n",
       "    }\n",
       "\n",
       "    .dataframe thead th {\n",
       "        text-align: right;\n",
       "    }\n",
       "</style>\n",
       "<table border=\"1\" class=\"dataframe\">\n",
       "  <thead>\n",
       "    <tr style=\"text-align: right;\">\n",
       "      <th></th>\n",
       "      <th>_rowstate_</th>\n",
       "      <th>Movie</th>\n",
       "      <th>Gender</th>\n",
       "      <th>Marital_Status</th>\n",
       "      <th>Sinage</th>\n",
       "      <th>Parking</th>\n",
       "      <th>Clean</th>\n",
       "      <th>Overall</th>\n",
       "      <th>Age</th>\n",
       "      <th>Income</th>\n",
       "      <th>Hear_About</th>\n",
       "    </tr>\n",
       "  </thead>\n",
       "  <tbody>\n",
       "    <tr>\n",
       "      <th>0</th>\n",
       "      <td>0</td>\n",
       "      <td>Ferris Buellers Day Off</td>\n",
       "      <td>2</td>\n",
       "      <td>1</td>\n",
       "      <td>2.0</td>\n",
       "      <td>2.0</td>\n",
       "      <td>2.0</td>\n",
       "      <td>2.0</td>\n",
       "      <td>3.0</td>\n",
       "      <td>1.0</td>\n",
       "      <td>5</td>\n",
       "    </tr>\n",
       "    <tr>\n",
       "      <th>1</th>\n",
       "      <td>0</td>\n",
       "      <td>Ferris Buellers Day Off</td>\n",
       "      <td>2</td>\n",
       "      <td>2</td>\n",
       "      <td>1.0</td>\n",
       "      <td>1.0</td>\n",
       "      <td>1.0</td>\n",
       "      <td>1.0</td>\n",
       "      <td>2.0</td>\n",
       "      <td>1.0</td>\n",
       "      <td>5</td>\n",
       "    </tr>\n",
       "    <tr>\n",
       "      <th>2</th>\n",
       "      <td>0</td>\n",
       "      <td>Ferris Buellers Day Off</td>\n",
       "      <td>1</td>\n",
       "      <td>1</td>\n",
       "      <td>2.0</td>\n",
       "      <td>4.0</td>\n",
       "      <td>3.0</td>\n",
       "      <td>2.0</td>\n",
       "      <td>4.0</td>\n",
       "      <td>1.0</td>\n",
       "      <td>5</td>\n",
       "    </tr>\n",
       "    <tr>\n",
       "      <th>3</th>\n",
       "      <td>0</td>\n",
       "      <td>Ferris Buellers Day Off</td>\n",
       "      <td>2</td>\n",
       "      <td>1</td>\n",
       "      <td>1.0</td>\n",
       "      <td>3.0</td>\n",
       "      <td>2.0</td>\n",
       "      <td>2.0</td>\n",
       "      <td>4.0</td>\n",
       "      <td>1.0</td>\n",
       "      <td>5</td>\n",
       "    </tr>\n",
       "    <tr>\n",
       "      <th>4</th>\n",
       "      <td>0</td>\n",
       "      <td>Ferris Buellers Day Off</td>\n",
       "      <td>2</td>\n",
       "      <td>1</td>\n",
       "      <td>1.0</td>\n",
       "      <td>1.0</td>\n",
       "      <td>1.0</td>\n",
       "      <td>1.0</td>\n",
       "      <td>3.0</td>\n",
       "      <td>3.0</td>\n",
       "      <td>1</td>\n",
       "    </tr>\n",
       "  </tbody>\n",
       "</table>\n",
       "</div>"
      ],
      "text/plain": [
       "   _rowstate_                    Movie Gender Marital_Status  Sinage  Parking  \\\n",
       "0           0  Ferris Buellers Day Off      2              1     2.0      2.0   \n",
       "1           0  Ferris Buellers Day Off      2              2     1.0      1.0   \n",
       "2           0  Ferris Buellers Day Off      1              1     2.0      4.0   \n",
       "3           0  Ferris Buellers Day Off      2              1     1.0      3.0   \n",
       "4           0  Ferris Buellers Day Off      2              1     1.0      1.0   \n",
       "\n",
       "   Clean  Overall  Age  Income Hear_About  \n",
       "0    2.0      2.0  3.0     1.0          5  \n",
       "1    1.0      1.0  2.0     1.0          5  \n",
       "2    3.0      2.0  4.0     1.0          5  \n",
       "3    2.0      2.0  4.0     1.0          5  \n",
       "4    1.0      1.0  3.0     3.0          1  "
      ]
     },
     "execution_count": 102,
     "metadata": {},
     "output_type": "execute_result"
    }
   ],
   "source": [
    "Ferris_Buellers_Day_Off = films[films.Movie == 'Ferris Buellers Day Off']\n",
    "Ferris_Buellers_Day_Off.head()"
   ]
  },
  {
   "cell_type": "markdown",
   "id": "f4d80277",
   "metadata": {},
   "source": [
    "###  for movie:  'Ferris Buellers Day Off':"
   ]
  },
  {
   "cell_type": "code",
   "execution_count": 104,
   "id": "41bd8285",
   "metadata": {},
   "outputs": [],
   "source": [
    "corr_Ferris_Buellers_Day_Off = Ferris_Buellers_Day_Off.loc[ : : , [ 'Gender', 'Marital_Status', 'Age', 'Income']]"
   ]
  },
  {
   "cell_type": "code",
   "execution_count": 114,
   "id": "066640c7",
   "metadata": {},
   "outputs": [],
   "source": [
    "corr_Ferris_Buellers_Day_Off['Gender'] = corr_Ferris_Buellers_Day_Off.Gender.astype('float64')"
   ]
  },
  {
   "cell_type": "code",
   "execution_count": 115,
   "id": "51eca217",
   "metadata": {},
   "outputs": [],
   "source": [
    "corr_Ferris_Buellers_Day_Off['Marital_Status'] = corr_Ferris_Buellers_Day_Off.Marital_Status.astype('float64')"
   ]
  },
  {
   "cell_type": "code",
   "execution_count": 120,
   "id": "73979a4c",
   "metadata": {},
   "outputs": [
    {
     "data": {
      "text/html": [
       "<div>\n",
       "<style scoped>\n",
       "    .dataframe tbody tr th:only-of-type {\n",
       "        vertical-align: middle;\n",
       "    }\n",
       "\n",
       "    .dataframe tbody tr th {\n",
       "        vertical-align: top;\n",
       "    }\n",
       "\n",
       "    .dataframe thead th {\n",
       "        text-align: right;\n",
       "    }\n",
       "</style>\n",
       "<table border=\"1\" class=\"dataframe\">\n",
       "  <thead>\n",
       "    <tr style=\"text-align: right;\">\n",
       "      <th></th>\n",
       "      <th>Gender</th>\n",
       "      <th>Marital_Status</th>\n",
       "      <th>Age</th>\n",
       "      <th>Income</th>\n",
       "    </tr>\n",
       "  </thead>\n",
       "  <tbody>\n",
       "    <tr>\n",
       "      <th>Gender</th>\n",
       "      <td>1.000000</td>\n",
       "      <td>0.057282</td>\n",
       "      <td>-0.050510</td>\n",
       "      <td>-0.053548</td>\n",
       "    </tr>\n",
       "    <tr>\n",
       "      <th>Marital_Status</th>\n",
       "      <td>0.057282</td>\n",
       "      <td>1.000000</td>\n",
       "      <td>-0.559279</td>\n",
       "      <td>-0.215417</td>\n",
       "    </tr>\n",
       "    <tr>\n",
       "      <th>Age</th>\n",
       "      <td>-0.050510</td>\n",
       "      <td>-0.559279</td>\n",
       "      <td>1.000000</td>\n",
       "      <td>-0.015341</td>\n",
       "    </tr>\n",
       "    <tr>\n",
       "      <th>Income</th>\n",
       "      <td>-0.053548</td>\n",
       "      <td>-0.215417</td>\n",
       "      <td>-0.015341</td>\n",
       "      <td>1.000000</td>\n",
       "    </tr>\n",
       "  </tbody>\n",
       "</table>\n",
       "</div>"
      ],
      "text/plain": [
       "                  Gender  Marital_Status       Age    Income\n",
       "Gender          1.000000        0.057282 -0.050510 -0.053548\n",
       "Marital_Status  0.057282        1.000000 -0.559279 -0.215417\n",
       "Age            -0.050510       -0.559279  1.000000 -0.015341\n",
       "Income         -0.053548       -0.215417 -0.015341  1.000000"
      ]
     },
     "execution_count": 120,
     "metadata": {},
     "output_type": "execute_result"
    }
   ],
   "source": [
    "corr_2 = corr_Ferris_Buellers_Day_Off.corr()\n",
    "corr_2"
   ]
  },
  {
   "cell_type": "markdown",
   "id": "d36a700e",
   "metadata": {},
   "source": [
    "###  for movie:  'Old School':"
   ]
  },
  {
   "cell_type": "code",
   "execution_count": 122,
   "id": "f73be06d",
   "metadata": {},
   "outputs": [],
   "source": [
    "old_school = films[films.Movie == 'Old School']"
   ]
  },
  {
   "cell_type": "code",
   "execution_count": 124,
   "id": "463db472",
   "metadata": {},
   "outputs": [
    {
     "data": {
      "text/html": [
       "<div>\n",
       "<style scoped>\n",
       "    .dataframe tbody tr th:only-of-type {\n",
       "        vertical-align: middle;\n",
       "    }\n",
       "\n",
       "    .dataframe tbody tr th {\n",
       "        vertical-align: top;\n",
       "    }\n",
       "\n",
       "    .dataframe thead th {\n",
       "        text-align: right;\n",
       "    }\n",
       "</style>\n",
       "<table border=\"1\" class=\"dataframe\">\n",
       "  <thead>\n",
       "    <tr style=\"text-align: right;\">\n",
       "      <th></th>\n",
       "      <th>_rowstate_</th>\n",
       "      <th>Movie</th>\n",
       "      <th>Gender</th>\n",
       "      <th>Marital_Status</th>\n",
       "      <th>Sinage</th>\n",
       "      <th>Parking</th>\n",
       "      <th>Clean</th>\n",
       "      <th>Overall</th>\n",
       "      <th>Age</th>\n",
       "      <th>Income</th>\n",
       "      <th>Hear_About</th>\n",
       "    </tr>\n",
       "  </thead>\n",
       "  <tbody>\n",
       "    <tr>\n",
       "      <th>298</th>\n",
       "      <td>0</td>\n",
       "      <td>Old School</td>\n",
       "      <td>2</td>\n",
       "      <td>2</td>\n",
       "      <td>2.0</td>\n",
       "      <td>2.0</td>\n",
       "      <td>2.0</td>\n",
       "      <td>1.0</td>\n",
       "      <td>3.0</td>\n",
       "      <td>2.0</td>\n",
       "      <td>3,4</td>\n",
       "    </tr>\n",
       "    <tr>\n",
       "      <th>299</th>\n",
       "      <td>0</td>\n",
       "      <td>Old School</td>\n",
       "      <td>1</td>\n",
       "      <td>1</td>\n",
       "      <td>1.0</td>\n",
       "      <td>1.0</td>\n",
       "      <td>1.0</td>\n",
       "      <td>1.0</td>\n",
       "      <td>3.0</td>\n",
       "      <td>3.0</td>\n",
       "      <td>5</td>\n",
       "    </tr>\n",
       "    <tr>\n",
       "      <th>300</th>\n",
       "      <td>0</td>\n",
       "      <td>Old School</td>\n",
       "      <td>2</td>\n",
       "      <td>1</td>\n",
       "      <td>1.0</td>\n",
       "      <td>1.0</td>\n",
       "      <td>1.0</td>\n",
       "      <td>1.0</td>\n",
       "      <td>3.0</td>\n",
       "      <td>3.0</td>\n",
       "      <td>5</td>\n",
       "    </tr>\n",
       "    <tr>\n",
       "      <th>301</th>\n",
       "      <td>0</td>\n",
       "      <td>Old School</td>\n",
       "      <td>1</td>\n",
       "      <td>2</td>\n",
       "      <td>1.0</td>\n",
       "      <td>1.0</td>\n",
       "      <td>1.0</td>\n",
       "      <td>1.0</td>\n",
       "      <td>1.0</td>\n",
       "      <td>3.0</td>\n",
       "      <td>5</td>\n",
       "    </tr>\n",
       "    <tr>\n",
       "      <th>302</th>\n",
       "      <td>0</td>\n",
       "      <td>Old School</td>\n",
       "      <td>2</td>\n",
       "      <td>2</td>\n",
       "      <td>5.0</td>\n",
       "      <td>5.0</td>\n",
       "      <td>5.0</td>\n",
       "      <td>5.0</td>\n",
       "      <td>2.0</td>\n",
       "      <td>3.0</td>\n",
       "      <td>5</td>\n",
       "    </tr>\n",
       "  </tbody>\n",
       "</table>\n",
       "</div>"
      ],
      "text/plain": [
       "     _rowstate_       Movie Gender Marital_Status  Sinage  Parking  Clean  \\\n",
       "298           0  Old School      2              2     2.0      2.0    2.0   \n",
       "299           0  Old School      1              1     1.0      1.0    1.0   \n",
       "300           0  Old School      2              1     1.0      1.0    1.0   \n",
       "301           0  Old School      1              2     1.0      1.0    1.0   \n",
       "302           0  Old School      2              2     5.0      5.0    5.0   \n",
       "\n",
       "     Overall  Age  Income Hear_About  \n",
       "298      1.0  3.0     2.0        3,4  \n",
       "299      1.0  3.0     3.0          5  \n",
       "300      1.0  3.0     3.0          5  \n",
       "301      1.0  1.0     3.0          5  \n",
       "302      5.0  2.0     3.0          5  "
      ]
     },
     "execution_count": 124,
     "metadata": {},
     "output_type": "execute_result"
    }
   ],
   "source": [
    "old_school.head()"
   ]
  },
  {
   "cell_type": "code",
   "execution_count": 126,
   "id": "2af40974",
   "metadata": {},
   "outputs": [],
   "source": [
    "corr_old_school = old_school.loc[ : : , [ 'Gender', 'Marital_Status', 'Age', 'Income']]"
   ]
  },
  {
   "cell_type": "code",
   "execution_count": 127,
   "id": "a6eb7a11",
   "metadata": {},
   "outputs": [],
   "source": [
    "corr_old_school['Gender'] = corr_old_school.Gender.astype('float64')\n",
    "corr_old_school['Marital_Status'] = corr_old_school.Marital_Status.astype('float64')"
   ]
  },
  {
   "cell_type": "code",
   "execution_count": 128,
   "id": "3e970af6",
   "metadata": {},
   "outputs": [
    {
     "data": {
      "text/plain": [
       "Gender            float64\n",
       "Marital_Status    float64\n",
       "Age               float64\n",
       "Income            float64\n",
       "dtype: object"
      ]
     },
     "execution_count": 128,
     "metadata": {},
     "output_type": "execute_result"
    }
   ],
   "source": [
    "corr_old_school.dtypes"
   ]
  },
  {
   "cell_type": "code",
   "execution_count": 131,
   "id": "32878b7a",
   "metadata": {},
   "outputs": [
    {
     "data": {
      "text/html": [
       "<div>\n",
       "<style scoped>\n",
       "    .dataframe tbody tr th:only-of-type {\n",
       "        vertical-align: middle;\n",
       "    }\n",
       "\n",
       "    .dataframe tbody tr th {\n",
       "        vertical-align: top;\n",
       "    }\n",
       "\n",
       "    .dataframe thead th {\n",
       "        text-align: right;\n",
       "    }\n",
       "</style>\n",
       "<table border=\"1\" class=\"dataframe\">\n",
       "  <thead>\n",
       "    <tr style=\"text-align: right;\">\n",
       "      <th></th>\n",
       "      <th>Gender</th>\n",
       "      <th>Marital_Status</th>\n",
       "      <th>Age</th>\n",
       "      <th>Income</th>\n",
       "    </tr>\n",
       "  </thead>\n",
       "  <tbody>\n",
       "    <tr>\n",
       "      <th>Gender</th>\n",
       "      <td>1.000000</td>\n",
       "      <td>-0.062797</td>\n",
       "      <td>0.142278</td>\n",
       "      <td>0.128955</td>\n",
       "    </tr>\n",
       "    <tr>\n",
       "      <th>Marital_Status</th>\n",
       "      <td>-0.062797</td>\n",
       "      <td>1.000000</td>\n",
       "      <td>-0.617914</td>\n",
       "      <td>-0.301783</td>\n",
       "    </tr>\n",
       "    <tr>\n",
       "      <th>Age</th>\n",
       "      <td>0.142278</td>\n",
       "      <td>-0.617914</td>\n",
       "      <td>1.000000</td>\n",
       "      <td>0.174912</td>\n",
       "    </tr>\n",
       "    <tr>\n",
       "      <th>Income</th>\n",
       "      <td>0.128955</td>\n",
       "      <td>-0.301783</td>\n",
       "      <td>0.174912</td>\n",
       "      <td>1.000000</td>\n",
       "    </tr>\n",
       "  </tbody>\n",
       "</table>\n",
       "</div>"
      ],
      "text/plain": [
       "                  Gender  Marital_Status       Age    Income\n",
       "Gender          1.000000       -0.062797  0.142278  0.128955\n",
       "Marital_Status -0.062797        1.000000 -0.617914 -0.301783\n",
       "Age             0.142278       -0.617914  1.000000  0.174912\n",
       "Income          0.128955       -0.301783  0.174912  1.000000"
      ]
     },
     "execution_count": 131,
     "metadata": {},
     "output_type": "execute_result"
    }
   ],
   "source": [
    "corr_3 = corr_old_school.corr()\n",
    "corr_3"
   ]
  },
  {
   "cell_type": "code",
   "execution_count": 132,
   "id": "f55d7bab",
   "metadata": {},
   "outputs": [],
   "source": [
    "### Heat maps for all three movies:"
   ]
  },
  {
   "cell_type": "code",
   "execution_count": 141,
   "id": "f9bbe4ed",
   "metadata": {},
   "outputs": [
    {
     "data": {
      "image/png": "[encoded data removed]",
      "text/plain": [
       "<Figure size 640x480 with 2 Axes>"
      ]
     },
     "metadata": {},
     "output_type": "display_data"
    },
    {
     "data": {
      "text/plain": [
       "<Figure size 640x480 with 0 Axes>"
      ]
     },
     "metadata": {},
     "output_type": "display_data"
    }
   ],
   "source": [
    "sns.heatmap(corr_1, annot= True)\n",
    "plt.title(' Movie: Willy Wonka')\n",
    "plt.show()\n",
    "plt.tight_layout()"
   ]
  },
  {
   "cell_type": "code",
   "execution_count": 142,
   "id": "bc92cdb7",
   "metadata": {},
   "outputs": [
    {
     "data": {
      "image/png": "[encoded data removed]",
      "text/plain": [
       "<Figure size 640x480 with 2 Axes>"
      ]
     },
     "metadata": {},
     "output_type": "display_data"
    },
    {
     "data": {
      "text/plain": [
       "<Figure size 640x480 with 0 Axes>"
      ]
     },
     "metadata": {},
     "output_type": "display_data"
    }
   ],
   "source": [
    "sns.heatmap(corr_2, annot= True)\n",
    "plt.title(' Movie: Ferris Buellers Day Off')\n",
    "plt.show()\n",
    "plt.tight_layout()"
   ]
  },
  {
   "cell_type": "code",
   "execution_count": 143,
   "id": "1bddb763",
   "metadata": {},
   "outputs": [
    {
     "data": {
      "image/png": "[encoded data removed]",
      "text/plain": [
       "<Figure size 640x480 with 2 Axes>"
      ]
     },
     "metadata": {},
     "output_type": "display_data"
    },
    {
     "data": {
      "text/plain": [
       "<Figure size 640x480 with 0 Axes>"
      ]
     },
     "metadata": {},
     "output_type": "display_data"
    }
   ],
   "source": [
    "sns.heatmap(corr_3, annot= True)\n",
    "plt.title(' Movie: Old School')\n",
    "plt.show()\n",
    "plt.tight_layout()"
   ]
  },
  {
   "cell_type": "markdown",
   "id": "a4c880cd",
   "metadata": {},
   "source": [
    "### Outcomes :"
   ]
  },
  {
   "cell_type": "markdown",
   "id": "53b30e7f",
   "metadata": {},
   "source": [
    "###            \n",
    "               1. Marital Status has indirect intermediate relation relation with age and income.\n",
    "               2. Gender and hear about has no relation with any of the variable (income, age, marital_status).\n",
    "               3. Age and income has weak direct relation except for movie 'Ferris Buellers Day Off'.\n"
   ]
  },
  {
   "cell_type": "markdown",
   "id": "89980c69",
   "metadata": {},
   "source": [
    "## d) In what media outlet(s) should the film series be advertised?"
   ]
  },
  {
   "cell_type": "code",
   "execution_count": 159,
   "id": "f68244ad",
   "metadata": {},
   "outputs": [
    {
     "data": {
      "text/html": [
       "<div>\n",
       "<style scoped>\n",
       "    .dataframe tbody tr th:only-of-type {\n",
       "        vertical-align: middle;\n",
       "    }\n",
       "\n",
       "    .dataframe tbody tr th {\n",
       "        vertical-align: top;\n",
       "    }\n",
       "\n",
       "    .dataframe thead th {\n",
       "        text-align: right;\n",
       "    }\n",
       "</style>\n",
       "<table border=\"1\" class=\"dataframe\">\n",
       "  <thead>\n",
       "    <tr style=\"text-align: right;\">\n",
       "      <th></th>\n",
       "      <th>Hear_About</th>\n",
       "    </tr>\n",
       "    <tr>\n",
       "      <th>Hear_About</th>\n",
       "      <th></th>\n",
       "    </tr>\n",
       "  </thead>\n",
       "  <tbody>\n",
       "    <tr>\n",
       "      <th>1</th>\n",
       "      <td>22</td>\n",
       "    </tr>\n",
       "    <tr>\n",
       "      <th>1,5</th>\n",
       "      <td>1</td>\n",
       "    </tr>\n",
       "    <tr>\n",
       "      <th>2</th>\n",
       "      <td>12</td>\n",
       "    </tr>\n",
       "    <tr>\n",
       "      <th>2,5</th>\n",
       "      <td>2</td>\n",
       "    </tr>\n",
       "    <tr>\n",
       "      <th>3</th>\n",
       "      <td>14</td>\n",
       "    </tr>\n",
       "  </tbody>\n",
       "</table>\n",
       "</div>"
      ],
      "text/plain": [
       "            Hear_About\n",
       "Hear_About            \n",
       "1                   22\n",
       "1,5                  1\n",
       "2                   12\n",
       "2,5                  2\n",
       "3                   14"
      ]
     },
     "execution_count": 159,
     "metadata": {},
     "output_type": "execute_result"
    }
   ],
   "source": [
    "advertisement = pd.DataFrame(films.groupby('Hear_About').Hear_About.count())\n",
    "advertisement.head()"
   ]
  },
  {
   "cell_type": "code",
   "execution_count": 163,
   "id": "e70cf277",
   "metadata": {},
   "outputs": [],
   "source": [
    "advertisement = advertisement.rename(columns= {'Hear_About' : 'Frequency'})\n",
    "advertisement.sort_values('Frequency', ascending= False, inplace= True)"
   ]
  },
  {
   "cell_type": "code",
   "execution_count": 165,
   "id": "6ab8074b",
   "metadata": {},
   "outputs": [],
   "source": [
    "advertisement['percentage'] = (advertisement.Frequency / advertisement.Frequency.sum()) * 100"
   ]
  },
  {
   "cell_type": "code",
   "execution_count": 166,
   "id": "62db9db9",
   "metadata": {},
   "outputs": [
    {
     "data": {
      "text/html": [
       "<div>\n",
       "<style scoped>\n",
       "    .dataframe tbody tr th:only-of-type {\n",
       "        vertical-align: middle;\n",
       "    }\n",
       "\n",
       "    .dataframe tbody tr th {\n",
       "        vertical-align: top;\n",
       "    }\n",
       "\n",
       "    .dataframe thead th {\n",
       "        text-align: right;\n",
       "    }\n",
       "</style>\n",
       "<table border=\"1\" class=\"dataframe\">\n",
       "  <thead>\n",
       "    <tr style=\"text-align: right;\">\n",
       "      <th></th>\n",
       "      <th>Frequency</th>\n",
       "      <th>percentage</th>\n",
       "    </tr>\n",
       "    <tr>\n",
       "      <th>Hear_About</th>\n",
       "      <th></th>\n",
       "      <th></th>\n",
       "    </tr>\n",
       "  </thead>\n",
       "  <tbody>\n",
       "    <tr>\n",
       "      <th>5</th>\n",
       "      <td>233</td>\n",
       "      <td>70.606061</td>\n",
       "    </tr>\n",
       "    <tr>\n",
       "      <th>4</th>\n",
       "      <td>41</td>\n",
       "      <td>12.424242</td>\n",
       "    </tr>\n",
       "    <tr>\n",
       "      <th>1</th>\n",
       "      <td>22</td>\n",
       "      <td>6.666667</td>\n",
       "    </tr>\n",
       "    <tr>\n",
       "      <th>3</th>\n",
       "      <td>14</td>\n",
       "      <td>4.242424</td>\n",
       "    </tr>\n",
       "    <tr>\n",
       "      <th>2</th>\n",
       "      <td>12</td>\n",
       "      <td>3.636364</td>\n",
       "    </tr>\n",
       "    <tr>\n",
       "      <th>2,5</th>\n",
       "      <td>2</td>\n",
       "      <td>0.606061</td>\n",
       "    </tr>\n",
       "    <tr>\n",
       "      <th>3,4</th>\n",
       "      <td>2</td>\n",
       "      <td>0.606061</td>\n",
       "    </tr>\n",
       "    <tr>\n",
       "      <th>1,5</th>\n",
       "      <td>1</td>\n",
       "      <td>0.303030</td>\n",
       "    </tr>\n",
       "    <tr>\n",
       "      <th>3,5</th>\n",
       "      <td>1</td>\n",
       "      <td>0.303030</td>\n",
       "    </tr>\n",
       "    <tr>\n",
       "      <th>4,5</th>\n",
       "      <td>1</td>\n",
       "      <td>0.303030</td>\n",
       "    </tr>\n",
       "    <tr>\n",
       "      <th>5,4</th>\n",
       "      <td>1</td>\n",
       "      <td>0.303030</td>\n",
       "    </tr>\n",
       "  </tbody>\n",
       "</table>\n",
       "</div>"
      ],
      "text/plain": [
       "            Frequency  percentage\n",
       "Hear_About                       \n",
       "5                 233   70.606061\n",
       "4                  41   12.424242\n",
       "1                  22    6.666667\n",
       "3                  14    4.242424\n",
       "2                  12    3.636364\n",
       "2,5                 2    0.606061\n",
       "3,4                 2    0.606061\n",
       "1,5                 1    0.303030\n",
       "3,5                 1    0.303030\n",
       "4,5                 1    0.303030\n",
       "5,4                 1    0.303030"
      ]
     },
     "execution_count": 166,
     "metadata": {},
     "output_type": "execute_result"
    }
   ],
   "source": [
    "advertisement"
   ]
  },
  {
   "cell_type": "markdown",
   "id": "16fdc4ba",
   "metadata": {},
   "source": [
    "### The patron’s response to this question: “How did you hear about Film on the Rocks?” Respondents could check any of the following that applied: 1 = television; 2 = newspaper; 3 = radio; 4 = website; 5 = word of mouth"
   ]
  },
  {
   "cell_type": "markdown",
   "id": "28d6e576",
   "metadata": {},
   "source": [
    "### Around 70% of people hear about film by word of mouth but we shouldn't advertise using word of mouth. So going to secong highest option which is website."
   ]
  },
  {
   "cell_type": "markdown",
   "id": "d5d593f0",
   "metadata": {},
   "source": [
    "### So, film series should be advertise through 'WEBSITE'"
   ]
  },
  {
   "cell_type": "code",
   "execution_count": null,
   "id": "f75f1576",
   "metadata": {},
   "outputs": [],
   "source": []
  }
 ],
 "metadata": {
  "kernelspec": {
   "display_name": "Python 3 (ipykernel)",
   "language": "python",
   "name": "python3"
  },
  "language_info": {
   "codemirror_mode": {
    "name": "ipython",
    "version": 3
   },
   "file_extension": ".py",
   "mimetype": "text/x-python",
   "name": "python",
   "nbconvert_exporter": "python",
   "pygments_lexer": "ipython3",
   "version": "3.10.9"
  }
 },
 "nbformat": 4,
 "nbformat_minor": 5
}
